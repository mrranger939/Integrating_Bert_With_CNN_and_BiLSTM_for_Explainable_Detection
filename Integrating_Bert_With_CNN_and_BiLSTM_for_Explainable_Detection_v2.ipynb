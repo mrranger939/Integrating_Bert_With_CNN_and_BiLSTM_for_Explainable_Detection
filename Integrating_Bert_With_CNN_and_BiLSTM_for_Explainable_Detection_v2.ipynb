{
  "nbformat": 4,
  "nbformat_minor": 0,
  "metadata": {
    "colab": {
      "provenance": [],
      "gpuType": "T4"
    },
    "kernelspec": {
      "name": "python3",
      "display_name": "Python 3"
    },
    "language_info": {
      "name": "python"
    },
    "accelerator": "GPU"
  },
  "cells": [
    {
      "cell_type": "code",
      "execution_count": 1,
      "metadata": {
        "colab": {
          "base_uri": "https://localhost:8080/"
        },
        "id": "eVmWxhOxMtdi",
        "outputId": "d7b29e0e-d8bb-4e10-a5ba-6c552af9701f"
      },
      "outputs": [
        {
          "output_type": "stream",
          "name": "stdout",
          "text": [
            "Using Colab cache for faster access to the 'depression-reddit-cleaned' dataset.\n",
            "Path to dataset files: /kaggle/input/depression-reddit-cleaned\n"
          ]
        }
      ],
      "source": [
        "import kagglehub\n",
        "\n",
        "# Download latest version\n",
        "path = kagglehub.dataset_download(\"infamouscoder/depression-reddit-cleaned\")\n",
        "\n",
        "print(\"Path to dataset files:\", path)"
      ]
    },
    {
      "cell_type": "code",
      "source": [
        "import os"
      ],
      "metadata": {
        "id": "08ZMWSQuM2ju"
      },
      "execution_count": 2,
      "outputs": []
    },
    {
      "cell_type": "code",
      "source": [
        "os.listdir(path)"
      ],
      "metadata": {
        "colab": {
          "base_uri": "https://localhost:8080/"
        },
        "id": "5ShJpLWPSgpg",
        "outputId": "ddb48b58-4e20-4c33-d571-5d1446c6278d"
      },
      "execution_count": 3,
      "outputs": [
        {
          "output_type": "execute_result",
          "data": {
            "text/plain": [
              "['depression_dataset_reddit_cleaned.csv']"
            ]
          },
          "metadata": {},
          "execution_count": 3
        }
      ]
    },
    {
      "cell_type": "code",
      "source": [
        "import pandas as pd\n"
      ],
      "metadata": {
        "id": "uv1540-kSmZx"
      },
      "execution_count": 4,
      "outputs": []
    },
    {
      "cell_type": "code",
      "source": [
        "df =pd.read_csv(f'{path}/depression_dataset_reddit_cleaned.csv')"
      ],
      "metadata": {
        "id": "cMAIAu1XSqHx"
      },
      "execution_count": 5,
      "outputs": []
    },
    {
      "cell_type": "code",
      "source": [
        "df.head()"
      ],
      "metadata": {
        "colab": {
          "base_uri": "https://localhost:8080/",
          "height": 206
        },
        "id": "4lB8E6CZSyIQ",
        "outputId": "137cbd89-a7db-4e5a-8f7e-f5feca94e7c4"
      },
      "execution_count": 6,
      "outputs": [
        {
          "output_type": "execute_result",
          "data": {
            "text/plain": [
              "                                          clean_text  is_depression\n",
              "0  we understand that most people who reply immed...              1\n",
              "1  welcome to r depression s check in post a plac...              1\n",
              "2  anyone else instead of sleeping more when depr...              1\n",
              "3  i ve kind of stuffed around a lot in my life d...              1\n",
              "4  sleep is my greatest and most comforting escap...              1"
            ],
            "text/html": [
              "\n",
              "  <div id=\"df-70ad1ccc-9d7e-4534-8271-0b4ceeb75e69\" class=\"colab-df-container\">\n",
              "    <div>\n",
              "<style scoped>\n",
              "    .dataframe tbody tr th:only-of-type {\n",
              "        vertical-align: middle;\n",
              "    }\n",
              "\n",
              "    .dataframe tbody tr th {\n",
              "        vertical-align: top;\n",
              "    }\n",
              "\n",
              "    .dataframe thead th {\n",
              "        text-align: right;\n",
              "    }\n",
              "</style>\n",
              "<table border=\"1\" class=\"dataframe\">\n",
              "  <thead>\n",
              "    <tr style=\"text-align: right;\">\n",
              "      <th></th>\n",
              "      <th>clean_text</th>\n",
              "      <th>is_depression</th>\n",
              "    </tr>\n",
              "  </thead>\n",
              "  <tbody>\n",
              "    <tr>\n",
              "      <th>0</th>\n",
              "      <td>we understand that most people who reply immed...</td>\n",
              "      <td>1</td>\n",
              "    </tr>\n",
              "    <tr>\n",
              "      <th>1</th>\n",
              "      <td>welcome to r depression s check in post a plac...</td>\n",
              "      <td>1</td>\n",
              "    </tr>\n",
              "    <tr>\n",
              "      <th>2</th>\n",
              "      <td>anyone else instead of sleeping more when depr...</td>\n",
              "      <td>1</td>\n",
              "    </tr>\n",
              "    <tr>\n",
              "      <th>3</th>\n",
              "      <td>i ve kind of stuffed around a lot in my life d...</td>\n",
              "      <td>1</td>\n",
              "    </tr>\n",
              "    <tr>\n",
              "      <th>4</th>\n",
              "      <td>sleep is my greatest and most comforting escap...</td>\n",
              "      <td>1</td>\n",
              "    </tr>\n",
              "  </tbody>\n",
              "</table>\n",
              "</div>\n",
              "    <div class=\"colab-df-buttons\">\n",
              "\n",
              "  <div class=\"colab-df-container\">\n",
              "    <button class=\"colab-df-convert\" onclick=\"convertToInteractive('df-70ad1ccc-9d7e-4534-8271-0b4ceeb75e69')\"\n",
              "            title=\"Convert this dataframe to an interactive table.\"\n",
              "            style=\"display:none;\">\n",
              "\n",
              "  <svg xmlns=\"http://www.w3.org/2000/svg\" height=\"24px\" viewBox=\"0 -960 960 960\">\n",
              "    <path d=\"M120-120v-720h720v720H120Zm60-500h600v-160H180v160Zm220 220h160v-160H400v160Zm0 220h160v-160H400v160ZM180-400h160v-160H180v160Zm440 0h160v-160H620v160ZM180-180h160v-160H180v160Zm440 0h160v-160H620v160Z\"/>\n",
              "  </svg>\n",
              "    </button>\n",
              "\n",
              "  <style>\n",
              "    .colab-df-container {\n",
              "      display:flex;\n",
              "      gap: 12px;\n",
              "    }\n",
              "\n",
              "    .colab-df-convert {\n",
              "      background-color: #E8F0FE;\n",
              "      border: none;\n",
              "      border-radius: 50%;\n",
              "      cursor: pointer;\n",
              "      display: none;\n",
              "      fill: #1967D2;\n",
              "      height: 32px;\n",
              "      padding: 0 0 0 0;\n",
              "      width: 32px;\n",
              "    }\n",
              "\n",
              "    .colab-df-convert:hover {\n",
              "      background-color: #E2EBFA;\n",
              "      box-shadow: 0px 1px 2px rgba(60, 64, 67, 0.3), 0px 1px 3px 1px rgba(60, 64, 67, 0.15);\n",
              "      fill: #174EA6;\n",
              "    }\n",
              "\n",
              "    .colab-df-buttons div {\n",
              "      margin-bottom: 4px;\n",
              "    }\n",
              "\n",
              "    [theme=dark] .colab-df-convert {\n",
              "      background-color: #3B4455;\n",
              "      fill: #D2E3FC;\n",
              "    }\n",
              "\n",
              "    [theme=dark] .colab-df-convert:hover {\n",
              "      background-color: #434B5C;\n",
              "      box-shadow: 0px 1px 3px 1px rgba(0, 0, 0, 0.15);\n",
              "      filter: drop-shadow(0px 1px 2px rgba(0, 0, 0, 0.3));\n",
              "      fill: #FFFFFF;\n",
              "    }\n",
              "  </style>\n",
              "\n",
              "    <script>\n",
              "      const buttonEl =\n",
              "        document.querySelector('#df-70ad1ccc-9d7e-4534-8271-0b4ceeb75e69 button.colab-df-convert');\n",
              "      buttonEl.style.display =\n",
              "        google.colab.kernel.accessAllowed ? 'block' : 'none';\n",
              "\n",
              "      async function convertToInteractive(key) {\n",
              "        const element = document.querySelector('#df-70ad1ccc-9d7e-4534-8271-0b4ceeb75e69');\n",
              "        const dataTable =\n",
              "          await google.colab.kernel.invokeFunction('convertToInteractive',\n",
              "                                                    [key], {});\n",
              "        if (!dataTable) return;\n",
              "\n",
              "        const docLinkHtml = 'Like what you see? Visit the ' +\n",
              "          '<a target=\"_blank\" href=https://colab.research.google.com/notebooks/data_table.ipynb>data table notebook</a>'\n",
              "          + ' to learn more about interactive tables.';\n",
              "        element.innerHTML = '';\n",
              "        dataTable['output_type'] = 'display_data';\n",
              "        await google.colab.output.renderOutput(dataTable, element);\n",
              "        const docLink = document.createElement('div');\n",
              "        docLink.innerHTML = docLinkHtml;\n",
              "        element.appendChild(docLink);\n",
              "      }\n",
              "    </script>\n",
              "  </div>\n",
              "\n",
              "\n",
              "    <div id=\"df-df20a98e-f3d7-41b0-bd9a-a674ed6c5eae\">\n",
              "      <button class=\"colab-df-quickchart\" onclick=\"quickchart('df-df20a98e-f3d7-41b0-bd9a-a674ed6c5eae')\"\n",
              "                title=\"Suggest charts\"\n",
              "                style=\"display:none;\">\n",
              "\n",
              "<svg xmlns=\"http://www.w3.org/2000/svg\" height=\"24px\"viewBox=\"0 0 24 24\"\n",
              "     width=\"24px\">\n",
              "    <g>\n",
              "        <path d=\"M19 3H5c-1.1 0-2 .9-2 2v14c0 1.1.9 2 2 2h14c1.1 0 2-.9 2-2V5c0-1.1-.9-2-2-2zM9 17H7v-7h2v7zm4 0h-2V7h2v10zm4 0h-2v-4h2v4z\"/>\n",
              "    </g>\n",
              "</svg>\n",
              "      </button>\n",
              "\n",
              "<style>\n",
              "  .colab-df-quickchart {\n",
              "      --bg-color: #E8F0FE;\n",
              "      --fill-color: #1967D2;\n",
              "      --hover-bg-color: #E2EBFA;\n",
              "      --hover-fill-color: #174EA6;\n",
              "      --disabled-fill-color: #AAA;\n",
              "      --disabled-bg-color: #DDD;\n",
              "  }\n",
              "\n",
              "  [theme=dark] .colab-df-quickchart {\n",
              "      --bg-color: #3B4455;\n",
              "      --fill-color: #D2E3FC;\n",
              "      --hover-bg-color: #434B5C;\n",
              "      --hover-fill-color: #FFFFFF;\n",
              "      --disabled-bg-color: #3B4455;\n",
              "      --disabled-fill-color: #666;\n",
              "  }\n",
              "\n",
              "  .colab-df-quickchart {\n",
              "    background-color: var(--bg-color);\n",
              "    border: none;\n",
              "    border-radius: 50%;\n",
              "    cursor: pointer;\n",
              "    display: none;\n",
              "    fill: var(--fill-color);\n",
              "    height: 32px;\n",
              "    padding: 0;\n",
              "    width: 32px;\n",
              "  }\n",
              "\n",
              "  .colab-df-quickchart:hover {\n",
              "    background-color: var(--hover-bg-color);\n",
              "    box-shadow: 0 1px 2px rgba(60, 64, 67, 0.3), 0 1px 3px 1px rgba(60, 64, 67, 0.15);\n",
              "    fill: var(--button-hover-fill-color);\n",
              "  }\n",
              "\n",
              "  .colab-df-quickchart-complete:disabled,\n",
              "  .colab-df-quickchart-complete:disabled:hover {\n",
              "    background-color: var(--disabled-bg-color);\n",
              "    fill: var(--disabled-fill-color);\n",
              "    box-shadow: none;\n",
              "  }\n",
              "\n",
              "  .colab-df-spinner {\n",
              "    border: 2px solid var(--fill-color);\n",
              "    border-color: transparent;\n",
              "    border-bottom-color: var(--fill-color);\n",
              "    animation:\n",
              "      spin 1s steps(1) infinite;\n",
              "  }\n",
              "\n",
              "  @keyframes spin {\n",
              "    0% {\n",
              "      border-color: transparent;\n",
              "      border-bottom-color: var(--fill-color);\n",
              "      border-left-color: var(--fill-color);\n",
              "    }\n",
              "    20% {\n",
              "      border-color: transparent;\n",
              "      border-left-color: var(--fill-color);\n",
              "      border-top-color: var(--fill-color);\n",
              "    }\n",
              "    30% {\n",
              "      border-color: transparent;\n",
              "      border-left-color: var(--fill-color);\n",
              "      border-top-color: var(--fill-color);\n",
              "      border-right-color: var(--fill-color);\n",
              "    }\n",
              "    40% {\n",
              "      border-color: transparent;\n",
              "      border-right-color: var(--fill-color);\n",
              "      border-top-color: var(--fill-color);\n",
              "    }\n",
              "    60% {\n",
              "      border-color: transparent;\n",
              "      border-right-color: var(--fill-color);\n",
              "    }\n",
              "    80% {\n",
              "      border-color: transparent;\n",
              "      border-right-color: var(--fill-color);\n",
              "      border-bottom-color: var(--fill-color);\n",
              "    }\n",
              "    90% {\n",
              "      border-color: transparent;\n",
              "      border-bottom-color: var(--fill-color);\n",
              "    }\n",
              "  }\n",
              "</style>\n",
              "\n",
              "      <script>\n",
              "        async function quickchart(key) {\n",
              "          const quickchartButtonEl =\n",
              "            document.querySelector('#' + key + ' button');\n",
              "          quickchartButtonEl.disabled = true;  // To prevent multiple clicks.\n",
              "          quickchartButtonEl.classList.add('colab-df-spinner');\n",
              "          try {\n",
              "            const charts = await google.colab.kernel.invokeFunction(\n",
              "                'suggestCharts', [key], {});\n",
              "          } catch (error) {\n",
              "            console.error('Error during call to suggestCharts:', error);\n",
              "          }\n",
              "          quickchartButtonEl.classList.remove('colab-df-spinner');\n",
              "          quickchartButtonEl.classList.add('colab-df-quickchart-complete');\n",
              "        }\n",
              "        (() => {\n",
              "          let quickchartButtonEl =\n",
              "            document.querySelector('#df-df20a98e-f3d7-41b0-bd9a-a674ed6c5eae button');\n",
              "          quickchartButtonEl.style.display =\n",
              "            google.colab.kernel.accessAllowed ? 'block' : 'none';\n",
              "        })();\n",
              "      </script>\n",
              "    </div>\n",
              "\n",
              "    </div>\n",
              "  </div>\n"
            ],
            "application/vnd.google.colaboratory.intrinsic+json": {
              "type": "dataframe",
              "variable_name": "df",
              "summary": "{\n  \"name\": \"df\",\n  \"rows\": 7731,\n  \"fields\": [\n    {\n      \"column\": \"clean_text\",\n      \"properties\": {\n        \"dtype\": \"string\",\n        \"num_unique_values\": 7650,\n        \"samples\": [\n          \"this is a long story i m sorry me and my ex broke up year ago but we remained friend but i still loved her and still do to this day after month she stopped talking to me because of this when we were together i never lied to her well i only lied about thing and it s about why i tried km when i wa to this day no one know the real reason maybe my friend bc i almost slipped about it i treated her like a queen we lived 0 hour away from each other and i saved up k to go see her when we were together for gas and my dad stayed at a hotel i wa at the time every anniversary i wrote a very long paragraph maybe on why i love her and how beautiful she is at st it wa every sunday of the week we started dating on sunday then the 9th of every month we lasted 0 month together each paragraph wa different and never said the same thing i did this to help make her feel better about herself because she wa ashamed of her body and i could tell she wa depressed i wanted her to be happy i bought her a lot of gift and always asked how her day went btw i m very poor and at the time i mowed lawn to make money 0 a week during spring and summer i m allergic to grass and been doing it since i wa we broke up and she told me because she wa gay but we can still be friend i quit my job month after bc of depression we had a discord server that contained her brother and their friend there wa this guy that we always played with and me her her brother and the guy played doki doki at st he wa nice then when they left he wa very mean to me saying thing like she doesn t like you just leave why are you even trying and so on i never said anything because i didn t want to ruin any friend ship i wish i said something instantly we all played overwatch together also well i tried to stop playing with just him and only play with her i said it wa bc of my anxiety but the real reason wa bc of him month later she stopped talking to me because i still loved her this is where and why i might be gone soon warning i m going to say graphic thing plz know i don t want attention i just want my story to be told if i do leave day my phobia is being alone and she helped me forget a terrible memory when i wa the real reason that no one know about i wa scarred i regret doing all of this i made 0 account on insta saying sorry and emailed her sorry also plz know i regret doing all of this and understand i wa in a dark place still doesn t justify my action some time after that i wa dmed on insta to go km and other horrible thing i tried telling her but she looked at the screen shot and just blocked me then it happened again then again i wa being told to go km and other thing for month straight even wa bullied by her bf at the same time i screen shotted what he said to me also in the middle of all this my mom oded and wa in a hospital for a week i had no one to talk to i tried cry out for help to her no response i tried cry out for help about the guy telling me to km for month no response she is the only able to stop him she never really tried the only ppl who tried to get them to stop wa me and my friend he wa the only help i had on christmas and easter i also emailed her saying i hope her and her family is ok because covid wa bad and her family is like family to me i worry and care about them a lot still wa being told to km and messaged by her bf i started cutting month of being told to km i stopped a little while ago since i wa still being told to km and bullied by her bf and no change wa happening i cried for help to her parent i showed them the screen shot of what her bf said to me and told them about the person who we still don t know who told me to km later i got a message from her saying that not only she regret our relationship but she is scarred of me and i have to apologize to my friend who wa helping me through all of this btw i don t have the gut to yell at someone bc i ll have a mental break down bc of past trauma parent always yelled at me and i dont have the gut to hurt anyone mentally or physically unless it s to protect my friend or family i m a very protective person of who i love and like when i read this i wa badly hurt i started doing drug not weed bc the smell make me want to vomit and ill never try it but whippet wa accident but made pain go away so i kept doing it some time later my dad got cancer he s doesn t anymore it got removed right away but while he wa gone i had a bad mental break down and i did a free therapy trail online i forgot the website but i did this with different email so i had session i did it for her bc she always told me to get professional help i got told i might have severe adult separation anxiety i have nightmare every night about losing her still to this day i said a lot more infact i told them everything and they told me that they can t officially diagnose me with it because they wanted to talk to me more but i m poor i can t afford that but i then had no one so i cried for help to her last time i wa scarred her dad texted me to never message he again that night i did a full inhale of whippet and tried to km i had seziure idk how to spell and woke up the next day no one checked in on me i woke up on my floor that wa the last time i ever did that some time later her bf messaged me again it wa a pic of him and her kissing making a heart of their hand he said just give up she doesn t love you and never ha i showed the screen shot to some friend and then deleted it bc it wa painful to look at what am i sopose to do cry for help i can t to this day he message me mocking me but she ll never believe me not only i can t tell her but i don t think she even care i also later found out the real reason why she broke up with me wa bc i wa too clingy not only did my friend tell me this her bf did also everyone who i told this story to tell me she cheated on me that there s no way someone would let this happen if they cared about me after i treated her with respect like that during our relationship i don t think she cheated on me she would never do that i tried going out with other girl but i cant bc it feel like i m cheating on her even tho we re not dating it feel wrong i still love her and i always will even tho she never asked if i wa ok when i wa being told to km which hurt badly i still love her the only reason i m alive is because of my hope a nd chance with her but it s dying and i want to die b my hope dy or i m going to die when my hope dy which mean i ll have no happiness left the st time i felt happiness wa when she said yes to going out i cried that night bc i never felt that b bc of childhood i just want her to at least ask if i m ok just to prove my thought wrong to prove that she still care to keep me going i love you and i always will if you some how see this i know you re tired of seeing this but i m sorry plz know if i do lose the battle i lasted this long for you i hope you re proud of me and if you do message me i might come out about the real reason why i can t let go and for whoever read this long thank you i hope you have a great life be safe idk if i typed this but i haven t done drug in a year won t be on this account a lot only to vent it s a alt account i m just trying to get help even tho the only help that will help me is her saying anything nice to me idk when but when my limit is reached bc of her bf and friend and all the past crap they said to me i plan on going 00mph to a pole i already know where i m going to do it it s not like she care anyways i get told to go km for month and bullied to this day and not once ask if i m ok i doubt she ll be sad my thought are telling me she ll be happier if i m dead i get harassed i get yelled at for cry for help i get told to km i get yelled at for cry for help\",\n          \"just getting home it snowing\",\n          \"i want to kill myself but i dont want to die i got my result and i barely passed when my dad get to know he s gon na hit me im really scared i tried my best i really did but i cant focus i dont want to die please tell me to kill myself\"\n        ],\n        \"semantic_type\": \"\",\n        \"description\": \"\"\n      }\n    },\n    {\n      \"column\": \"is_depression\",\n      \"properties\": {\n        \"dtype\": \"number\",\n        \"std\": 0,\n        \"min\": 0,\n        \"max\": 1,\n        \"num_unique_values\": 2,\n        \"samples\": [\n          0,\n          1\n        ],\n        \"semantic_type\": \"\",\n        \"description\": \"\"\n      }\n    }\n  ]\n}"
            }
          },
          "metadata": {},
          "execution_count": 6
        }
      ]
    },
    {
      "cell_type": "code",
      "source": [
        "df.info()"
      ],
      "metadata": {
        "colab": {
          "base_uri": "https://localhost:8080/"
        },
        "id": "dXfqPJcrSzDc",
        "outputId": "d91d4021-f903-42a6-b054-9eb572b0c8b3"
      },
      "execution_count": 7,
      "outputs": [
        {
          "output_type": "stream",
          "name": "stdout",
          "text": [
            "<class 'pandas.core.frame.DataFrame'>\n",
            "RangeIndex: 7731 entries, 0 to 7730\n",
            "Data columns (total 2 columns):\n",
            " #   Column         Non-Null Count  Dtype \n",
            "---  ------         --------------  ----- \n",
            " 0   clean_text     7731 non-null   object\n",
            " 1   is_depression  7731 non-null   int64 \n",
            "dtypes: int64(1), object(1)\n",
            "memory usage: 120.9+ KB\n"
          ]
        }
      ]
    },
    {
      "cell_type": "code",
      "source": [
        "import re"
      ],
      "metadata": {
        "id": "5vhVzfpDS4oV"
      },
      "execution_count": 8,
      "outputs": []
    },
    {
      "cell_type": "code",
      "source": [
        "def clean_text_data(text):\n",
        "    \"\"\"\n",
        "    Removes URLs, @mentions, and hashtags from a string.\n",
        "    \"\"\"\n",
        "    # Remove URLs\n",
        "    text = re.sub(r'http\\S+|www\\S+|https\\S+', '', text, flags=re.MULTILINE)\n",
        "    # Remove @mentions\n",
        "    text = re.sub(r'@\\w+', '', text)\n",
        "    # Remove hashtags\n",
        "    text = re.sub(r'#\\w+', '', text)\n",
        "    return text"
      ],
      "metadata": {
        "id": "ZDmRMN4tcvQb"
      },
      "execution_count": 9,
      "outputs": []
    },
    {
      "cell_type": "code",
      "source": [
        "df['processed_text'] = df['clean_text'].apply(clean_text_data)"
      ],
      "metadata": {
        "id": "TybveNdaczu_"
      },
      "execution_count": 10,
      "outputs": []
    },
    {
      "cell_type": "code",
      "source": [
        "df.head()"
      ],
      "metadata": {
        "colab": {
          "base_uri": "https://localhost:8080/",
          "height": 206
        },
        "id": "zws5wL_ec20F",
        "outputId": "d376800d-49e7-4bef-fe53-1ce89a99f04d"
      },
      "execution_count": 11,
      "outputs": [
        {
          "output_type": "execute_result",
          "data": {
            "text/plain": [
              "                                          clean_text  is_depression  \\\n",
              "0  we understand that most people who reply immed...              1   \n",
              "1  welcome to r depression s check in post a plac...              1   \n",
              "2  anyone else instead of sleeping more when depr...              1   \n",
              "3  i ve kind of stuffed around a lot in my life d...              1   \n",
              "4  sleep is my greatest and most comforting escap...              1   \n",
              "\n",
              "                                      processed_text  \n",
              "0  we understand that most people who reply immed...  \n",
              "1  welcome to r depression s check in post a plac...  \n",
              "2  anyone else instead of sleeping more when depr...  \n",
              "3  i ve kind of stuffed around a lot in my life d...  \n",
              "4  sleep is my greatest and most comforting escap...  "
            ],
            "text/html": [
              "\n",
              "  <div id=\"df-d37227c9-3be2-4500-9657-3a56385c4287\" class=\"colab-df-container\">\n",
              "    <div>\n",
              "<style scoped>\n",
              "    .dataframe tbody tr th:only-of-type {\n",
              "        vertical-align: middle;\n",
              "    }\n",
              "\n",
              "    .dataframe tbody tr th {\n",
              "        vertical-align: top;\n",
              "    }\n",
              "\n",
              "    .dataframe thead th {\n",
              "        text-align: right;\n",
              "    }\n",
              "</style>\n",
              "<table border=\"1\" class=\"dataframe\">\n",
              "  <thead>\n",
              "    <tr style=\"text-align: right;\">\n",
              "      <th></th>\n",
              "      <th>clean_text</th>\n",
              "      <th>is_depression</th>\n",
              "      <th>processed_text</th>\n",
              "    </tr>\n",
              "  </thead>\n",
              "  <tbody>\n",
              "    <tr>\n",
              "      <th>0</th>\n",
              "      <td>we understand that most people who reply immed...</td>\n",
              "      <td>1</td>\n",
              "      <td>we understand that most people who reply immed...</td>\n",
              "    </tr>\n",
              "    <tr>\n",
              "      <th>1</th>\n",
              "      <td>welcome to r depression s check in post a plac...</td>\n",
              "      <td>1</td>\n",
              "      <td>welcome to r depression s check in post a plac...</td>\n",
              "    </tr>\n",
              "    <tr>\n",
              "      <th>2</th>\n",
              "      <td>anyone else instead of sleeping more when depr...</td>\n",
              "      <td>1</td>\n",
              "      <td>anyone else instead of sleeping more when depr...</td>\n",
              "    </tr>\n",
              "    <tr>\n",
              "      <th>3</th>\n",
              "      <td>i ve kind of stuffed around a lot in my life d...</td>\n",
              "      <td>1</td>\n",
              "      <td>i ve kind of stuffed around a lot in my life d...</td>\n",
              "    </tr>\n",
              "    <tr>\n",
              "      <th>4</th>\n",
              "      <td>sleep is my greatest and most comforting escap...</td>\n",
              "      <td>1</td>\n",
              "      <td>sleep is my greatest and most comforting escap...</td>\n",
              "    </tr>\n",
              "  </tbody>\n",
              "</table>\n",
              "</div>\n",
              "    <div class=\"colab-df-buttons\">\n",
              "\n",
              "  <div class=\"colab-df-container\">\n",
              "    <button class=\"colab-df-convert\" onclick=\"convertToInteractive('df-d37227c9-3be2-4500-9657-3a56385c4287')\"\n",
              "            title=\"Convert this dataframe to an interactive table.\"\n",
              "            style=\"display:none;\">\n",
              "\n",
              "  <svg xmlns=\"http://www.w3.org/2000/svg\" height=\"24px\" viewBox=\"0 -960 960 960\">\n",
              "    <path d=\"M120-120v-720h720v720H120Zm60-500h600v-160H180v160Zm220 220h160v-160H400v160Zm0 220h160v-160H400v160ZM180-400h160v-160H180v160Zm440 0h160v-160H620v160ZM180-180h160v-160H180v160Zm440 0h160v-160H620v160Z\"/>\n",
              "  </svg>\n",
              "    </button>\n",
              "\n",
              "  <style>\n",
              "    .colab-df-container {\n",
              "      display:flex;\n",
              "      gap: 12px;\n",
              "    }\n",
              "\n",
              "    .colab-df-convert {\n",
              "      background-color: #E8F0FE;\n",
              "      border: none;\n",
              "      border-radius: 50%;\n",
              "      cursor: pointer;\n",
              "      display: none;\n",
              "      fill: #1967D2;\n",
              "      height: 32px;\n",
              "      padding: 0 0 0 0;\n",
              "      width: 32px;\n",
              "    }\n",
              "\n",
              "    .colab-df-convert:hover {\n",
              "      background-color: #E2EBFA;\n",
              "      box-shadow: 0px 1px 2px rgba(60, 64, 67, 0.3), 0px 1px 3px 1px rgba(60, 64, 67, 0.15);\n",
              "      fill: #174EA6;\n",
              "    }\n",
              "\n",
              "    .colab-df-buttons div {\n",
              "      margin-bottom: 4px;\n",
              "    }\n",
              "\n",
              "    [theme=dark] .colab-df-convert {\n",
              "      background-color: #3B4455;\n",
              "      fill: #D2E3FC;\n",
              "    }\n",
              "\n",
              "    [theme=dark] .colab-df-convert:hover {\n",
              "      background-color: #434B5C;\n",
              "      box-shadow: 0px 1px 3px 1px rgba(0, 0, 0, 0.15);\n",
              "      filter: drop-shadow(0px 1px 2px rgba(0, 0, 0, 0.3));\n",
              "      fill: #FFFFFF;\n",
              "    }\n",
              "  </style>\n",
              "\n",
              "    <script>\n",
              "      const buttonEl =\n",
              "        document.querySelector('#df-d37227c9-3be2-4500-9657-3a56385c4287 button.colab-df-convert');\n",
              "      buttonEl.style.display =\n",
              "        google.colab.kernel.accessAllowed ? 'block' : 'none';\n",
              "\n",
              "      async function convertToInteractive(key) {\n",
              "        const element = document.querySelector('#df-d37227c9-3be2-4500-9657-3a56385c4287');\n",
              "        const dataTable =\n",
              "          await google.colab.kernel.invokeFunction('convertToInteractive',\n",
              "                                                    [key], {});\n",
              "        if (!dataTable) return;\n",
              "\n",
              "        const docLinkHtml = 'Like what you see? Visit the ' +\n",
              "          '<a target=\"_blank\" href=https://colab.research.google.com/notebooks/data_table.ipynb>data table notebook</a>'\n",
              "          + ' to learn more about interactive tables.';\n",
              "        element.innerHTML = '';\n",
              "        dataTable['output_type'] = 'display_data';\n",
              "        await google.colab.output.renderOutput(dataTable, element);\n",
              "        const docLink = document.createElement('div');\n",
              "        docLink.innerHTML = docLinkHtml;\n",
              "        element.appendChild(docLink);\n",
              "      }\n",
              "    </script>\n",
              "  </div>\n",
              "\n",
              "\n",
              "    <div id=\"df-e0ede446-7a5a-4605-96e7-4868e879a84d\">\n",
              "      <button class=\"colab-df-quickchart\" onclick=\"quickchart('df-e0ede446-7a5a-4605-96e7-4868e879a84d')\"\n",
              "                title=\"Suggest charts\"\n",
              "                style=\"display:none;\">\n",
              "\n",
              "<svg xmlns=\"http://www.w3.org/2000/svg\" height=\"24px\"viewBox=\"0 0 24 24\"\n",
              "     width=\"24px\">\n",
              "    <g>\n",
              "        <path d=\"M19 3H5c-1.1 0-2 .9-2 2v14c0 1.1.9 2 2 2h14c1.1 0 2-.9 2-2V5c0-1.1-.9-2-2-2zM9 17H7v-7h2v7zm4 0h-2V7h2v10zm4 0h-2v-4h2v4z\"/>\n",
              "    </g>\n",
              "</svg>\n",
              "      </button>\n",
              "\n",
              "<style>\n",
              "  .colab-df-quickchart {\n",
              "      --bg-color: #E8F0FE;\n",
              "      --fill-color: #1967D2;\n",
              "      --hover-bg-color: #E2EBFA;\n",
              "      --hover-fill-color: #174EA6;\n",
              "      --disabled-fill-color: #AAA;\n",
              "      --disabled-bg-color: #DDD;\n",
              "  }\n",
              "\n",
              "  [theme=dark] .colab-df-quickchart {\n",
              "      --bg-color: #3B4455;\n",
              "      --fill-color: #D2E3FC;\n",
              "      --hover-bg-color: #434B5C;\n",
              "      --hover-fill-color: #FFFFFF;\n",
              "      --disabled-bg-color: #3B4455;\n",
              "      --disabled-fill-color: #666;\n",
              "  }\n",
              "\n",
              "  .colab-df-quickchart {\n",
              "    background-color: var(--bg-color);\n",
              "    border: none;\n",
              "    border-radius: 50%;\n",
              "    cursor: pointer;\n",
              "    display: none;\n",
              "    fill: var(--fill-color);\n",
              "    height: 32px;\n",
              "    padding: 0;\n",
              "    width: 32px;\n",
              "  }\n",
              "\n",
              "  .colab-df-quickchart:hover {\n",
              "    background-color: var(--hover-bg-color);\n",
              "    box-shadow: 0 1px 2px rgba(60, 64, 67, 0.3), 0 1px 3px 1px rgba(60, 64, 67, 0.15);\n",
              "    fill: var(--button-hover-fill-color);\n",
              "  }\n",
              "\n",
              "  .colab-df-quickchart-complete:disabled,\n",
              "  .colab-df-quickchart-complete:disabled:hover {\n",
              "    background-color: var(--disabled-bg-color);\n",
              "    fill: var(--disabled-fill-color);\n",
              "    box-shadow: none;\n",
              "  }\n",
              "\n",
              "  .colab-df-spinner {\n",
              "    border: 2px solid var(--fill-color);\n",
              "    border-color: transparent;\n",
              "    border-bottom-color: var(--fill-color);\n",
              "    animation:\n",
              "      spin 1s steps(1) infinite;\n",
              "  }\n",
              "\n",
              "  @keyframes spin {\n",
              "    0% {\n",
              "      border-color: transparent;\n",
              "      border-bottom-color: var(--fill-color);\n",
              "      border-left-color: var(--fill-color);\n",
              "    }\n",
              "    20% {\n",
              "      border-color: transparent;\n",
              "      border-left-color: var(--fill-color);\n",
              "      border-top-color: var(--fill-color);\n",
              "    }\n",
              "    30% {\n",
              "      border-color: transparent;\n",
              "      border-left-color: var(--fill-color);\n",
              "      border-top-color: var(--fill-color);\n",
              "      border-right-color: var(--fill-color);\n",
              "    }\n",
              "    40% {\n",
              "      border-color: transparent;\n",
              "      border-right-color: var(--fill-color);\n",
              "      border-top-color: var(--fill-color);\n",
              "    }\n",
              "    60% {\n",
              "      border-color: transparent;\n",
              "      border-right-color: var(--fill-color);\n",
              "    }\n",
              "    80% {\n",
              "      border-color: transparent;\n",
              "      border-right-color: var(--fill-color);\n",
              "      border-bottom-color: var(--fill-color);\n",
              "    }\n",
              "    90% {\n",
              "      border-color: transparent;\n",
              "      border-bottom-color: var(--fill-color);\n",
              "    }\n",
              "  }\n",
              "</style>\n",
              "\n",
              "      <script>\n",
              "        async function quickchart(key) {\n",
              "          const quickchartButtonEl =\n",
              "            document.querySelector('#' + key + ' button');\n",
              "          quickchartButtonEl.disabled = true;  // To prevent multiple clicks.\n",
              "          quickchartButtonEl.classList.add('colab-df-spinner');\n",
              "          try {\n",
              "            const charts = await google.colab.kernel.invokeFunction(\n",
              "                'suggestCharts', [key], {});\n",
              "          } catch (error) {\n",
              "            console.error('Error during call to suggestCharts:', error);\n",
              "          }\n",
              "          quickchartButtonEl.classList.remove('colab-df-spinner');\n",
              "          quickchartButtonEl.classList.add('colab-df-quickchart-complete');\n",
              "        }\n",
              "        (() => {\n",
              "          let quickchartButtonEl =\n",
              "            document.querySelector('#df-e0ede446-7a5a-4605-96e7-4868e879a84d button');\n",
              "          quickchartButtonEl.style.display =\n",
              "            google.colab.kernel.accessAllowed ? 'block' : 'none';\n",
              "        })();\n",
              "      </script>\n",
              "    </div>\n",
              "\n",
              "    </div>\n",
              "  </div>\n"
            ],
            "application/vnd.google.colaboratory.intrinsic+json": {
              "type": "dataframe",
              "variable_name": "df",
              "summary": "{\n  \"name\": \"df\",\n  \"rows\": 7731,\n  \"fields\": [\n    {\n      \"column\": \"clean_text\",\n      \"properties\": {\n        \"dtype\": \"string\",\n        \"num_unique_values\": 7650,\n        \"samples\": [\n          \"this is a long story i m sorry me and my ex broke up year ago but we remained friend but i still loved her and still do to this day after month she stopped talking to me because of this when we were together i never lied to her well i only lied about thing and it s about why i tried km when i wa to this day no one know the real reason maybe my friend bc i almost slipped about it i treated her like a queen we lived 0 hour away from each other and i saved up k to go see her when we were together for gas and my dad stayed at a hotel i wa at the time every anniversary i wrote a very long paragraph maybe on why i love her and how beautiful she is at st it wa every sunday of the week we started dating on sunday then the 9th of every month we lasted 0 month together each paragraph wa different and never said the same thing i did this to help make her feel better about herself because she wa ashamed of her body and i could tell she wa depressed i wanted her to be happy i bought her a lot of gift and always asked how her day went btw i m very poor and at the time i mowed lawn to make money 0 a week during spring and summer i m allergic to grass and been doing it since i wa we broke up and she told me because she wa gay but we can still be friend i quit my job month after bc of depression we had a discord server that contained her brother and their friend there wa this guy that we always played with and me her her brother and the guy played doki doki at st he wa nice then when they left he wa very mean to me saying thing like she doesn t like you just leave why are you even trying and so on i never said anything because i didn t want to ruin any friend ship i wish i said something instantly we all played overwatch together also well i tried to stop playing with just him and only play with her i said it wa bc of my anxiety but the real reason wa bc of him month later she stopped talking to me because i still loved her this is where and why i might be gone soon warning i m going to say graphic thing plz know i don t want attention i just want my story to be told if i do leave day my phobia is being alone and she helped me forget a terrible memory when i wa the real reason that no one know about i wa scarred i regret doing all of this i made 0 account on insta saying sorry and emailed her sorry also plz know i regret doing all of this and understand i wa in a dark place still doesn t justify my action some time after that i wa dmed on insta to go km and other horrible thing i tried telling her but she looked at the screen shot and just blocked me then it happened again then again i wa being told to go km and other thing for month straight even wa bullied by her bf at the same time i screen shotted what he said to me also in the middle of all this my mom oded and wa in a hospital for a week i had no one to talk to i tried cry out for help to her no response i tried cry out for help about the guy telling me to km for month no response she is the only able to stop him she never really tried the only ppl who tried to get them to stop wa me and my friend he wa the only help i had on christmas and easter i also emailed her saying i hope her and her family is ok because covid wa bad and her family is like family to me i worry and care about them a lot still wa being told to km and messaged by her bf i started cutting month of being told to km i stopped a little while ago since i wa still being told to km and bullied by her bf and no change wa happening i cried for help to her parent i showed them the screen shot of what her bf said to me and told them about the person who we still don t know who told me to km later i got a message from her saying that not only she regret our relationship but she is scarred of me and i have to apologize to my friend who wa helping me through all of this btw i don t have the gut to yell at someone bc i ll have a mental break down bc of past trauma parent always yelled at me and i dont have the gut to hurt anyone mentally or physically unless it s to protect my friend or family i m a very protective person of who i love and like when i read this i wa badly hurt i started doing drug not weed bc the smell make me want to vomit and ill never try it but whippet wa accident but made pain go away so i kept doing it some time later my dad got cancer he s doesn t anymore it got removed right away but while he wa gone i had a bad mental break down and i did a free therapy trail online i forgot the website but i did this with different email so i had session i did it for her bc she always told me to get professional help i got told i might have severe adult separation anxiety i have nightmare every night about losing her still to this day i said a lot more infact i told them everything and they told me that they can t officially diagnose me with it because they wanted to talk to me more but i m poor i can t afford that but i then had no one so i cried for help to her last time i wa scarred her dad texted me to never message he again that night i did a full inhale of whippet and tried to km i had seziure idk how to spell and woke up the next day no one checked in on me i woke up on my floor that wa the last time i ever did that some time later her bf messaged me again it wa a pic of him and her kissing making a heart of their hand he said just give up she doesn t love you and never ha i showed the screen shot to some friend and then deleted it bc it wa painful to look at what am i sopose to do cry for help i can t to this day he message me mocking me but she ll never believe me not only i can t tell her but i don t think she even care i also later found out the real reason why she broke up with me wa bc i wa too clingy not only did my friend tell me this her bf did also everyone who i told this story to tell me she cheated on me that there s no way someone would let this happen if they cared about me after i treated her with respect like that during our relationship i don t think she cheated on me she would never do that i tried going out with other girl but i cant bc it feel like i m cheating on her even tho we re not dating it feel wrong i still love her and i always will even tho she never asked if i wa ok when i wa being told to km which hurt badly i still love her the only reason i m alive is because of my hope a nd chance with her but it s dying and i want to die b my hope dy or i m going to die when my hope dy which mean i ll have no happiness left the st time i felt happiness wa when she said yes to going out i cried that night bc i never felt that b bc of childhood i just want her to at least ask if i m ok just to prove my thought wrong to prove that she still care to keep me going i love you and i always will if you some how see this i know you re tired of seeing this but i m sorry plz know if i do lose the battle i lasted this long for you i hope you re proud of me and if you do message me i might come out about the real reason why i can t let go and for whoever read this long thank you i hope you have a great life be safe idk if i typed this but i haven t done drug in a year won t be on this account a lot only to vent it s a alt account i m just trying to get help even tho the only help that will help me is her saying anything nice to me idk when but when my limit is reached bc of her bf and friend and all the past crap they said to me i plan on going 00mph to a pole i already know where i m going to do it it s not like she care anyways i get told to go km for month and bullied to this day and not once ask if i m ok i doubt she ll be sad my thought are telling me she ll be happier if i m dead i get harassed i get yelled at for cry for help i get told to km i get yelled at for cry for help\",\n          \"just getting home it snowing\",\n          \"i want to kill myself but i dont want to die i got my result and i barely passed when my dad get to know he s gon na hit me im really scared i tried my best i really did but i cant focus i dont want to die please tell me to kill myself\"\n        ],\n        \"semantic_type\": \"\",\n        \"description\": \"\"\n      }\n    },\n    {\n      \"column\": \"is_depression\",\n      \"properties\": {\n        \"dtype\": \"number\",\n        \"std\": 0,\n        \"min\": 0,\n        \"max\": 1,\n        \"num_unique_values\": 2,\n        \"samples\": [\n          0,\n          1\n        ],\n        \"semantic_type\": \"\",\n        \"description\": \"\"\n      }\n    },\n    {\n      \"column\": \"processed_text\",\n      \"properties\": {\n        \"dtype\": \"string\",\n        \"num_unique_values\": 7650,\n        \"samples\": [\n          \"this is a long story i m sorry me and my ex broke up year ago but we remained friend but i still loved her and still do to this day after month she stopped talking to me because of this when we were together i never lied to her well i only lied about thing and it s about why i tried km when i wa to this day no one know the real reason maybe my friend bc i almost slipped about it i treated her like a queen we lived 0 hour away from each other and i saved up k to go see her when we were together for gas and my dad stayed at a hotel i wa at the time every anniversary i wrote a very long paragraph maybe on why i love her and how beautiful she is at st it wa every sunday of the week we started dating on sunday then the 9th of every month we lasted 0 month together each paragraph wa different and never said the same thing i did this to help make her feel better about herself because she wa ashamed of her body and i could tell she wa depressed i wanted her to be happy i bought her a lot of gift and always asked how her day went btw i m very poor and at the time i mowed lawn to make money 0 a week during spring and summer i m allergic to grass and been doing it since i wa we broke up and she told me because she wa gay but we can still be friend i quit my job month after bc of depression we had a discord server that contained her brother and their friend there wa this guy that we always played with and me her her brother and the guy played doki doki at st he wa nice then when they left he wa very mean to me saying thing like she doesn t like you just leave why are you even trying and so on i never said anything because i didn t want to ruin any friend ship i wish i said something instantly we all played overwatch together also well i tried to stop playing with just him and only play with her i said it wa bc of my anxiety but the real reason wa bc of him month later she stopped talking to me because i still loved her this is where and why i might be gone soon warning i m going to say graphic thing plz know i don t want attention i just want my story to be told if i do leave day my phobia is being alone and she helped me forget a terrible memory when i wa the real reason that no one know about i wa scarred i regret doing all of this i made 0 account on insta saying sorry and emailed her sorry also plz know i regret doing all of this and understand i wa in a dark place still doesn t justify my action some time after that i wa dmed on insta to go km and other horrible thing i tried telling her but she looked at the screen shot and just blocked me then it happened again then again i wa being told to go km and other thing for month straight even wa bullied by her bf at the same time i screen shotted what he said to me also in the middle of all this my mom oded and wa in a hospital for a week i had no one to talk to i tried cry out for help to her no response i tried cry out for help about the guy telling me to km for month no response she is the only able to stop him she never really tried the only ppl who tried to get them to stop wa me and my friend he wa the only help i had on christmas and easter i also emailed her saying i hope her and her family is ok because covid wa bad and her family is like family to me i worry and care about them a lot still wa being told to km and messaged by her bf i started cutting month of being told to km i stopped a little while ago since i wa still being told to km and bullied by her bf and no change wa happening i cried for help to her parent i showed them the screen shot of what her bf said to me and told them about the person who we still don t know who told me to km later i got a message from her saying that not only she regret our relationship but she is scarred of me and i have to apologize to my friend who wa helping me through all of this btw i don t have the gut to yell at someone bc i ll have a mental break down bc of past trauma parent always yelled at me and i dont have the gut to hurt anyone mentally or physically unless it s to protect my friend or family i m a very protective person of who i love and like when i read this i wa badly hurt i started doing drug not weed bc the smell make me want to vomit and ill never try it but whippet wa accident but made pain go away so i kept doing it some time later my dad got cancer he s doesn t anymore it got removed right away but while he wa gone i had a bad mental break down and i did a free therapy trail online i forgot the website but i did this with different email so i had session i did it for her bc she always told me to get professional help i got told i might have severe adult separation anxiety i have nightmare every night about losing her still to this day i said a lot more infact i told them everything and they told me that they can t officially diagnose me with it because they wanted to talk to me more but i m poor i can t afford that but i then had no one so i cried for help to her last time i wa scarred her dad texted me to never message he again that night i did a full inhale of whippet and tried to km i had seziure idk how to spell and woke up the next day no one checked in on me i woke up on my floor that wa the last time i ever did that some time later her bf messaged me again it wa a pic of him and her kissing making a heart of their hand he said just give up she doesn t love you and never ha i showed the screen shot to some friend and then deleted it bc it wa painful to look at what am i sopose to do cry for help i can t to this day he message me mocking me but she ll never believe me not only i can t tell her but i don t think she even care i also later found out the real reason why she broke up with me wa bc i wa too clingy not only did my friend tell me this her bf did also everyone who i told this story to tell me she cheated on me that there s no way someone would let this happen if they cared about me after i treated her with respect like that during our relationship i don t think she cheated on me she would never do that i tried going out with other girl but i cant bc it feel like i m cheating on her even tho we re not dating it feel wrong i still love her and i always will even tho she never asked if i wa ok when i wa being told to km which hurt badly i still love her the only reason i m alive is because of my hope a nd chance with her but it s dying and i want to die b my hope dy or i m going to die when my hope dy which mean i ll have no happiness left the st time i felt happiness wa when she said yes to going out i cried that night bc i never felt that b bc of childhood i just want her to at least ask if i m ok just to prove my thought wrong to prove that she still care to keep me going i love you and i always will if you some how see this i know you re tired of seeing this but i m sorry plz know if i do lose the battle i lasted this long for you i hope you re proud of me and if you do message me i might come out about the real reason why i can t let go and for whoever read this long thank you i hope you have a great life be safe idk if i typed this but i haven t done drug in a year won t be on this account a lot only to vent it s a alt account i m just trying to get help even tho the only help that will help me is her saying anything nice to me idk when but when my limit is reached bc of her bf and friend and all the past crap they said to me i plan on going 00mph to a pole i already know where i m going to do it it s not like she care anyways i get told to go km for month and bullied to this day and not once ask if i m ok i doubt she ll be sad my thought are telling me she ll be happier if i m dead i get harassed i get yelled at for cry for help i get told to km i get yelled at for cry for help\",\n          \"just getting home it snowing\"\n        ],\n        \"semantic_type\": \"\",\n        \"description\": \"\"\n      }\n    }\n  ]\n}"
            }
          },
          "metadata": {},
          "execution_count": 11
        }
      ]
    },
    {
      "cell_type": "code",
      "source": [
        "!pip install transformers"
      ],
      "metadata": {
        "colab": {
          "base_uri": "https://localhost:8080/"
        },
        "id": "CrCrxqwAc-7P",
        "outputId": "a138fcb7-dfa9-4723-cbaf-edbd91aa9b05"
      },
      "execution_count": 12,
      "outputs": [
        {
          "output_type": "stream",
          "name": "stdout",
          "text": [
            "Requirement already satisfied: transformers in /usr/local/lib/python3.12/dist-packages (4.56.0)\n",
            "Requirement already satisfied: filelock in /usr/local/lib/python3.12/dist-packages (from transformers) (3.19.1)\n",
            "Requirement already satisfied: huggingface-hub<1.0,>=0.34.0 in /usr/local/lib/python3.12/dist-packages (from transformers) (0.34.4)\n",
            "Requirement already satisfied: numpy>=1.17 in /usr/local/lib/python3.12/dist-packages (from transformers) (1.26.4)\n",
            "Requirement already satisfied: packaging>=20.0 in /usr/local/lib/python3.12/dist-packages (from transformers) (25.0)\n",
            "Requirement already satisfied: pyyaml>=5.1 in /usr/local/lib/python3.12/dist-packages (from transformers) (6.0.2)\n",
            "Requirement already satisfied: regex!=2019.12.17 in /usr/local/lib/python3.12/dist-packages (from transformers) (2024.11.6)\n",
            "Requirement already satisfied: requests in /usr/local/lib/python3.12/dist-packages (from transformers) (2.32.4)\n",
            "Requirement already satisfied: tokenizers<=0.23.0,>=0.22.0 in /usr/local/lib/python3.12/dist-packages (from transformers) (0.22.0)\n",
            "Requirement already satisfied: safetensors>=0.4.3 in /usr/local/lib/python3.12/dist-packages (from transformers) (0.6.2)\n",
            "Requirement already satisfied: tqdm>=4.27 in /usr/local/lib/python3.12/dist-packages (from transformers) (4.67.1)\n",
            "Requirement already satisfied: fsspec>=2023.5.0 in /usr/local/lib/python3.12/dist-packages (from huggingface-hub<1.0,>=0.34.0->transformers) (2025.3.0)\n",
            "Requirement already satisfied: typing-extensions>=3.7.4.3 in /usr/local/lib/python3.12/dist-packages (from huggingface-hub<1.0,>=0.34.0->transformers) (4.15.0)\n",
            "Requirement already satisfied: hf-xet<2.0.0,>=1.1.3 in /usr/local/lib/python3.12/dist-packages (from huggingface-hub<1.0,>=0.34.0->transformers) (1.1.9)\n",
            "Requirement already satisfied: charset_normalizer<4,>=2 in /usr/local/lib/python3.12/dist-packages (from requests->transformers) (3.4.3)\n",
            "Requirement already satisfied: idna<4,>=2.5 in /usr/local/lib/python3.12/dist-packages (from requests->transformers) (3.10)\n",
            "Requirement already satisfied: urllib3<3,>=1.21.1 in /usr/local/lib/python3.12/dist-packages (from requests->transformers) (2.5.0)\n",
            "Requirement already satisfied: certifi>=2017.4.17 in /usr/local/lib/python3.12/dist-packages (from requests->transformers) (2025.8.3)\n"
          ]
        }
      ]
    },
    {
      "cell_type": "code",
      "source": [
        "from transformers import BertTokenizerFast\n",
        "\n",
        "# 1. Load the tokenizer for the 'bert-base-uncased' model\n",
        "tokenizer = BertTokenizerFast.from_pretrained('bert-base-uncased')\n",
        "\n",
        "# 2. Taking one example\n",
        "example_text = df['processed_text'].iloc[0]\n",
        "print(f\"Original Text: {example_text}\\n\")\n",
        "\n",
        "# 3. Tokenize the example text\n",
        "# The paper mentions key parameters we'll need later, like a max length of 512.\n",
        "encoded_output = tokenizer(example_text)\n",
        "\n",
        "print(\"Tokenizer Output:\")\n",
        "print(encoded_output)\n",
        "\n",
        "# we can also see the actual tokens (subwords)\n",
        "tokens = tokenizer.convert_ids_to_tokens(encoded_output['input_ids'])\n",
        "print(\"\\nTokens:\")\n",
        "print(tokens)"
      ],
      "metadata": {
        "colab": {
          "base_uri": "https://localhost:8080/"
        },
        "id": "wl6lScrKdA3V",
        "outputId": "bbfdb546-6cb1-4676-d664-fa862ad4a368"
      },
      "execution_count": 13,
      "outputs": [
        {
          "output_type": "stream",
          "name": "stderr",
          "text": [
            "/usr/local/lib/python3.12/dist-packages/huggingface_hub/utils/_auth.py:94: UserWarning: \n",
            "The secret `HF_TOKEN` does not exist in your Colab secrets.\n",
            "To authenticate with the Hugging Face Hub, create a token in your settings tab (https://huggingface.co/settings/tokens), set it as secret in your Google Colab and restart your session.\n",
            "You will be able to reuse this secret in all of your notebooks.\n",
            "Please note that authentication is recommended but still optional to access public models or datasets.\n",
            "  warnings.warn(\n",
            "Token indices sequence length is longer than the specified maximum sequence length for this model (856 > 512). Running this sequence through the model will result in indexing errors\n"
          ]
        },
        {
          "output_type": "stream",
          "name": "stdout",
          "text": [
            "Original Text: we understand that most people who reply immediately to an op with an invitation to talk privately mean only to help but this type of response usually lead to either disappointment or disaster it usually work out quite differently here than when you say pm me anytime in a casual social context we have huge admiration and appreciation for the goodwill and good citizenship of so many of you who support others here and flag inappropriate content even more so because we know that so many of you are struggling yourselves we re hard at work behind the scene on more information and resource to make it easier to give and get quality help here this is just a small start our new wiki page explains in detail why it s much better to respond in public comment at least until you ve gotten to know someone it will be maintained at r depression wiki private contact and the full text of the current version is below summary anyone who while acting a a helper invite or accepts private contact i e pm chat or any kind of offsite communication early in the conversion is showing either bad intention or bad judgement either way it s unwise to trust them pm me anytime seems like a kind and generous offer and it might be perfectly well meaning but unless and until a solid rapport ha been established it s just not a wise idea here are some point to consider before you offer or accept an invitation to communicate privately by posting supportive reply publicly you ll help more people than just the op if your response are of good quality you ll educate and inspire other helper the 9 90 rule http en wikipedia org wiki rule internet culture applies here a much a it doe anywhere else on the internet people who are struggling with serious mental health issue often justifiably have a low tolerance for disappointment and a high level of ever changing emotional need unless the helper is able to make a 00 commitment to be there for them in every way for a long a necessary offering a personal inbox a a resource is likely to do more harm than good this is why mental health crisis line responder usually don t give their name and caller aren t allowed to request specific responder it s much healthier and safer for the caller to develop a relationship with the agency a a whole analogously it s much safer and healthier for our ops to develop a relationship with the community a a whole even trained responder are generally not allowed to work high intensity situation alone it s partly about availability but it s mostly about wider perspective and preventing compassion fatigue if a helper get in over their head with someone whose mental health issue including suicidality which is often comorbid with depression escalate in a pm conversation it s much harder for others including the r depression and r suicidewatch moderator to help contrary to common assumption moderator can t see or police pm in our observation over many year the people who say pm me the most are consistently the one with the least understanding of mental health issue and mental health support we all have gap in our knowledge and in our ability to communicate effectively community input mitigates these limitation there s no reason why someone who s truly here to help would want to hide their response from community scrutiny if helper are concerned about their own privacy keep in mind that self disclosure when used supportively is more about the feeling than the detail and that we have no problem here with the use of alt throwaway account and have no restriction on account age or karma we all know the internet is used by some people to exploit or abuse others these people do want to hide their deceptive and manipulative response from everyone except their victim there are many of them who specifically target those who are vulnerable because of mental health issue if a helper invite an op to talk privately and give them a good supportive experience they ve primed that person to be more vulnerable to abuser this sort of cognitive priming tends to be particularly effective when someone s in a state of mental health crisis when people rely more on heuristic than critical reasoning if ops want to talk privately posting on a wide open anonymous forum like reddit might not be the best option although we don t recommend it we do allow ops to request private contact when asking for support if you want to do this please keep your expectation realistic and to have a careful look at the history of anyone who offer to pm before opening up to them\n",
            "\n",
            "Tokenizer Output:\n",
            "{'input_ids': [101, 2057, 3305, 2008, 2087, 2111, 2040, 7514, 3202, 2000, 2019, 6728, 2007, 2019, 8468, 2000, 2831, 9139, 2812, 2069, 2000, 2393, 2021, 2023, 2828, 1997, 3433, 2788, 2599, 2000, 2593, 10520, 2030, 7071, 2009, 2788, 2147, 2041, 3243, 11543, 2182, 2084, 2043, 2017, 2360, 7610, 2033, 15933, 1999, 1037, 10017, 2591, 6123, 2057, 2031, 4121, 17005, 1998, 12284, 2005, 1996, 22875, 1998, 2204, 9068, 1997, 2061, 2116, 1997, 2017, 2040, 2490, 2500, 2182, 1998, 5210, 15884, 4180, 2130, 2062, 2061, 2138, 2057, 2113, 2008, 2061, 2116, 1997, 2017, 2024, 8084, 25035, 2057, 2128, 2524, 2012, 2147, 2369, 1996, 3496, 2006, 2062, 2592, 1998, 7692, 2000, 2191, 2009, 6082, 2000, 2507, 1998, 2131, 3737, 2393, 2182, 2023, 2003, 2074, 1037, 2235, 2707, 2256, 2047, 15536, 3211, 3931, 7607, 1999, 6987, 2339, 2009, 1055, 2172, 2488, 2000, 6869, 1999, 2270, 7615, 2012, 2560, 2127, 2017, 2310, 5407, 2000, 2113, 2619, 2009, 2097, 2022, 5224, 2012, 1054, 6245, 15536, 3211, 2797, 3967, 1998, 1996, 2440, 3793, 1997, 1996, 2783, 2544, 2003, 2917, 12654, 3087, 2040, 2096, 3772, 1037, 1037, 2393, 2121, 13260, 2030, 13385, 2797, 3967, 1045, 1041, 7610, 11834, 2030, 2151, 2785, 1997, 12446, 4221, 4807, 2220, 1999, 1996, 7584, 2003, 4760, 2593, 2919, 6808, 2030, 2919, 16646, 2593, 2126, 2009, 1055, 4895, 14244, 2000, 3404, 2068, 7610, 2033, 15933, 3849, 2066, 1037, 2785, 1998, 12382, 3749, 1998, 2009, 2453, 2022, 6669, 2092, 3574, 2021, 4983, 1998, 2127, 1037, 5024, 9680, 6442, 5292, 2042, 2511, 2009, 1055, 2074, 2025, 1037, 7968, 2801, 2182, 2024, 2070, 2391, 2000, 5136, 2077, 2017, 3749, 2030, 5138, 2019, 8468, 2000, 10639, 9139, 2011, 14739, 16408, 7514, 7271, 2017, 2222, 2393, 2062, 2111, 2084, 2074, 1996, 6728, 2065, 2115, 3433, 2024, 1997, 2204, 3737, 2017, 2222, 16957, 1998, 18708, 2060, 2393, 2121, 1996, 1023, 3938, 3627, 8299, 4372, 16948, 8917, 15536, 3211, 3627, 4274, 3226, 12033, 2182, 1037, 2172, 1037, 2009, 18629, 5973, 2842, 2006, 1996, 4274, 2111, 2040, 2024, 8084, 2007, 3809, 5177, 2740, 3277, 2411, 2074, 10128, 2401, 6321, 2031, 1037, 2659, 13986, 2005, 10520, 1998, 1037, 2152, 2504, 1997, 2412, 5278, 6832, 2342, 4983, 1996, 2393, 2121, 2003, 2583, 2000, 2191, 1037, 4002, 8426, 2000, 2022, 2045, 2005, 2068, 1999, 2296, 2126, 2005, 1037, 2146, 1037, 4072, 5378, 1037, 3167, 1999, 8758, 1037, 1037, 7692, 2003, 3497, 2000, 2079, 2062, 7386, 2084, 2204, 2023, 2003, 2339, 5177, 2740, 5325, 2240, 6869, 2121, 2788, 2123, 1056, 2507, 2037, 2171, 1998, 20587, 4995, 1056, 3039, 2000, 5227, 3563, 6869, 2121, 2009, 1055, 2172, 2740, 3771, 1998, 13726, 2005, 1996, 20587, 2000, 4503, 1037, 3276, 2007, 1996, 4034, 1037, 1037, 2878, 19639, 2135, 2009, 1055, 2172, 13726, 1998, 2740, 3771, 2005, 2256, 23092, 2000, 4503, 1037, 3276, 2007, 1996, 2451, 1037, 1037, 2878, 2130, 4738, 6869, 2121, 2024, 3227, 2025, 3039, 2000, 2147, 2152, 8015, 3663, 2894, 2009, 1055, 6576, 2055, 11343, 2021, 2009, 1055, 3262, 2055, 7289, 7339, 1998, 10723, 15398, 16342, 2065, 1037, 2393, 2121, 2131, 1999, 2058, 2037, 2132, 2007, 2619, 3005, 5177, 2740, 3277, 2164, 26094, 3012, 2029, 2003, 2411, 18609, 15185, 3593, 2007, 6245, 9686, 25015, 2618, 1999, 1037, 7610, 4512, 2009, 1055, 2172, 6211, 2005, 2500, 2164, 1996, 1054, 6245, 1998, 1054, 5920, 18866, 29420, 2000, 2393, 10043, 2000, 2691, 11213, 29420, 2064, 1056, 2156, 2030, 2610, 7610, 1999, 2256, 8089, 2058, 2116, 2095, 1996, 2111, 2040, 2360, 7610, 2033, 1996, 2087, 2024, 10862, 1996, 2028, 2007, 1996, 2560, 4824, 1997, 5177, 2740, 3277, 1998, 5177, 2740, 2490, 2057, 2035, 2031, 6578, 1999, 2256, 3716, 1998, 1999, 2256, 3754, 2000, 10639, 6464, 2451, 7953, 10210, 28731, 2015, 2122, 22718, 2045, 1055, 2053, 3114, 2339, 2619, 2040, 1055, 5621, 2182, 2000, 2393, 2052, 2215, 2000, 5342, 2037, 3433, 2013, 2451, 17423, 2065, 2393, 2121, 2024, 4986, 2055, 2037, 2219, 9394, 2562, 1999, 2568, 2008, 2969, 19380, 2043, 2109, 16408, 2135, 2003, 2062, 2055, 1996, 3110, 2084, 1996, 6987, 1998, 2008, 2057, 2031, 2053, 3291, 2182, 2007, 1996, 2224, 1997, 12456, 5466, 9497, 4070, 1998, 2031, 2053, 16840, 2006, 4070, 2287, 2030, 19902, 2057, 2035, 2113, 1996, 4274, 2003, 2109, 2011, 2070, 2111, 2000, 18077, 2030, 6905, 2500, 2122, 2111, 2079, 2215, 2000, 5342, 2037, 11703, 22048, 1998, 23624, 14289, 26255, 3433, 2013, 3071, 3272, 2037, 6778, 2045, 2024, 2116, 1997, 2068, 2040, 4919, 4539, 2216, 2040, 2024, 8211, 2138, 1997, 5177, 2740, 3277, 2065, 1037, 2393, 2121, 13260, 2019, 6728, 2000, 2831, 9139, 1998, 2507, 2068, 1037, 2204, 16408, 3325, 2027, 2310, 3539, 2094, 2008, 2711, 2000, 2022, 2062, 8211, 2000, 6905, 2099, 2023, 4066, 1997, 10699, 26927, 6562, 12102, 2000, 2022, 3391, 4621, 2043, 2619, 1055, 1999, 1037, 2110, 1997, 5177, 2740, 5325, 2043, 2111, 11160, 2062, 2006, 2002, 9496, 10074, 2084, 4187, 13384, 2065, 23092, 2215, 2000, 2831, 9139, 14739, 2006, 1037, 2898, 2330, 10812, 7057, 2066, 2417, 23194, 2453, 2025, 2022, 1996, 2190, 5724, 2348, 2057, 2123, 1056, 16755, 2009, 2057, 2079, 3499, 23092, 2000, 5227, 2797, 3967, 2043, 4851, 2005, 2490, 2065, 2017, 2215, 2000, 2079, 2023, 3531, 2562, 2115, 17626, 12689, 1998, 2000, 2031, 1037, 6176, 2298, 2012, 1996, 2381, 1997, 3087, 2040, 3749, 2000, 7610, 2077, 3098, 2039, 2000, 2068, 102], 'token_type_ids': [0, 0, 0, 0, 0, 0, 0, 0, 0, 0, 0, 0, 0, 0, 0, 0, 0, 0, 0, 0, 0, 0, 0, 0, 0, 0, 0, 0, 0, 0, 0, 0, 0, 0, 0, 0, 0, 0, 0, 0, 0, 0, 0, 0, 0, 0, 0, 0, 0, 0, 0, 0, 0, 0, 0, 0, 0, 0, 0, 0, 0, 0, 0, 0, 0, 0, 0, 0, 0, 0, 0, 0, 0, 0, 0, 0, 0, 0, 0, 0, 0, 0, 0, 0, 0, 0, 0, 0, 0, 0, 0, 0, 0, 0, 0, 0, 0, 0, 0, 0, 0, 0, 0, 0, 0, 0, 0, 0, 0, 0, 0, 0, 0, 0, 0, 0, 0, 0, 0, 0, 0, 0, 0, 0, 0, 0, 0, 0, 0, 0, 0, 0, 0, 0, 0, 0, 0, 0, 0, 0, 0, 0, 0, 0, 0, 0, 0, 0, 0, 0, 0, 0, 0, 0, 0, 0, 0, 0, 0, 0, 0, 0, 0, 0, 0, 0, 0, 0, 0, 0, 0, 0, 0, 0, 0, 0, 0, 0, 0, 0, 0, 0, 0, 0, 0, 0, 0, 0, 0, 0, 0, 0, 0, 0, 0, 0, 0, 0, 0, 0, 0, 0, 0, 0, 0, 0, 0, 0, 0, 0, 0, 0, 0, 0, 0, 0, 0, 0, 0, 0, 0, 0, 0, 0, 0, 0, 0, 0, 0, 0, 0, 0, 0, 0, 0, 0, 0, 0, 0, 0, 0, 0, 0, 0, 0, 0, 0, 0, 0, 0, 0, 0, 0, 0, 0, 0, 0, 0, 0, 0, 0, 0, 0, 0, 0, 0, 0, 0, 0, 0, 0, 0, 0, 0, 0, 0, 0, 0, 0, 0, 0, 0, 0, 0, 0, 0, 0, 0, 0, 0, 0, 0, 0, 0, 0, 0, 0, 0, 0, 0, 0, 0, 0, 0, 0, 0, 0, 0, 0, 0, 0, 0, 0, 0, 0, 0, 0, 0, 0, 0, 0, 0, 0, 0, 0, 0, 0, 0, 0, 0, 0, 0, 0, 0, 0, 0, 0, 0, 0, 0, 0, 0, 0, 0, 0, 0, 0, 0, 0, 0, 0, 0, 0, 0, 0, 0, 0, 0, 0, 0, 0, 0, 0, 0, 0, 0, 0, 0, 0, 0, 0, 0, 0, 0, 0, 0, 0, 0, 0, 0, 0, 0, 0, 0, 0, 0, 0, 0, 0, 0, 0, 0, 0, 0, 0, 0, 0, 0, 0, 0, 0, 0, 0, 0, 0, 0, 0, 0, 0, 0, 0, 0, 0, 0, 0, 0, 0, 0, 0, 0, 0, 0, 0, 0, 0, 0, 0, 0, 0, 0, 0, 0, 0, 0, 0, 0, 0, 0, 0, 0, 0, 0, 0, 0, 0, 0, 0, 0, 0, 0, 0, 0, 0, 0, 0, 0, 0, 0, 0, 0, 0, 0, 0, 0, 0, 0, 0, 0, 0, 0, 0, 0, 0, 0, 0, 0, 0, 0, 0, 0, 0, 0, 0, 0, 0, 0, 0, 0, 0, 0, 0, 0, 0, 0, 0, 0, 0, 0, 0, 0, 0, 0, 0, 0, 0, 0, 0, 0, 0, 0, 0, 0, 0, 0, 0, 0, 0, 0, 0, 0, 0, 0, 0, 0, 0, 0, 0, 0, 0, 0, 0, 0, 0, 0, 0, 0, 0, 0, 0, 0, 0, 0, 0, 0, 0, 0, 0, 0, 0, 0, 0, 0, 0, 0, 0, 0, 0, 0, 0, 0, 0, 0, 0, 0, 0, 0, 0, 0, 0, 0, 0, 0, 0, 0, 0, 0, 0, 0, 0, 0, 0, 0, 0, 0, 0, 0, 0, 0, 0, 0, 0, 0, 0, 0, 0, 0, 0, 0, 0, 0, 0, 0, 0, 0, 0, 0, 0, 0, 0, 0, 0, 0, 0, 0, 0, 0, 0, 0, 0, 0, 0, 0, 0, 0, 0, 0, 0, 0, 0, 0, 0, 0, 0, 0, 0, 0, 0, 0, 0, 0, 0, 0, 0, 0, 0, 0, 0, 0, 0, 0, 0, 0, 0, 0, 0, 0, 0, 0, 0, 0, 0, 0, 0, 0, 0, 0, 0, 0, 0, 0, 0, 0, 0, 0, 0, 0, 0, 0, 0, 0, 0, 0, 0, 0, 0, 0, 0, 0, 0, 0, 0, 0, 0, 0, 0, 0, 0, 0, 0, 0, 0, 0, 0, 0, 0, 0, 0, 0, 0, 0, 0, 0, 0, 0, 0, 0, 0, 0, 0, 0, 0, 0, 0, 0, 0, 0, 0, 0, 0, 0, 0, 0, 0, 0, 0, 0, 0, 0, 0, 0, 0, 0, 0, 0, 0, 0, 0, 0, 0, 0, 0, 0, 0, 0, 0, 0, 0, 0, 0, 0, 0, 0, 0, 0, 0, 0, 0, 0, 0, 0, 0, 0, 0, 0, 0, 0, 0, 0, 0, 0, 0, 0, 0, 0, 0, 0, 0, 0, 0, 0, 0, 0, 0, 0, 0, 0, 0, 0, 0, 0, 0, 0, 0, 0, 0, 0, 0, 0, 0, 0, 0, 0, 0, 0, 0, 0, 0, 0, 0, 0, 0, 0, 0, 0, 0, 0, 0, 0, 0, 0, 0, 0, 0, 0, 0, 0, 0, 0, 0, 0, 0, 0, 0, 0, 0, 0, 0, 0, 0, 0, 0, 0, 0, 0, 0, 0], 'attention_mask': [1, 1, 1, 1, 1, 1, 1, 1, 1, 1, 1, 1, 1, 1, 1, 1, 1, 1, 1, 1, 1, 1, 1, 1, 1, 1, 1, 1, 1, 1, 1, 1, 1, 1, 1, 1, 1, 1, 1, 1, 1, 1, 1, 1, 1, 1, 1, 1, 1, 1, 1, 1, 1, 1, 1, 1, 1, 1, 1, 1, 1, 1, 1, 1, 1, 1, 1, 1, 1, 1, 1, 1, 1, 1, 1, 1, 1, 1, 1, 1, 1, 1, 1, 1, 1, 1, 1, 1, 1, 1, 1, 1, 1, 1, 1, 1, 1, 1, 1, 1, 1, 1, 1, 1, 1, 1, 1, 1, 1, 1, 1, 1, 1, 1, 1, 1, 1, 1, 1, 1, 1, 1, 1, 1, 1, 1, 1, 1, 1, 1, 1, 1, 1, 1, 1, 1, 1, 1, 1, 1, 1, 1, 1, 1, 1, 1, 1, 1, 1, 1, 1, 1, 1, 1, 1, 1, 1, 1, 1, 1, 1, 1, 1, 1, 1, 1, 1, 1, 1, 1, 1, 1, 1, 1, 1, 1, 1, 1, 1, 1, 1, 1, 1, 1, 1, 1, 1, 1, 1, 1, 1, 1, 1, 1, 1, 1, 1, 1, 1, 1, 1, 1, 1, 1, 1, 1, 1, 1, 1, 1, 1, 1, 1, 1, 1, 1, 1, 1, 1, 1, 1, 1, 1, 1, 1, 1, 1, 1, 1, 1, 1, 1, 1, 1, 1, 1, 1, 1, 1, 1, 1, 1, 1, 1, 1, 1, 1, 1, 1, 1, 1, 1, 1, 1, 1, 1, 1, 1, 1, 1, 1, 1, 1, 1, 1, 1, 1, 1, 1, 1, 1, 1, 1, 1, 1, 1, 1, 1, 1, 1, 1, 1, 1, 1, 1, 1, 1, 1, 1, 1, 1, 1, 1, 1, 1, 1, 1, 1, 1, 1, 1, 1, 1, 1, 1, 1, 1, 1, 1, 1, 1, 1, 1, 1, 1, 1, 1, 1, 1, 1, 1, 1, 1, 1, 1, 1, 1, 1, 1, 1, 1, 1, 1, 1, 1, 1, 1, 1, 1, 1, 1, 1, 1, 1, 1, 1, 1, 1, 1, 1, 1, 1, 1, 1, 1, 1, 1, 1, 1, 1, 1, 1, 1, 1, 1, 1, 1, 1, 1, 1, 1, 1, 1, 1, 1, 1, 1, 1, 1, 1, 1, 1, 1, 1, 1, 1, 1, 1, 1, 1, 1, 1, 1, 1, 1, 1, 1, 1, 1, 1, 1, 1, 1, 1, 1, 1, 1, 1, 1, 1, 1, 1, 1, 1, 1, 1, 1, 1, 1, 1, 1, 1, 1, 1, 1, 1, 1, 1, 1, 1, 1, 1, 1, 1, 1, 1, 1, 1, 1, 1, 1, 1, 1, 1, 1, 1, 1, 1, 1, 1, 1, 1, 1, 1, 1, 1, 1, 1, 1, 1, 1, 1, 1, 1, 1, 1, 1, 1, 1, 1, 1, 1, 1, 1, 1, 1, 1, 1, 1, 1, 1, 1, 1, 1, 1, 1, 1, 1, 1, 1, 1, 1, 1, 1, 1, 1, 1, 1, 1, 1, 1, 1, 1, 1, 1, 1, 1, 1, 1, 1, 1, 1, 1, 1, 1, 1, 1, 1, 1, 1, 1, 1, 1, 1, 1, 1, 1, 1, 1, 1, 1, 1, 1, 1, 1, 1, 1, 1, 1, 1, 1, 1, 1, 1, 1, 1, 1, 1, 1, 1, 1, 1, 1, 1, 1, 1, 1, 1, 1, 1, 1, 1, 1, 1, 1, 1, 1, 1, 1, 1, 1, 1, 1, 1, 1, 1, 1, 1, 1, 1, 1, 1, 1, 1, 1, 1, 1, 1, 1, 1, 1, 1, 1, 1, 1, 1, 1, 1, 1, 1, 1, 1, 1, 1, 1, 1, 1, 1, 1, 1, 1, 1, 1, 1, 1, 1, 1, 1, 1, 1, 1, 1, 1, 1, 1, 1, 1, 1, 1, 1, 1, 1, 1, 1, 1, 1, 1, 1, 1, 1, 1, 1, 1, 1, 1, 1, 1, 1, 1, 1, 1, 1, 1, 1, 1, 1, 1, 1, 1, 1, 1, 1, 1, 1, 1, 1, 1, 1, 1, 1, 1, 1, 1, 1, 1, 1, 1, 1, 1, 1, 1, 1, 1, 1, 1, 1, 1, 1, 1, 1, 1, 1, 1, 1, 1, 1, 1, 1, 1, 1, 1, 1, 1, 1, 1, 1, 1, 1, 1, 1, 1, 1, 1, 1, 1, 1, 1, 1, 1, 1, 1, 1, 1, 1, 1, 1, 1, 1, 1, 1, 1, 1, 1, 1, 1, 1, 1, 1, 1, 1, 1, 1, 1, 1, 1, 1, 1, 1, 1, 1, 1, 1, 1, 1, 1, 1, 1, 1, 1, 1, 1, 1, 1, 1, 1, 1, 1, 1, 1, 1, 1, 1, 1, 1, 1, 1, 1, 1, 1, 1, 1, 1, 1, 1, 1, 1, 1, 1, 1, 1, 1, 1, 1, 1, 1, 1, 1, 1, 1, 1, 1, 1, 1, 1, 1, 1, 1, 1, 1, 1, 1, 1, 1, 1, 1, 1, 1, 1, 1, 1, 1, 1, 1, 1, 1, 1, 1, 1, 1, 1, 1, 1, 1, 1, 1, 1, 1, 1, 1, 1, 1, 1, 1, 1, 1, 1, 1, 1, 1, 1, 1, 1, 1, 1, 1, 1]}\n",
            "\n",
            "Tokens:\n",
            "['[CLS]', 'we', 'understand', 'that', 'most', 'people', 'who', 'reply', 'immediately', 'to', 'an', 'op', 'with', 'an', 'invitation', 'to', 'talk', 'privately', 'mean', 'only', 'to', 'help', 'but', 'this', 'type', 'of', 'response', 'usually', 'lead', 'to', 'either', 'disappointment', 'or', 'disaster', 'it', 'usually', 'work', 'out', 'quite', 'differently', 'here', 'than', 'when', 'you', 'say', 'pm', 'me', 'anytime', 'in', 'a', 'casual', 'social', 'context', 'we', 'have', 'huge', 'admiration', 'and', 'appreciation', 'for', 'the', 'goodwill', 'and', 'good', 'citizenship', 'of', 'so', 'many', 'of', 'you', 'who', 'support', 'others', 'here', 'and', 'flag', 'inappropriate', 'content', 'even', 'more', 'so', 'because', 'we', 'know', 'that', 'so', 'many', 'of', 'you', 'are', 'struggling', 'yourselves', 'we', 're', 'hard', 'at', 'work', 'behind', 'the', 'scene', 'on', 'more', 'information', 'and', 'resource', 'to', 'make', 'it', 'easier', 'to', 'give', 'and', 'get', 'quality', 'help', 'here', 'this', 'is', 'just', 'a', 'small', 'start', 'our', 'new', 'wi', '##ki', 'page', 'explains', 'in', 'detail', 'why', 'it', 's', 'much', 'better', 'to', 'respond', 'in', 'public', 'comment', 'at', 'least', 'until', 'you', 've', 'gotten', 'to', 'know', 'someone', 'it', 'will', 'be', 'maintained', 'at', 'r', 'depression', 'wi', '##ki', 'private', 'contact', 'and', 'the', 'full', 'text', 'of', 'the', 'current', 'version', 'is', 'below', 'summary', 'anyone', 'who', 'while', 'acting', 'a', 'a', 'help', '##er', 'invite', 'or', 'accepts', 'private', 'contact', 'i', 'e', 'pm', 'chat', 'or', 'any', 'kind', 'of', 'offs', '##ite', 'communication', 'early', 'in', 'the', 'conversion', 'is', 'showing', 'either', 'bad', 'intention', 'or', 'bad', 'judgement', 'either', 'way', 'it', 's', 'un', '##wise', 'to', 'trust', 'them', 'pm', 'me', 'anytime', 'seems', 'like', 'a', 'kind', 'and', 'generous', 'offer', 'and', 'it', 'might', 'be', 'perfectly', 'well', 'meaning', 'but', 'unless', 'and', 'until', 'a', 'solid', 'rap', '##port', 'ha', 'been', 'established', 'it', 's', 'just', 'not', 'a', 'wise', 'idea', 'here', 'are', 'some', 'point', 'to', 'consider', 'before', 'you', 'offer', 'or', 'accept', 'an', 'invitation', 'to', 'communicate', 'privately', 'by', 'posting', 'supportive', 'reply', 'publicly', 'you', 'll', 'help', 'more', 'people', 'than', 'just', 'the', 'op', 'if', 'your', 'response', 'are', 'of', 'good', 'quality', 'you', 'll', 'educate', 'and', 'inspire', 'other', 'help', '##er', 'the', '9', '90', 'rule', 'http', 'en', 'wikipedia', 'org', 'wi', '##ki', 'rule', 'internet', 'culture', 'applies', 'here', 'a', 'much', 'a', 'it', 'doe', 'anywhere', 'else', 'on', 'the', 'internet', 'people', 'who', 'are', 'struggling', 'with', 'serious', 'mental', 'health', 'issue', 'often', 'just', '##if', '##ia', '##bly', 'have', 'a', 'low', 'tolerance', 'for', 'disappointment', 'and', 'a', 'high', 'level', 'of', 'ever', 'changing', 'emotional', 'need', 'unless', 'the', 'help', '##er', 'is', 'able', 'to', 'make', 'a', '00', 'commitment', 'to', 'be', 'there', 'for', 'them', 'in', 'every', 'way', 'for', 'a', 'long', 'a', 'necessary', 'offering', 'a', 'personal', 'in', '##box', 'a', 'a', 'resource', 'is', 'likely', 'to', 'do', 'more', 'harm', 'than', 'good', 'this', 'is', 'why', 'mental', 'health', 'crisis', 'line', 'respond', '##er', 'usually', 'don', 't', 'give', 'their', 'name', 'and', 'caller', 'aren', 't', 'allowed', 'to', 'request', 'specific', 'respond', '##er', 'it', 's', 'much', 'health', '##ier', 'and', 'safer', 'for', 'the', 'caller', 'to', 'develop', 'a', 'relationship', 'with', 'the', 'agency', 'a', 'a', 'whole', 'analogous', '##ly', 'it', 's', 'much', 'safer', 'and', 'health', '##ier', 'for', 'our', 'ops', 'to', 'develop', 'a', 'relationship', 'with', 'the', 'community', 'a', 'a', 'whole', 'even', 'trained', 'respond', '##er', 'are', 'generally', 'not', 'allowed', 'to', 'work', 'high', 'intensity', 'situation', 'alone', 'it', 's', 'partly', 'about', 'availability', 'but', 'it', 's', 'mostly', 'about', 'wider', 'perspective', 'and', 'preventing', 'compassion', 'fatigue', 'if', 'a', 'help', '##er', 'get', 'in', 'over', 'their', 'head', 'with', 'someone', 'whose', 'mental', 'health', 'issue', 'including', 'suicidal', '##ity', 'which', 'is', 'often', 'como', '##rb', '##id', 'with', 'depression', 'es', '##cala', '##te', 'in', 'a', 'pm', 'conversation', 'it', 's', 'much', 'harder', 'for', 'others', 'including', 'the', 'r', 'depression', 'and', 'r', 'suicide', '##watch', 'moderator', 'to', 'help', 'contrary', 'to', 'common', 'assumption', 'moderator', 'can', 't', 'see', 'or', 'police', 'pm', 'in', 'our', 'observation', 'over', 'many', 'year', 'the', 'people', 'who', 'say', 'pm', 'me', 'the', 'most', 'are', 'consistently', 'the', 'one', 'with', 'the', 'least', 'understanding', 'of', 'mental', 'health', 'issue', 'and', 'mental', 'health', 'support', 'we', 'all', 'have', 'gap', 'in', 'our', 'knowledge', 'and', 'in', 'our', 'ability', 'to', 'communicate', 'effectively', 'community', 'input', 'mit', '##igate', '##s', 'these', 'limitation', 'there', 's', 'no', 'reason', 'why', 'someone', 'who', 's', 'truly', 'here', 'to', 'help', 'would', 'want', 'to', 'hide', 'their', 'response', 'from', 'community', 'scrutiny', 'if', 'help', '##er', 'are', 'concerned', 'about', 'their', 'own', 'privacy', 'keep', 'in', 'mind', 'that', 'self', 'disclosure', 'when', 'used', 'supportive', '##ly', 'is', 'more', 'about', 'the', 'feeling', 'than', 'the', 'detail', 'and', 'that', 'we', 'have', 'no', 'problem', 'here', 'with', 'the', 'use', 'of', 'alt', 'throw', '##away', 'account', 'and', 'have', 'no', 'restriction', 'on', 'account', 'age', 'or', 'karma', 'we', 'all', 'know', 'the', 'internet', 'is', 'used', 'by', 'some', 'people', 'to', 'exploit', 'or', 'abuse', 'others', 'these', 'people', 'do', 'want', 'to', 'hide', 'their', 'dec', '##eptive', 'and', 'mani', '##pu', '##lative', 'response', 'from', 'everyone', 'except', 'their', 'victim', 'there', 'are', 'many', 'of', 'them', 'who', 'specifically', 'target', 'those', 'who', 'are', 'vulnerable', 'because', 'of', 'mental', 'health', 'issue', 'if', 'a', 'help', '##er', 'invite', 'an', 'op', 'to', 'talk', 'privately', 'and', 'give', 'them', 'a', 'good', 'supportive', 'experience', 'they', 've', 'prime', '##d', 'that', 'person', 'to', 'be', 'more', 'vulnerable', 'to', 'abuse', '##r', 'this', 'sort', 'of', 'cognitive', 'pri', '##ming', 'tends', 'to', 'be', 'particularly', 'effective', 'when', 'someone', 's', 'in', 'a', 'state', 'of', 'mental', 'health', 'crisis', 'when', 'people', 'rely', 'more', 'on', 'he', '##uri', '##stic', 'than', 'critical', 'reasoning', 'if', 'ops', 'want', 'to', 'talk', 'privately', 'posting', 'on', 'a', 'wide', 'open', 'anonymous', 'forum', 'like', 'red', '##dit', 'might', 'not', 'be', 'the', 'best', 'option', 'although', 'we', 'don', 't', 'recommend', 'it', 'we', 'do', 'allow', 'ops', 'to', 'request', 'private', 'contact', 'when', 'asking', 'for', 'support', 'if', 'you', 'want', 'to', 'do', 'this', 'please', 'keep', 'your', 'expectation', 'realistic', 'and', 'to', 'have', 'a', 'careful', 'look', 'at', 'the', 'history', 'of', 'anyone', 'who', 'offer', 'to', 'pm', 'before', 'opening', 'up', 'to', 'them', '[SEP]']\n"
          ]
        }
      ]
    },
    {
      "cell_type": "code",
      "source": [
        "'''\n",
        "Outputs:\n",
        "\n",
        "input_ids: These are the numerical representations of the tokens.\n",
        "\n",
        "token_type_ids: This is used to distinguish between two different sentences (not important for our task, so it's all zeros).\n",
        "\n",
        "attention_mask: This tells the model which tokens are real and which are padding (all 1s for now, since there's no padding).\n",
        "\n",
        "Token indices sequence length is longer than the specified maximum sequence length for this model (856 > 512).\n",
        "\n",
        "Yes, it is time to tokenize the whole dataset, but we must do it in a way that handles these long posts. We will tell the tokenizer to:\n",
        "\n",
        "Truncate (cut) any posts that are longer than 512 tokens.\n",
        "\n",
        "Pad any posts that are shorter than 512 tokens so they are all the same length.\n",
        " '''"
      ],
      "metadata": {
        "colab": {
          "base_uri": "https://localhost:8080/",
          "height": 105
        },
        "id": "-vLNi3SWewEv",
        "outputId": "12d41b63-e31b-4139-d49d-b45c374b92b6"
      },
      "execution_count": 14,
      "outputs": [
        {
          "output_type": "execute_result",
          "data": {
            "text/plain": [
              "\"\\nOutputs:\\n\\ninput_ids: These are the numerical representations of the tokens.\\n\\ntoken_type_ids: This is used to distinguish between two different sentences (not important for our task, so it's all zeros).\\n\\nattention_mask: This tells the model which tokens are real and which are padding (all 1s for now, since there's no padding).\\n\\nToken indices sequence length is longer than the specified maximum sequence length for this model (856 > 512).\\n\\nYes, it is time to tokenize the whole dataset, but we must do it in a way that handles these long posts. We will tell the tokenizer to:\\n\\nTruncate (cut) any posts that are longer than 512 tokens.\\n\\nPad any posts that are shorter than 512 tokens so they are all the same length.\\n \""
            ],
            "application/vnd.google.colaboratory.intrinsic+json": {
              "type": "string"
            }
          },
          "metadata": {},
          "execution_count": 14
        }
      ]
    },
    {
      "cell_type": "code",
      "source": [
        "print(\"Tokenizing the entire dataset...\")\n",
        "\n",
        "encodings = tokenizer(\n",
        "    df['processed_text'].tolist(),\n",
        "    max_length=512,\n",
        "    padding='max_length',\n",
        "    truncation=True,\n",
        "    return_tensors='pt'  # return the output as PyTorch tensors instead of regular Python lists.\n",
        ")\n",
        "\n",
        "print(\"Tokenization complete.\")\n",
        "\n",
        "# Let's check the shape of the resulting tensors\n",
        "print(\"Shape of input_ids:\", encodings['input_ids'].shape)\n",
        "print(\"Shape of attention_mask:\", encodings['attention_mask'].shape)"
      ],
      "metadata": {
        "colab": {
          "base_uri": "https://localhost:8080/"
        },
        "id": "BbtQEqrQgCxz",
        "outputId": "c88180b2-4aee-4ccb-dadf-bb815793bbee"
      },
      "execution_count": 15,
      "outputs": [
        {
          "output_type": "stream",
          "name": "stdout",
          "text": [
            "Tokenizing the entire dataset...\n",
            "Tokenization complete.\n",
            "Shape of input_ids: torch.Size([7731, 512])\n",
            "Shape of attention_mask: torch.Size([7731, 512])\n"
          ]
        }
      ]
    },
    {
      "cell_type": "code",
      "source": [
        "encodings"
      ],
      "metadata": {
        "colab": {
          "base_uri": "https://localhost:8080/"
        },
        "id": "wF7sFAUMgNVg",
        "outputId": "d5fdd39c-dee9-491c-96ea-ffe257922ff1"
      },
      "execution_count": 16,
      "outputs": [
        {
          "output_type": "execute_result",
          "data": {
            "text/plain": [
              "{'input_ids': tensor([[  101,  2057,  3305,  ..., 15185,  3593,   102],\n",
              "        [  101,  6160,  2000,  ...,     0,     0,     0],\n",
              "        [  101,  3087,  2842,  ...,     0,     0,     0],\n",
              "        ...,\n",
              "        [  101,  2667,  2000,  ...,     0,     0,     0],\n",
              "        [  101,  1057,  5603,  ...,     0,     0,     0],\n",
              "        [  101,  7771,  6919,  ...,     0,     0,     0]]), 'token_type_ids': tensor([[0, 0, 0,  ..., 0, 0, 0],\n",
              "        [0, 0, 0,  ..., 0, 0, 0],\n",
              "        [0, 0, 0,  ..., 0, 0, 0],\n",
              "        ...,\n",
              "        [0, 0, 0,  ..., 0, 0, 0],\n",
              "        [0, 0, 0,  ..., 0, 0, 0],\n",
              "        [0, 0, 0,  ..., 0, 0, 0]]), 'attention_mask': tensor([[1, 1, 1,  ..., 1, 1, 1],\n",
              "        [1, 1, 1,  ..., 0, 0, 0],\n",
              "        [1, 1, 1,  ..., 0, 0, 0],\n",
              "        ...,\n",
              "        [1, 1, 1,  ..., 0, 0, 0],\n",
              "        [1, 1, 1,  ..., 0, 0, 0],\n",
              "        [1, 1, 1,  ..., 0, 0, 0]])}"
            ]
          },
          "metadata": {},
          "execution_count": 16
        }
      ]
    },
    {
      "cell_type": "code",
      "source": [
        "# 1. Get the input IDs for the first sentence (index 0)\n",
        "first_sentence_ids = encodings['input_ids'][0]\n",
        "print(\"Encoded Input IDs\")\n",
        "print(first_sentence_ids)\n",
        "\n",
        "# 2. Decode these IDs back into text\n",
        "decoded_text = tokenizer.decode(first_sentence_ids)\n",
        "print(\"\\nDecoded Text:\")\n",
        "print(decoded_text)"
      ],
      "metadata": {
        "colab": {
          "base_uri": "https://localhost:8080/"
        },
        "id": "oUDApkAZgQJk",
        "outputId": "e6f5d95a-1a9d-4c20-ff7b-b5667c97e0f7"
      },
      "execution_count": 17,
      "outputs": [
        {
          "output_type": "stream",
          "name": "stdout",
          "text": [
            "Encoded Input IDs\n",
            "tensor([  101,  2057,  3305,  2008,  2087,  2111,  2040,  7514,  3202,  2000,\n",
            "         2019,  6728,  2007,  2019,  8468,  2000,  2831,  9139,  2812,  2069,\n",
            "         2000,  2393,  2021,  2023,  2828,  1997,  3433,  2788,  2599,  2000,\n",
            "         2593, 10520,  2030,  7071,  2009,  2788,  2147,  2041,  3243, 11543,\n",
            "         2182,  2084,  2043,  2017,  2360,  7610,  2033, 15933,  1999,  1037,\n",
            "        10017,  2591,  6123,  2057,  2031,  4121, 17005,  1998, 12284,  2005,\n",
            "         1996, 22875,  1998,  2204,  9068,  1997,  2061,  2116,  1997,  2017,\n",
            "         2040,  2490,  2500,  2182,  1998,  5210, 15884,  4180,  2130,  2062,\n",
            "         2061,  2138,  2057,  2113,  2008,  2061,  2116,  1997,  2017,  2024,\n",
            "         8084, 25035,  2057,  2128,  2524,  2012,  2147,  2369,  1996,  3496,\n",
            "         2006,  2062,  2592,  1998,  7692,  2000,  2191,  2009,  6082,  2000,\n",
            "         2507,  1998,  2131,  3737,  2393,  2182,  2023,  2003,  2074,  1037,\n",
            "         2235,  2707,  2256,  2047, 15536,  3211,  3931,  7607,  1999,  6987,\n",
            "         2339,  2009,  1055,  2172,  2488,  2000,  6869,  1999,  2270,  7615,\n",
            "         2012,  2560,  2127,  2017,  2310,  5407,  2000,  2113,  2619,  2009,\n",
            "         2097,  2022,  5224,  2012,  1054,  6245, 15536,  3211,  2797,  3967,\n",
            "         1998,  1996,  2440,  3793,  1997,  1996,  2783,  2544,  2003,  2917,\n",
            "        12654,  3087,  2040,  2096,  3772,  1037,  1037,  2393,  2121, 13260,\n",
            "         2030, 13385,  2797,  3967,  1045,  1041,  7610, 11834,  2030,  2151,\n",
            "         2785,  1997, 12446,  4221,  4807,  2220,  1999,  1996,  7584,  2003,\n",
            "         4760,  2593,  2919,  6808,  2030,  2919, 16646,  2593,  2126,  2009,\n",
            "         1055,  4895, 14244,  2000,  3404,  2068,  7610,  2033, 15933,  3849,\n",
            "         2066,  1037,  2785,  1998, 12382,  3749,  1998,  2009,  2453,  2022,\n",
            "         6669,  2092,  3574,  2021,  4983,  1998,  2127,  1037,  5024,  9680,\n",
            "         6442,  5292,  2042,  2511,  2009,  1055,  2074,  2025,  1037,  7968,\n",
            "         2801,  2182,  2024,  2070,  2391,  2000,  5136,  2077,  2017,  3749,\n",
            "         2030,  5138,  2019,  8468,  2000, 10639,  9139,  2011, 14739, 16408,\n",
            "         7514,  7271,  2017,  2222,  2393,  2062,  2111,  2084,  2074,  1996,\n",
            "         6728,  2065,  2115,  3433,  2024,  1997,  2204,  3737,  2017,  2222,\n",
            "        16957,  1998, 18708,  2060,  2393,  2121,  1996,  1023,  3938,  3627,\n",
            "         8299,  4372, 16948,  8917, 15536,  3211,  3627,  4274,  3226, 12033,\n",
            "         2182,  1037,  2172,  1037,  2009, 18629,  5973,  2842,  2006,  1996,\n",
            "         4274,  2111,  2040,  2024,  8084,  2007,  3809,  5177,  2740,  3277,\n",
            "         2411,  2074, 10128,  2401,  6321,  2031,  1037,  2659, 13986,  2005,\n",
            "        10520,  1998,  1037,  2152,  2504,  1997,  2412,  5278,  6832,  2342,\n",
            "         4983,  1996,  2393,  2121,  2003,  2583,  2000,  2191,  1037,  4002,\n",
            "         8426,  2000,  2022,  2045,  2005,  2068,  1999,  2296,  2126,  2005,\n",
            "         1037,  2146,  1037,  4072,  5378,  1037,  3167,  1999,  8758,  1037,\n",
            "         1037,  7692,  2003,  3497,  2000,  2079,  2062,  7386,  2084,  2204,\n",
            "         2023,  2003,  2339,  5177,  2740,  5325,  2240,  6869,  2121,  2788,\n",
            "         2123,  1056,  2507,  2037,  2171,  1998, 20587,  4995,  1056,  3039,\n",
            "         2000,  5227,  3563,  6869,  2121,  2009,  1055,  2172,  2740,  3771,\n",
            "         1998, 13726,  2005,  1996, 20587,  2000,  4503,  1037,  3276,  2007,\n",
            "         1996,  4034,  1037,  1037,  2878, 19639,  2135,  2009,  1055,  2172,\n",
            "        13726,  1998,  2740,  3771,  2005,  2256, 23092,  2000,  4503,  1037,\n",
            "         3276,  2007,  1996,  2451,  1037,  1037,  2878,  2130,  4738,  6869,\n",
            "         2121,  2024,  3227,  2025,  3039,  2000,  2147,  2152,  8015,  3663,\n",
            "         2894,  2009,  1055,  6576,  2055, 11343,  2021,  2009,  1055,  3262,\n",
            "         2055,  7289,  7339,  1998, 10723, 15398, 16342,  2065,  1037,  2393,\n",
            "         2121,  2131,  1999,  2058,  2037,  2132,  2007,  2619,  3005,  5177,\n",
            "         2740,  3277,  2164, 26094,  3012,  2029,  2003,  2411, 18609, 15185,\n",
            "         3593,   102])\n",
            "\n",
            "Decoded Text:\n",
            "[CLS] we understand that most people who reply immediately to an op with an invitation to talk privately mean only to help but this type of response usually lead to either disappointment or disaster it usually work out quite differently here than when you say pm me anytime in a casual social context we have huge admiration and appreciation for the goodwill and good citizenship of so many of you who support others here and flag inappropriate content even more so because we know that so many of you are struggling yourselves we re hard at work behind the scene on more information and resource to make it easier to give and get quality help here this is just a small start our new wiki page explains in detail why it s much better to respond in public comment at least until you ve gotten to know someone it will be maintained at r depression wiki private contact and the full text of the current version is below summary anyone who while acting a a helper invite or accepts private contact i e pm chat or any kind of offsite communication early in the conversion is showing either bad intention or bad judgement either way it s unwise to trust them pm me anytime seems like a kind and generous offer and it might be perfectly well meaning but unless and until a solid rapport ha been established it s just not a wise idea here are some point to consider before you offer or accept an invitation to communicate privately by posting supportive reply publicly you ll help more people than just the op if your response are of good quality you ll educate and inspire other helper the 9 90 rule http en wikipedia org wiki rule internet culture applies here a much a it doe anywhere else on the internet people who are struggling with serious mental health issue often justifiably have a low tolerance for disappointment and a high level of ever changing emotional need unless the helper is able to make a 00 commitment to be there for them in every way for a long a necessary offering a personal inbox a a resource is likely to do more harm than good this is why mental health crisis line responder usually don t give their name and caller aren t allowed to request specific responder it s much healthier and safer for the caller to develop a relationship with the agency a a whole analogously it s much safer and healthier for our ops to develop a relationship with the community a a whole even trained responder are generally not allowed to work high intensity situation alone it s partly about availability but it s mostly about wider perspective and preventing compassion fatigue if a helper get in over their head with someone whose mental health issue including suicidality which is often comorbid [SEP]\n"
          ]
        }
      ]
    },
    {
      "cell_type": "code",
      "source": [
        "from sklearn.model_selection import train_test_split\n",
        "import torch"
      ],
      "metadata": {
        "id": "RexRKTP6grps"
      },
      "execution_count": 18,
      "outputs": []
    },
    {
      "cell_type": "code",
      "source": [
        "# preparing labels into tensors\n",
        "labels = torch.tensor(df['is_depression'].values)"
      ],
      "metadata": {
        "id": "TDw_aYVGiLIn"
      },
      "execution_count": 19,
      "outputs": []
    },
    {
      "cell_type": "code",
      "source": [
        "\n",
        "train_inputs, test_inputs, train_masks, test_masks, train_labels, test_labels = train_test_split(\n",
        "    encodings['input_ids'],\n",
        "    encodings['attention_mask'],\n",
        "    labels,\n",
        "    random_state=42,\n",
        "    test_size=0.2,\n",
        "    stratify=labels\n",
        ")"
      ],
      "metadata": {
        "id": "qlix_qQCiTJU"
      },
      "execution_count": 20,
      "outputs": []
    },
    {
      "cell_type": "code",
      "source": [
        "from transformers import BertModel\n",
        "import torch.nn as nn\n"
      ],
      "metadata": {
        "id": "oB7opqDOmgWq"
      },
      "execution_count": 21,
      "outputs": []
    },
    {
      "cell_type": "code",
      "source": [
        "\n",
        "class FineTunedBERT(nn.Module):\n",
        "    def __init__(self):\n",
        "        super(FineTunedBERT, self).__init__()\n",
        "        # 1. Load the pre-trained BERT model\n",
        "        self.bert = BertModel.from_pretrained('bert-base-uncased')\n",
        "        self.config = self.bert.config\n",
        "        self.base_model_prefix = 'bert'\n",
        "        # 2. Add a dropout layer for regularization p = 0.3\n",
        "        self.dropout = nn.Dropout(0.3)\n",
        "\n",
        "        # 3. Add a final linear layer for classification\n",
        "        # BERT-base's hidden size is 768. Output is 2 for our two classes.\n",
        "        self.classifier = nn.Linear(768, 2)\n",
        "\n",
        "    @property\n",
        "    def device(self):\n",
        "        return self.bert.device\n",
        "\n",
        "    def get_input_embeddings(self):\n",
        "        return self.bert.get_input_embeddings()\n",
        "\n",
        "    def forward(self, input_ids, attention_mask=None):\n",
        "        # Get the output from the BERT model\n",
        "        outputs = self.bert(input_ids=input_ids, attention_mask=attention_mask)\n",
        "\n",
        "        # The paper uses the 'pooler_output' for classification\n",
        "        pooler_output = outputs.pooler_output\n",
        "\n",
        "        # Apply dropout\n",
        "        dropout_output = self.dropout(pooler_output)\n",
        "\n",
        "        # Pass through the final linear layer\n",
        "        logits = self.classifier(dropout_output)\n",
        "\n",
        "        return (logits,)\n",
        "\n",
        "# Now, you can create an instance of your model\n",
        "model = FineTunedBERT()\n",
        "\n",
        "# You can print the model to see its structure\n",
        "print(model)"
      ],
      "metadata": {
        "colab": {
          "base_uri": "https://localhost:8080/"
        },
        "id": "V0yqA2q8ncii",
        "outputId": "952e8f4c-7148-4729-82fd-2badd26d3a40"
      },
      "execution_count": 22,
      "outputs": [
        {
          "output_type": "stream",
          "name": "stdout",
          "text": [
            "FineTunedBERT(\n",
            "  (bert): BertModel(\n",
            "    (embeddings): BertEmbeddings(\n",
            "      (word_embeddings): Embedding(30522, 768, padding_idx=0)\n",
            "      (position_embeddings): Embedding(512, 768)\n",
            "      (token_type_embeddings): Embedding(2, 768)\n",
            "      (LayerNorm): LayerNorm((768,), eps=1e-12, elementwise_affine=True)\n",
            "      (dropout): Dropout(p=0.1, inplace=False)\n",
            "    )\n",
            "    (encoder): BertEncoder(\n",
            "      (layer): ModuleList(\n",
            "        (0-11): 12 x BertLayer(\n",
            "          (attention): BertAttention(\n",
            "            (self): BertSdpaSelfAttention(\n",
            "              (query): Linear(in_features=768, out_features=768, bias=True)\n",
            "              (key): Linear(in_features=768, out_features=768, bias=True)\n",
            "              (value): Linear(in_features=768, out_features=768, bias=True)\n",
            "              (dropout): Dropout(p=0.1, inplace=False)\n",
            "            )\n",
            "            (output): BertSelfOutput(\n",
            "              (dense): Linear(in_features=768, out_features=768, bias=True)\n",
            "              (LayerNorm): LayerNorm((768,), eps=1e-12, elementwise_affine=True)\n",
            "              (dropout): Dropout(p=0.1, inplace=False)\n",
            "            )\n",
            "          )\n",
            "          (intermediate): BertIntermediate(\n",
            "            (dense): Linear(in_features=768, out_features=3072, bias=True)\n",
            "            (intermediate_act_fn): GELUActivation()\n",
            "          )\n",
            "          (output): BertOutput(\n",
            "            (dense): Linear(in_features=3072, out_features=768, bias=True)\n",
            "            (LayerNorm): LayerNorm((768,), eps=1e-12, elementwise_affine=True)\n",
            "            (dropout): Dropout(p=0.1, inplace=False)\n",
            "          )\n",
            "        )\n",
            "      )\n",
            "    )\n",
            "    (pooler): BertPooler(\n",
            "      (dense): Linear(in_features=768, out_features=768, bias=True)\n",
            "      (activation): Tanh()\n",
            "    )\n",
            "  )\n",
            "  (dropout): Dropout(p=0.3, inplace=False)\n",
            "  (classifier): Linear(in_features=768, out_features=2, bias=True)\n",
            ")\n"
          ]
        }
      ]
    },
    {
      "cell_type": "code",
      "source": [
        "from torch.utils.data import TensorDataset, DataLoader, RandomSampler, SequentialSampler"
      ],
      "metadata": {
        "id": "vwFyFBLy1Ikq"
      },
      "execution_count": 23,
      "outputs": []
    },
    {
      "cell_type": "code",
      "source": [
        "batch_size = 16"
      ],
      "metadata": {
        "id": "oNkGtEBD1jtv"
      },
      "execution_count": 24,
      "outputs": []
    },
    {
      "cell_type": "code",
      "source": [
        "# --- Create DataLoader for the Training Set ---\n",
        "\n",
        "# 1. Combine the training inputs into a TensorDataset.\n",
        "train_data = TensorDataset(train_inputs, train_masks, train_labels)\n",
        "\n",
        "# 2. Create a sampler that will randomly select samples.\n",
        "train_sampler = RandomSampler(train_data)\n",
        "\n",
        "# 3. Create the DataLoader.\n",
        "train_dataloader = DataLoader(train_data, sampler=train_sampler, batch_size=batch_size)\n",
        "\n",
        "\n"
      ],
      "metadata": {
        "id": "r0OEya3o1ntT"
      },
      "execution_count": 25,
      "outputs": []
    },
    {
      "cell_type": "code",
      "source": [
        "# --- Create DataLoader for the Testing Set ---\n",
        "\n",
        "# 1. Combine the testing inputs into a TensorDataset.\n",
        "test_data = TensorDataset(test_inputs, test_masks, test_labels)\n",
        "\n",
        "# 2. Create a sampler that will pass through the data sequentially.\n",
        "test_sampler = SequentialSampler(test_data)\n",
        "\n",
        "# 3. Create the DataLoader.\n",
        "test_dataloader = DataLoader(test_data, sampler=test_sampler, batch_size=batch_size)\n"
      ],
      "metadata": {
        "id": "QJVV39VX19Ob"
      },
      "execution_count": 26,
      "outputs": []
    },
    {
      "cell_type": "code",
      "source": [
        "print(f\"Created a training DataLoader with {len(train_dataloader)} batches of size {batch_size}.\")\n",
        "print(f\"Created a testing DataLoader with {len(test_dataloader)} batches of size {batch_size}.\")"
      ],
      "metadata": {
        "colab": {
          "base_uri": "https://localhost:8080/"
        },
        "id": "gwvWwv2g1_K8",
        "outputId": "ac8821e6-f6ba-4ce7-f932-bb89abf78296"
      },
      "execution_count": 27,
      "outputs": [
        {
          "output_type": "stream",
          "name": "stdout",
          "text": [
            "Created a training DataLoader with 387 batches of size 16.\n",
            "Created a testing DataLoader with 97 batches of size 16.\n"
          ]
        }
      ]
    },
    {
      "cell_type": "code",
      "source": [
        "# The paper specifies the AdamW optimizer with a specific learning rate and other parameters.\n",
        "optimizer = torch.optim.AdamW(model.parameters(),\n",
        "                              lr=2e-5,          # Learning Rate\n",
        "                              eps=1e-8,         # AdamW epsilon\n",
        "                              weight_decay=1e-2 # Weight decay\n",
        "                             )"
      ],
      "metadata": {
        "id": "wkLyWYf_2Bic"
      },
      "execution_count": 28,
      "outputs": []
    },
    {
      "cell_type": "code",
      "source": [
        "loss_function = nn.CrossEntropyLoss()"
      ],
      "metadata": {
        "id": "rI4iysGh2Qa9"
      },
      "execution_count": 29,
      "outputs": []
    },
    {
      "cell_type": "code",
      "source": [
        "from transformers import get_linear_schedule_with_warmup\n",
        "\n",
        "# Check if a GPU is available and set the device\n",
        "if torch.cuda.is_available():\n",
        "    device = torch.device(\"cuda\")\n",
        "    print('GPU is available:', torch.cuda.get_device_name(0))\n",
        "else:\n",
        "    device = torch.device(\"cpu\")\n",
        "    print('No GPU available, using the CPU instead.')\n",
        "\n",
        "# Move the model to the selected device\n",
        "model.to(device)"
      ],
      "metadata": {
        "colab": {
          "base_uri": "https://localhost:8080/"
        },
        "id": "jc4xzdpA2Yic",
        "outputId": "694b3133-66d7-4511-c4f4-ee97262cd1f4"
      },
      "execution_count": 30,
      "outputs": [
        {
          "output_type": "stream",
          "name": "stdout",
          "text": [
            "GPU is available: Tesla T4\n"
          ]
        },
        {
          "output_type": "execute_result",
          "data": {
            "text/plain": [
              "FineTunedBERT(\n",
              "  (bert): BertModel(\n",
              "    (embeddings): BertEmbeddings(\n",
              "      (word_embeddings): Embedding(30522, 768, padding_idx=0)\n",
              "      (position_embeddings): Embedding(512, 768)\n",
              "      (token_type_embeddings): Embedding(2, 768)\n",
              "      (LayerNorm): LayerNorm((768,), eps=1e-12, elementwise_affine=True)\n",
              "      (dropout): Dropout(p=0.1, inplace=False)\n",
              "    )\n",
              "    (encoder): BertEncoder(\n",
              "      (layer): ModuleList(\n",
              "        (0-11): 12 x BertLayer(\n",
              "          (attention): BertAttention(\n",
              "            (self): BertSdpaSelfAttention(\n",
              "              (query): Linear(in_features=768, out_features=768, bias=True)\n",
              "              (key): Linear(in_features=768, out_features=768, bias=True)\n",
              "              (value): Linear(in_features=768, out_features=768, bias=True)\n",
              "              (dropout): Dropout(p=0.1, inplace=False)\n",
              "            )\n",
              "            (output): BertSelfOutput(\n",
              "              (dense): Linear(in_features=768, out_features=768, bias=True)\n",
              "              (LayerNorm): LayerNorm((768,), eps=1e-12, elementwise_affine=True)\n",
              "              (dropout): Dropout(p=0.1, inplace=False)\n",
              "            )\n",
              "          )\n",
              "          (intermediate): BertIntermediate(\n",
              "            (dense): Linear(in_features=768, out_features=3072, bias=True)\n",
              "            (intermediate_act_fn): GELUActivation()\n",
              "          )\n",
              "          (output): BertOutput(\n",
              "            (dense): Linear(in_features=3072, out_features=768, bias=True)\n",
              "            (LayerNorm): LayerNorm((768,), eps=1e-12, elementwise_affine=True)\n",
              "            (dropout): Dropout(p=0.1, inplace=False)\n",
              "          )\n",
              "        )\n",
              "      )\n",
              "    )\n",
              "    (pooler): BertPooler(\n",
              "      (dense): Linear(in_features=768, out_features=768, bias=True)\n",
              "      (activation): Tanh()\n",
              "    )\n",
              "  )\n",
              "  (dropout): Dropout(p=0.3, inplace=False)\n",
              "  (classifier): Linear(in_features=768, out_features=2, bias=True)\n",
              ")"
            ]
          },
          "metadata": {},
          "execution_count": 30
        }
      ]
    },
    {
      "cell_type": "code",
      "source": [
        "''' epochs = 10\n",
        "# Total number of training steps is [number of batches] x [number of epochs].\n",
        "total_steps = len(train_dataloader) * epochs\n",
        "\n",
        "# Create the learning rate scheduler.\n",
        "scheduler = get_linear_schedule_with_warmup(optimizer,\n",
        "                                            num_warmup_steps = int(0.1 * total_steps), # 10% of total steps\n",
        "                                            num_training_steps = total_steps)\n",
        "\n",
        "# --- Start Training ---\n",
        "for epoch in range(0, epochs):\n",
        "    print(f\"\\n======== Epoch {epoch + 1} / {epochs} ========\")\n",
        "    print(\"Training...\")\n",
        "\n",
        "    total_train_loss = 0\n",
        "    model.train() # Put the model in training mode\n",
        "\n",
        "    # Loop through each batch of data in the training dataloader\n",
        "    for step, batch in enumerate(train_dataloader):\n",
        "\n",
        "        # Progress update every 50 batches.\n",
        "        if step % 50 == 0 and not step == 0:\n",
        "            print(f\"  Batch {step} of {len(train_dataloader)}.\")\n",
        "\n",
        "        # Unpack the batch and move tensors to the GPU\n",
        "        b_input_ids = batch[0].to(device)\n",
        "        b_input_mask = batch[1].to(device)\n",
        "        b_labels = batch[2].to(device)\n",
        "\n",
        "        # Always clear any previously calculated gradients\n",
        "        model.zero_grad()\n",
        "\n",
        "        # Perform a forward pass (evaluate the model on this training batch)\n",
        "        logits = model(b_input_ids, attention_mask=b_input_mask)\n",
        "\n",
        "        # Calculate the loss\n",
        "        loss = loss_function(logits, b_labels)\n",
        "        total_train_loss += loss.item()\n",
        "\n",
        "        # Perform a backward pass to calculate the gradients\n",
        "        loss.backward()\n",
        "\n",
        "        # Update the parameters and take a step using the computed gradient\n",
        "        optimizer.step()\n",
        "\n",
        "        # Update the learning rate\n",
        "        scheduler.step()\n",
        "\n",
        "    # Calculate the average loss over all the batches.\n",
        "    avg_train_loss = total_train_loss / len(train_dataloader)\n",
        "    print(f\"\\n  Average training loss: {avg_train_loss:.4f}\")\n",
        "\n",
        "print(\"\\nTraining complete!\") '''"
      ],
      "metadata": {
        "colab": {
          "base_uri": "https://localhost:8080/",
          "height": 140
        },
        "id": "sK8tmBpl2n09",
        "outputId": "dffddd04-d3a1-4678-f5d6-0c18eb7ecf18"
      },
      "execution_count": 31,
      "outputs": [
        {
          "output_type": "execute_result",
          "data": {
            "text/plain": [
              "' epochs = 10\\n# Total number of training steps is [number of batches] x [number of epochs].\\ntotal_steps = len(train_dataloader) * epochs\\n\\n# Create the learning rate scheduler.\\nscheduler = get_linear_schedule_with_warmup(optimizer,\\n                                            num_warmup_steps = int(0.1 * total_steps), # 10% of total steps\\n                                            num_training_steps = total_steps)\\n\\n# --- Start Training ---\\nfor epoch in range(0, epochs):\\n    print(f\"\\n======== Epoch {epoch + 1} / {epochs} ========\")\\n    print(\"Training...\")\\n\\n    total_train_loss = 0\\n    model.train() # Put the model in training mode\\n\\n    # Loop through each batch of data in the training dataloader\\n    for step, batch in enumerate(train_dataloader):\\n\\n        # Progress update every 50 batches.\\n        if step % 50 == 0 and not step == 0:\\n            print(f\"  Batch {step} of {len(train_dataloader)}.\")\\n\\n        # Unpack the batch and move tensors to the GPU\\n        b_input_ids = batch[0].to(device)\\n        b_input_mask = batch[1].to(device)\\n        b_labels = batch[2].to(device)\\n\\n        # Always clear any previously calculated gradients\\n        model.zero_grad()\\n\\n        # Perform a forward pass (evaluate the model on this training batch)\\n        logits = model(b_input_ids, attention_mask=b_input_mask)\\n\\n        # Calculate the loss\\n        loss = loss_function(logits, b_labels)\\n        total_train_loss += loss.item()\\n\\n        # Perform a backward pass to calculate the gradients\\n        loss.backward()\\n\\n        # Update the parameters and take a step using the computed gradient\\n        optimizer.step()\\n\\n        # Update the learning rate\\n        scheduler.step()\\n\\n    # Calculate the average loss over all the batches.\\n    avg_train_loss = total_train_loss / len(train_dataloader)\\n    print(f\"\\n  Average training loss: {avg_train_loss:.4f}\")\\n\\nprint(\"\\nTraining complete!\") '"
            ],
            "application/vnd.google.colaboratory.intrinsic+json": {
              "type": "string"
            }
          },
          "metadata": {},
          "execution_count": 31
        }
      ]
    },
    {
      "cell_type": "code",
      "source": [
        "''' from sklearn.metrics import accuracy_score, precision_recall_fscore_support\n",
        "\n",
        "\n",
        "print(\"\\nEvaluating on the test set...\")\n",
        "\n",
        "# Put the model in evaluation mode\n",
        "model.eval()\n",
        "\n",
        "# Tracking variables\n",
        "all_preds = []\n",
        "all_labels = []\n",
        "\n",
        "# Evaluation loop\n",
        "with torch.no_grad(): # Turn off gradient calculations\n",
        "    for batch in test_dataloader:\n",
        "        # Unpack the batch and move to GPU\n",
        "        b_input_ids = batch[0].to(device)\n",
        "        b_input_mask = batch[1].to(device)\n",
        "        b_labels = batch[2].to(device)\n",
        "\n",
        "        # Get model predictions (logits)\n",
        "        logits = model(b_input_ids, attention_mask=b_input_mask)\n",
        "\n",
        "        # Move logits and labels to CPU for calculations\n",
        "        logits = logits.detach().cpu().numpy()\n",
        "        labels_flat = b_labels.to('cpu').numpy()\n",
        "\n",
        "        # Store predictions and true labels\n",
        "        all_preds.extend(np.argmax(logits, axis=1).flatten())\n",
        "        all_labels.extend(labels_flat.flatten())\n",
        "\n",
        "# Calculate metrics\n",
        "def calculate_metrics(preds, labels):\n",
        "    accuracy = accuracy_score(labels, preds)\n",
        "    # Get precision, recall, and F1-score\n",
        "    precision, recall, f1, _ = precision_recall_fscore_support(labels, preds, average='binary')\n",
        "    return accuracy, precision, recall, f1\n",
        "\n",
        "accuracy, precision, recall, f1 = calculate_metrics(all_preds, all_labels)\n",
        "\n",
        "print(f\"\\nResults:\")\n",
        "print(f\"  Accuracy: {accuracy:.4f}\")\n",
        "print(f\"  Precision: {precision:.4f}\")\n",
        "print(f\"  Recall: {recall:.4f}\")\n",
        "print(f\"  F1-Score: {f1:.4f}\") '''"
      ],
      "metadata": {
        "colab": {
          "base_uri": "https://localhost:8080/",
          "height": 140
        },
        "id": "pNhu6usU8Dje",
        "outputId": "50f195db-24ec-4f5b-e719-7fe1e706ffda"
      },
      "execution_count": 32,
      "outputs": [
        {
          "output_type": "execute_result",
          "data": {
            "text/plain": [
              "' from sklearn.metrics import accuracy_score, precision_recall_fscore_support\\n\\n\\nprint(\"\\nEvaluating on the test set...\")\\n\\n# Put the model in evaluation mode\\nmodel.eval()\\n\\n# Tracking variables\\nall_preds = []\\nall_labels = []\\n\\n# Evaluation loop\\nwith torch.no_grad(): # Turn off gradient calculations\\n    for batch in test_dataloader:\\n        # Unpack the batch and move to GPU\\n        b_input_ids = batch[0].to(device)\\n        b_input_mask = batch[1].to(device)\\n        b_labels = batch[2].to(device)\\n\\n        # Get model predictions (logits)\\n        logits = model(b_input_ids, attention_mask=b_input_mask)\\n\\n        # Move logits and labels to CPU for calculations\\n        logits = logits.detach().cpu().numpy()\\n        labels_flat = b_labels.to(\\'cpu\\').numpy()\\n\\n        # Store predictions and true labels\\n        all_preds.extend(np.argmax(logits, axis=1).flatten())\\n        all_labels.extend(labels_flat.flatten())\\n\\n# Calculate metrics\\ndef calculate_metrics(preds, labels):\\n    accuracy = accuracy_score(labels, preds)\\n    # Get precision, recall, and F1-score\\n    precision, recall, f1, _ = precision_recall_fscore_support(labels, preds, average=\\'binary\\')\\n    return accuracy, precision, recall, f1\\n\\naccuracy, precision, recall, f1 = calculate_metrics(all_preds, all_labels)\\n\\nprint(f\"\\nResults:\")\\nprint(f\"  Accuracy: {accuracy:.4f}\")\\nprint(f\"  Precision: {precision:.4f}\")\\nprint(f\"  Recall: {recall:.4f}\")\\nprint(f\"  F1-Score: {f1:.4f}\") '"
            ],
            "application/vnd.google.colaboratory.intrinsic+json": {
              "type": "string"
            }
          },
          "metadata": {},
          "execution_count": 32
        }
      ]
    },
    {
      "cell_type": "code",
      "source": [
        "SAVE_PATH = 'fine_tuned_bert_model.pth'"
      ],
      "metadata": {
        "id": "boLVrC7qea_h"
      },
      "execution_count": 33,
      "outputs": []
    },
    {
      "cell_type": "code",
      "source": [
        "'''\n",
        "# Save the model's state dictionary\n",
        "torch.save(model.state_dict(), SAVE_PATH)\n",
        "\n",
        "print(f\"Model saved to {SAVE_PATH}\") '''"
      ],
      "metadata": {
        "colab": {
          "base_uri": "https://localhost:8080/",
          "height": 36
        },
        "id": "szN3dDpAGB4P",
        "outputId": "f4cb6121-26aa-4f6f-f335-d3697d3dbf39"
      },
      "execution_count": 34,
      "outputs": [
        {
          "output_type": "execute_result",
          "data": {
            "text/plain": [
              "'\\n# Save the model\\'s state dictionary\\ntorch.save(model.state_dict(), SAVE_PATH)\\n\\nprint(f\"Model saved to {SAVE_PATH}\") '"
            ],
            "application/vnd.google.colaboratory.intrinsic+json": {
              "type": "string"
            }
          },
          "metadata": {},
          "execution_count": 34
        }
      ]
    },
    {
      "cell_type": "code",
      "source": [
        "# CPU\n",
        "''' # 1. Re-create the model's architecture\n",
        "#    (You must have the FineTunedBERT class defined in your notebook)\n",
        "model = FineTunedBERT()\n",
        "\n",
        "# 2. Load the saved weights into the new model instance\n",
        "model.load_state_dict(torch.load(SAVE_PATH))\n",
        "\n",
        "# Don't forget to put the model in evaluation mode if you're making predictions\n",
        "model.eval()\n",
        "\n",
        "print(\"Model loaded successfully!\") '''\n",
        "\n",
        "''' # GPU\n",
        "model = None\n",
        "# 1. Define your device as the GPU\n",
        "device = torch.device(\"cuda\")\n",
        "\n",
        "# 2. Create an instance of the model architecture\n",
        "model = FineTunedBERT()\n",
        "\n",
        "# 3. Load your saved weights\n",
        "model.load_state_dict(torch.load(SAVE_PATH, map_location=device))\n",
        "\n",
        "# 4. (The missing step) Move the model to the GPU!\n",
        "model.to(device)\n",
        "\n",
        "# 5. Put the model in evaluation mode\n",
        "model.eval() '''"
      ],
      "metadata": {
        "id": "5H6yJOq7GRNT",
        "colab": {
          "base_uri": "https://localhost:8080/",
          "height": 71
        },
        "outputId": "a59ccab6-ef8c-49cf-f84b-93a6d7200a99"
      },
      "execution_count": 35,
      "outputs": [
        {
          "output_type": "execute_result",
          "data": {
            "text/plain": [
              "' # GPU\\nmodel = None\\n# 1. Define your device as the GPU\\ndevice = torch.device(\"cuda\")\\n\\n# 2. Create an instance of the model architecture\\nmodel = FineTunedBERT()\\n\\n# 3. Load your saved weights\\nmodel.load_state_dict(torch.load(SAVE_PATH, map_location=device))\\n\\n# 4. (The missing step) Move the model to the GPU!\\nmodel.to(device)\\n\\n# 5. Put the model in evaluation mode\\nmodel.eval() '"
            ],
            "application/vnd.google.colaboratory.intrinsic+json": {
              "type": "string"
            }
          },
          "metadata": {},
          "execution_count": 35
        }
      ]
    },
    {
      "cell_type": "code",
      "source": [
        "''' import numpy as np\n",
        "\n",
        "from sklearn.metrics import accuracy_score, precision_recall_fscore_support\n",
        "\n",
        "\n",
        "print(\"\\nEvaluating on the test set...\")\n",
        "\n",
        "# Put the model in evaluation mode\n",
        "model.eval()\n",
        "\n",
        "# Tracking variables\n",
        "all_preds = []\n",
        "all_labels = []\n",
        "\n",
        "# Evaluation loop\n",
        "with torch.no_grad(): # Turn off gradient calculations\n",
        "    for batch in test_dataloader:\n",
        "        # Unpack the batch and move to GPU\n",
        "        b_input_ids = batch[0].to(device)\n",
        "        b_input_mask = batch[1].to(device)\n",
        "        b_labels = batch[2].to(device)\n",
        "\n",
        "        # Get model predictions (logits)\n",
        "        logits = model(b_input_ids, attention_mask=b_input_mask)\n",
        "\n",
        "        # Move logits and labels to CPU for calculations\n",
        "        logits = logits.detach().cpu().numpy()\n",
        "        labels_flat = b_labels.to('cpu').numpy()\n",
        "\n",
        "        # Store predictions and true labels\n",
        "        all_preds.extend(np.argmax(logits, axis=1).flatten())\n",
        "        all_labels.extend(labels_flat.flatten())\n",
        "\n",
        "# Calculate metrics\n",
        "def calculate_metrics(preds, labels):\n",
        "    accuracy = accuracy_score(labels, preds)\n",
        "    # Get precision, recall, and F1-score\n",
        "    precision, recall, f1, _ = precision_recall_fscore_support(labels, preds, average='binary')\n",
        "    return accuracy, precision, recall, f1\n",
        "\n",
        "accuracy, precision, recall, f1 = calculate_metrics(all_preds, all_labels)\n",
        "\n",
        "print(f\"\\nResults:\")\n",
        "print(f\"  Accuracy: {accuracy:.4f}\")\n",
        "print(f\"  Precision: {precision:.4f}\")\n",
        "print(f\"  Recall: {recall:.4f}\")\n",
        "print(f\"  F1-Score: {f1:.4f}\") '''"
      ],
      "metadata": {
        "colab": {
          "base_uri": "https://localhost:8080/",
          "height": 140
        },
        "id": "innQxn04ecVJ",
        "outputId": "60780b5a-6d54-45a7-ca16-c5d7dfe105bb"
      },
      "execution_count": 36,
      "outputs": [
        {
          "output_type": "execute_result",
          "data": {
            "text/plain": [
              "' import numpy as np\\n\\nfrom sklearn.metrics import accuracy_score, precision_recall_fscore_support\\n\\n\\nprint(\"\\nEvaluating on the test set...\")\\n\\n# Put the model in evaluation mode\\nmodel.eval()\\n\\n# Tracking variables\\nall_preds = []\\nall_labels = []\\n\\n# Evaluation loop\\nwith torch.no_grad(): # Turn off gradient calculations\\n    for batch in test_dataloader:\\n        # Unpack the batch and move to GPU\\n        b_input_ids = batch[0].to(device)\\n        b_input_mask = batch[1].to(device)\\n        b_labels = batch[2].to(device)\\n\\n        # Get model predictions (logits)\\n        logits = model(b_input_ids, attention_mask=b_input_mask)\\n\\n        # Move logits and labels to CPU for calculations\\n        logits = logits.detach().cpu().numpy()\\n        labels_flat = b_labels.to(\\'cpu\\').numpy()\\n\\n        # Store predictions and true labels\\n        all_preds.extend(np.argmax(logits, axis=1).flatten())\\n        all_labels.extend(labels_flat.flatten())\\n\\n# Calculate metrics\\ndef calculate_metrics(preds, labels):\\n    accuracy = accuracy_score(labels, preds)\\n    # Get precision, recall, and F1-score\\n    precision, recall, f1, _ = precision_recall_fscore_support(labels, preds, average=\\'binary\\')\\n    return accuracy, precision, recall, f1\\n\\naccuracy, precision, recall, f1 = calculate_metrics(all_preds, all_labels)\\n\\nprint(f\"\\nResults:\")\\nprint(f\"  Accuracy: {accuracy:.4f}\")\\nprint(f\"  Precision: {precision:.4f}\")\\nprint(f\"  Recall: {recall:.4f}\")\\nprint(f\"  F1-Score: {f1:.4f}\") '"
            ],
            "application/vnd.google.colaboratory.intrinsic+json": {
              "type": "string"
            }
          },
          "metadata": {},
          "execution_count": 36
        }
      ]
    },
    {
      "cell_type": "code",
      "source": [
        "!pip install transformers-interpret"
      ],
      "metadata": {
        "id": "vjzliLG7tu9M",
        "colab": {
          "base_uri": "https://localhost:8080/"
        },
        "outputId": "59b89235-9106-4c06-fea9-3c5d37d5b3ee"
      },
      "execution_count": 37,
      "outputs": [
        {
          "output_type": "stream",
          "name": "stdout",
          "text": [
            "Requirement already satisfied: transformers-interpret in /usr/local/lib/python3.12/dist-packages (0.10.0)\n",
            "Requirement already satisfied: captum>=0.3.1 in /usr/local/lib/python3.12/dist-packages (from transformers-interpret) (0.8.0)\n",
            "Requirement already satisfied: ipython<8.0.0,>=7.31.1 in /usr/local/lib/python3.12/dist-packages (from transformers-interpret) (7.34.0)\n",
            "Requirement already satisfied: transformers>=3.0.0 in /usr/local/lib/python3.12/dist-packages (from transformers-interpret) (4.56.0)\n",
            "Requirement already satisfied: matplotlib in /usr/local/lib/python3.12/dist-packages (from captum>=0.3.1->transformers-interpret) (3.10.0)\n",
            "Requirement already satisfied: numpy<2.0 in /usr/local/lib/python3.12/dist-packages (from captum>=0.3.1->transformers-interpret) (1.26.4)\n",
            "Requirement already satisfied: packaging in /usr/local/lib/python3.12/dist-packages (from captum>=0.3.1->transformers-interpret) (25.0)\n",
            "Requirement already satisfied: torch>=1.10 in /usr/local/lib/python3.12/dist-packages (from captum>=0.3.1->transformers-interpret) (2.8.0+cu126)\n",
            "Requirement already satisfied: tqdm in /usr/local/lib/python3.12/dist-packages (from captum>=0.3.1->transformers-interpret) (4.67.1)\n",
            "Requirement already satisfied: setuptools>=18.5 in /usr/local/lib/python3.12/dist-packages (from ipython<8.0.0,>=7.31.1->transformers-interpret) (75.2.0)\n",
            "Requirement already satisfied: jedi>=0.16 in /usr/local/lib/python3.12/dist-packages (from ipython<8.0.0,>=7.31.1->transformers-interpret) (0.19.2)\n",
            "Requirement already satisfied: decorator in /usr/local/lib/python3.12/dist-packages (from ipython<8.0.0,>=7.31.1->transformers-interpret) (4.4.2)\n",
            "Requirement already satisfied: pickleshare in /usr/local/lib/python3.12/dist-packages (from ipython<8.0.0,>=7.31.1->transformers-interpret) (0.7.5)\n",
            "Requirement already satisfied: traitlets>=4.2 in /usr/local/lib/python3.12/dist-packages (from ipython<8.0.0,>=7.31.1->transformers-interpret) (5.7.1)\n",
            "Requirement already satisfied: prompt-toolkit!=3.0.0,!=3.0.1,<3.1.0,>=2.0.0 in /usr/local/lib/python3.12/dist-packages (from ipython<8.0.0,>=7.31.1->transformers-interpret) (3.0.52)\n",
            "Requirement already satisfied: pygments in /usr/local/lib/python3.12/dist-packages (from ipython<8.0.0,>=7.31.1->transformers-interpret) (2.19.2)\n",
            "Requirement already satisfied: backcall in /usr/local/lib/python3.12/dist-packages (from ipython<8.0.0,>=7.31.1->transformers-interpret) (0.2.0)\n",
            "Requirement already satisfied: matplotlib-inline in /usr/local/lib/python3.12/dist-packages (from ipython<8.0.0,>=7.31.1->transformers-interpret) (0.1.7)\n",
            "Requirement already satisfied: pexpect>4.3 in /usr/local/lib/python3.12/dist-packages (from ipython<8.0.0,>=7.31.1->transformers-interpret) (4.9.0)\n",
            "Requirement already satisfied: filelock in /usr/local/lib/python3.12/dist-packages (from transformers>=3.0.0->transformers-interpret) (3.19.1)\n",
            "Requirement already satisfied: huggingface-hub<1.0,>=0.34.0 in /usr/local/lib/python3.12/dist-packages (from transformers>=3.0.0->transformers-interpret) (0.34.4)\n",
            "Requirement already satisfied: pyyaml>=5.1 in /usr/local/lib/python3.12/dist-packages (from transformers>=3.0.0->transformers-interpret) (6.0.2)\n",
            "Requirement already satisfied: regex!=2019.12.17 in /usr/local/lib/python3.12/dist-packages (from transformers>=3.0.0->transformers-interpret) (2024.11.6)\n",
            "Requirement already satisfied: requests in /usr/local/lib/python3.12/dist-packages (from transformers>=3.0.0->transformers-interpret) (2.32.4)\n",
            "Requirement already satisfied: tokenizers<=0.23.0,>=0.22.0 in /usr/local/lib/python3.12/dist-packages (from transformers>=3.0.0->transformers-interpret) (0.22.0)\n",
            "Requirement already satisfied: safetensors>=0.4.3 in /usr/local/lib/python3.12/dist-packages (from transformers>=3.0.0->transformers-interpret) (0.6.2)\n",
            "Requirement already satisfied: fsspec>=2023.5.0 in /usr/local/lib/python3.12/dist-packages (from huggingface-hub<1.0,>=0.34.0->transformers>=3.0.0->transformers-interpret) (2025.3.0)\n",
            "Requirement already satisfied: typing-extensions>=3.7.4.3 in /usr/local/lib/python3.12/dist-packages (from huggingface-hub<1.0,>=0.34.0->transformers>=3.0.0->transformers-interpret) (4.15.0)\n",
            "Requirement already satisfied: hf-xet<2.0.0,>=1.1.3 in /usr/local/lib/python3.12/dist-packages (from huggingface-hub<1.0,>=0.34.0->transformers>=3.0.0->transformers-interpret) (1.1.9)\n",
            "Requirement already satisfied: parso<0.9.0,>=0.8.4 in /usr/local/lib/python3.12/dist-packages (from jedi>=0.16->ipython<8.0.0,>=7.31.1->transformers-interpret) (0.8.5)\n",
            "Requirement already satisfied: ptyprocess>=0.5 in /usr/local/lib/python3.12/dist-packages (from pexpect>4.3->ipython<8.0.0,>=7.31.1->transformers-interpret) (0.7.0)\n",
            "Requirement already satisfied: wcwidth in /usr/local/lib/python3.12/dist-packages (from prompt-toolkit!=3.0.0,!=3.0.1,<3.1.0,>=2.0.0->ipython<8.0.0,>=7.31.1->transformers-interpret) (0.2.13)\n",
            "Requirement already satisfied: sympy>=1.13.3 in /usr/local/lib/python3.12/dist-packages (from torch>=1.10->captum>=0.3.1->transformers-interpret) (1.13.3)\n",
            "Requirement already satisfied: networkx in /usr/local/lib/python3.12/dist-packages (from torch>=1.10->captum>=0.3.1->transformers-interpret) (3.5)\n",
            "Requirement already satisfied: jinja2 in /usr/local/lib/python3.12/dist-packages (from torch>=1.10->captum>=0.3.1->transformers-interpret) (3.1.6)\n",
            "Requirement already satisfied: nvidia-cuda-nvrtc-cu12==12.6.77 in /usr/local/lib/python3.12/dist-packages (from torch>=1.10->captum>=0.3.1->transformers-interpret) (12.6.77)\n",
            "Requirement already satisfied: nvidia-cuda-runtime-cu12==12.6.77 in /usr/local/lib/python3.12/dist-packages (from torch>=1.10->captum>=0.3.1->transformers-interpret) (12.6.77)\n",
            "Requirement already satisfied: nvidia-cuda-cupti-cu12==12.6.80 in /usr/local/lib/python3.12/dist-packages (from torch>=1.10->captum>=0.3.1->transformers-interpret) (12.6.80)\n",
            "Requirement already satisfied: nvidia-cudnn-cu12==9.10.2.21 in /usr/local/lib/python3.12/dist-packages (from torch>=1.10->captum>=0.3.1->transformers-interpret) (9.10.2.21)\n",
            "Requirement already satisfied: nvidia-cublas-cu12==12.6.4.1 in /usr/local/lib/python3.12/dist-packages (from torch>=1.10->captum>=0.3.1->transformers-interpret) (12.6.4.1)\n",
            "Requirement already satisfied: nvidia-cufft-cu12==11.3.0.4 in /usr/local/lib/python3.12/dist-packages (from torch>=1.10->captum>=0.3.1->transformers-interpret) (11.3.0.4)\n",
            "Requirement already satisfied: nvidia-curand-cu12==10.3.7.77 in /usr/local/lib/python3.12/dist-packages (from torch>=1.10->captum>=0.3.1->transformers-interpret) (10.3.7.77)\n",
            "Requirement already satisfied: nvidia-cusolver-cu12==11.7.1.2 in /usr/local/lib/python3.12/dist-packages (from torch>=1.10->captum>=0.3.1->transformers-interpret) (11.7.1.2)\n",
            "Requirement already satisfied: nvidia-cusparse-cu12==12.5.4.2 in /usr/local/lib/python3.12/dist-packages (from torch>=1.10->captum>=0.3.1->transformers-interpret) (12.5.4.2)\n",
            "Requirement already satisfied: nvidia-cusparselt-cu12==0.7.1 in /usr/local/lib/python3.12/dist-packages (from torch>=1.10->captum>=0.3.1->transformers-interpret) (0.7.1)\n",
            "Requirement already satisfied: nvidia-nccl-cu12==2.27.3 in /usr/local/lib/python3.12/dist-packages (from torch>=1.10->captum>=0.3.1->transformers-interpret) (2.27.3)\n",
            "Requirement already satisfied: nvidia-nvtx-cu12==12.6.77 in /usr/local/lib/python3.12/dist-packages (from torch>=1.10->captum>=0.3.1->transformers-interpret) (12.6.77)\n",
            "Requirement already satisfied: nvidia-nvjitlink-cu12==12.6.85 in /usr/local/lib/python3.12/dist-packages (from torch>=1.10->captum>=0.3.1->transformers-interpret) (12.6.85)\n",
            "Requirement already satisfied: nvidia-cufile-cu12==1.11.1.6 in /usr/local/lib/python3.12/dist-packages (from torch>=1.10->captum>=0.3.1->transformers-interpret) (1.11.1.6)\n",
            "Requirement already satisfied: triton==3.4.0 in /usr/local/lib/python3.12/dist-packages (from torch>=1.10->captum>=0.3.1->transformers-interpret) (3.4.0)\n",
            "Requirement already satisfied: contourpy>=1.0.1 in /usr/local/lib/python3.12/dist-packages (from matplotlib->captum>=0.3.1->transformers-interpret) (1.3.3)\n",
            "Requirement already satisfied: cycler>=0.10 in /usr/local/lib/python3.12/dist-packages (from matplotlib->captum>=0.3.1->transformers-interpret) (0.12.1)\n",
            "Requirement already satisfied: fonttools>=4.22.0 in /usr/local/lib/python3.12/dist-packages (from matplotlib->captum>=0.3.1->transformers-interpret) (4.59.2)\n",
            "Requirement already satisfied: kiwisolver>=1.3.1 in /usr/local/lib/python3.12/dist-packages (from matplotlib->captum>=0.3.1->transformers-interpret) (1.4.9)\n",
            "Requirement already satisfied: pillow>=8 in /usr/local/lib/python3.12/dist-packages (from matplotlib->captum>=0.3.1->transformers-interpret) (11.3.0)\n",
            "Requirement already satisfied: pyparsing>=2.3.1 in /usr/local/lib/python3.12/dist-packages (from matplotlib->captum>=0.3.1->transformers-interpret) (3.2.3)\n",
            "Requirement already satisfied: python-dateutil>=2.7 in /usr/local/lib/python3.12/dist-packages (from matplotlib->captum>=0.3.1->transformers-interpret) (2.9.0.post0)\n",
            "Requirement already satisfied: charset_normalizer<4,>=2 in /usr/local/lib/python3.12/dist-packages (from requests->transformers>=3.0.0->transformers-interpret) (3.4.3)\n",
            "Requirement already satisfied: idna<4,>=2.5 in /usr/local/lib/python3.12/dist-packages (from requests->transformers>=3.0.0->transformers-interpret) (3.10)\n",
            "Requirement already satisfied: urllib3<3,>=1.21.1 in /usr/local/lib/python3.12/dist-packages (from requests->transformers>=3.0.0->transformers-interpret) (2.5.0)\n",
            "Requirement already satisfied: certifi>=2017.4.17 in /usr/local/lib/python3.12/dist-packages (from requests->transformers>=3.0.0->transformers-interpret) (2025.8.3)\n",
            "Requirement already satisfied: six>=1.5 in /usr/local/lib/python3.12/dist-packages (from python-dateutil>=2.7->matplotlib->captum>=0.3.1->transformers-interpret) (1.17.0)\n",
            "Requirement already satisfied: mpmath<1.4,>=1.1.0 in /usr/local/lib/python3.12/dist-packages (from sympy>=1.13.3->torch>=1.10->captum>=0.3.1->transformers-interpret) (1.3.0)\n",
            "Requirement already satisfied: MarkupSafe>=2.0 in /usr/local/lib/python3.12/dist-packages (from jinja2->torch>=1.10->captum>=0.3.1->transformers-interpret) (3.0.2)\n"
          ]
        }
      ]
    },
    {
      "cell_type": "code",
      "source": [
        "''' from transformers_interpret import SequenceClassificationExplainer\n",
        "\n",
        "# 1. Create the explainer using the correct class name and import path\n",
        "explainer = SequenceClassificationExplainer(model, tokenizer)\n",
        "\n",
        "# 2. Use a sample sentence\n",
        "text = \"I feel lonely.\"\n",
        "\n",
        "# 3. Calculate attributions\n",
        "word_attributions = explainer(text)\n",
        "\n",
        "# 4. Display the visualization\n",
        "explainer.visualize() '''"
      ],
      "metadata": {
        "colab": {
          "base_uri": "https://localhost:8080/",
          "height": 71
        },
        "id": "yUhgxC0F7Ww-",
        "outputId": "8fe09d92-0990-46d3-9bb4-03d1dd2f9d9d"
      },
      "execution_count": 38,
      "outputs": [
        {
          "output_type": "execute_result",
          "data": {
            "text/plain": [
              "' from transformers_interpret import SequenceClassificationExplainer\\n\\n# 1. Create the explainer using the correct class name and import path\\nexplainer = SequenceClassificationExplainer(model, tokenizer)\\n\\n# 2. Use a sample sentence\\ntext = \"I feel lonely.\"\\n\\n# 3. Calculate attributions\\nword_attributions = explainer(text)\\n\\n# 4. Display the visualization\\nexplainer.visualize() '"
            ],
            "application/vnd.google.colaboratory.intrinsic+json": {
              "type": "string"
            }
          },
          "metadata": {},
          "execution_count": 38
        }
      ]
    },
    {
      "cell_type": "code",
      "source": [
        "# making the BERT+BiLSTM Model\n",
        "\n",
        "class BERTBILSTM(nn.Module):\n",
        "    def __init__(self):\n",
        "        super(BERTBILSTM, self).__init__()\n",
        "        self.bert = BertModel.from_pretrained('bert-base-uncased')\n",
        "\n",
        "        # --- Compatibility attributes for the explainer library ---\n",
        "        self.config = self.bert.config\n",
        "        self.base_model_prefix = 'bert'\n",
        "\n",
        "        # --- Model Layers ---\n",
        "        # The paper specifies a 2-layer BiLSTM\n",
        "        self.lstm = nn.LSTM(\n",
        "            input_size=768,       # BERT's hidden size\n",
        "            hidden_size=768,      # LSTM's hidden size\n",
        "            num_layers=2,         # Number of LSTM layers\n",
        "            bidirectional=True,   # Make it bidirectional\n",
        "            batch_first=True      # Input/output tensors are (batch, seq, feature)\n",
        "        )\n",
        "\n",
        "        # The input to the classifier is twice the hidden size because the LSTM is bidirectional\n",
        "        self.classifier = nn.Linear(768 * 2, 2)\n",
        "\n",
        "    @property\n",
        "    def device(self):\n",
        "        return self.bert.device\n",
        "\n",
        "    def get_input_embeddings(self):\n",
        "        return self.bert.get_input_embeddings()\n",
        "\n",
        "    def forward(self, input_ids, attention_mask=None):\n",
        "        outputs = self.bert(input_ids=input_ids, attention_mask=attention_mask)\n",
        "\n",
        "        # Use the last_hidden_state as input to the LSTM\n",
        "        last_hidden_state = outputs.last_hidden_state\n",
        "\n",
        "        # Pass the sequence to the LSTM\n",
        "        lstm_output, (h_n, c_n) = self.lstm(last_hidden_state)\n",
        "\n",
        "        # Concatenate the final hidden states from both directions\n",
        "        hidden = torch.cat((h_n[-2,:,:], h_n[-1,:,:]), dim=1)\n",
        "\n",
        "        # Get the final logits\n",
        "        logits = self.classifier(hidden)\n",
        "\n",
        "        # Return as a tuple for compatibility\n",
        "        return (logits,)\n",
        "\n",
        "# Create an instance of the new model\n",
        "model_bilstm = BERTBILSTM()\n",
        "\n",
        "# You can print it to see the new architecture\n",
        "print(model_bilstm)"
      ],
      "metadata": {
        "id": "AdQ97-Wk82WW",
        "colab": {
          "base_uri": "https://localhost:8080/"
        },
        "outputId": "7d22e441-1abf-4e3c-d99c-e76a07d86248"
      },
      "execution_count": 39,
      "outputs": [
        {
          "output_type": "stream",
          "name": "stdout",
          "text": [
            "BERTBILSTM(\n",
            "  (bert): BertModel(\n",
            "    (embeddings): BertEmbeddings(\n",
            "      (word_embeddings): Embedding(30522, 768, padding_idx=0)\n",
            "      (position_embeddings): Embedding(512, 768)\n",
            "      (token_type_embeddings): Embedding(2, 768)\n",
            "      (LayerNorm): LayerNorm((768,), eps=1e-12, elementwise_affine=True)\n",
            "      (dropout): Dropout(p=0.1, inplace=False)\n",
            "    )\n",
            "    (encoder): BertEncoder(\n",
            "      (layer): ModuleList(\n",
            "        (0-11): 12 x BertLayer(\n",
            "          (attention): BertAttention(\n",
            "            (self): BertSdpaSelfAttention(\n",
            "              (query): Linear(in_features=768, out_features=768, bias=True)\n",
            "              (key): Linear(in_features=768, out_features=768, bias=True)\n",
            "              (value): Linear(in_features=768, out_features=768, bias=True)\n",
            "              (dropout): Dropout(p=0.1, inplace=False)\n",
            "            )\n",
            "            (output): BertSelfOutput(\n",
            "              (dense): Linear(in_features=768, out_features=768, bias=True)\n",
            "              (LayerNorm): LayerNorm((768,), eps=1e-12, elementwise_affine=True)\n",
            "              (dropout): Dropout(p=0.1, inplace=False)\n",
            "            )\n",
            "          )\n",
            "          (intermediate): BertIntermediate(\n",
            "            (dense): Linear(in_features=768, out_features=3072, bias=True)\n",
            "            (intermediate_act_fn): GELUActivation()\n",
            "          )\n",
            "          (output): BertOutput(\n",
            "            (dense): Linear(in_features=3072, out_features=768, bias=True)\n",
            "            (LayerNorm): LayerNorm((768,), eps=1e-12, elementwise_affine=True)\n",
            "            (dropout): Dropout(p=0.1, inplace=False)\n",
            "          )\n",
            "        )\n",
            "      )\n",
            "    )\n",
            "    (pooler): BertPooler(\n",
            "      (dense): Linear(in_features=768, out_features=768, bias=True)\n",
            "      (activation): Tanh()\n",
            "    )\n",
            "  )\n",
            "  (lstm): LSTM(768, 768, num_layers=2, batch_first=True, bidirectional=True)\n",
            "  (classifier): Linear(in_features=1536, out_features=2, bias=True)\n",
            ")\n"
          ]
        }
      ]
    },
    {
      "cell_type": "code",
      "source": [
        "model_bilstm.to(device)\n",
        "\n",
        "epochs = 10\n",
        "optimizer_bilstm = torch.optim.AdamW(model_bilstm.parameters(),\n",
        "                                     lr=2e-5,\n",
        "                                     eps=1e-8,\n",
        "                                     weight_decay=1e-2)\n",
        "\n",
        "# 3. Create a new scheduler for the new optimizer\n",
        "total_steps = len(train_dataloader) * epochs\n",
        "scheduler_bilstm = get_linear_schedule_with_warmup(optimizer_bilstm,\n",
        "                                                   num_warmup_steps=int(0.1 * total_steps),\n",
        "                                                   num_training_steps=total_steps)\n",
        "# --- Start Training ---\n",
        "for epoch in range(0, epochs):\n",
        "    print(f\"\\n======== Epoch {epoch + 1} / {epochs} ========\")\n",
        "    print(\"Training...\")\n",
        "\n",
        "    total_train_loss = 0\n",
        "    model_bilstm.train() # Put the model in training mode\n",
        "\n",
        "    # Loop through each batch of data in the training dataloader\n",
        "    for step, batch in enumerate(train_dataloader):\n",
        "\n",
        "        # Progress update every 50 batches.\n",
        "        if step % 50 == 0 and not step == 0:\n",
        "            print(f\"  Batch {step} of {len(train_dataloader)}.\")\n",
        "\n",
        "        # Unpack the batch and move tensors to the GPU\n",
        "        b_input_ids = batch[0].to(device)\n",
        "        b_input_mask = batch[1].to(device)\n",
        "        b_labels = batch[2].to(device)\n",
        "\n",
        "        # Always clear any previously calculated gradients\n",
        "        model_bilstm.zero_grad()\n",
        "\n",
        "        # Perform a forward pass (evaluate the model on this training batch)\n",
        "        logits, = model_bilstm(b_input_ids, attention_mask=b_input_mask)\n",
        "\n",
        "        # Calculate the loss\n",
        "        loss = loss_function(logits, b_labels)\n",
        "        total_train_loss += loss.item()\n",
        "\n",
        "        # Perform a backward pass to calculate the gradients\n",
        "        loss.backward()\n",
        "\n",
        "        # Update the parameters and take a step using the computed gradient\n",
        "        optimizer_bilstm.step()\n",
        "\n",
        "        # Update the learning rate\n",
        "        scheduler_bilstm.step()\n",
        "\n",
        "    # Calculate the average loss over all the batches.\n",
        "    avg_train_loss = total_train_loss / len(train_dataloader)\n",
        "    print(f\"\\n  Average training loss: {avg_train_loss:.4f}\")\n",
        "\n",
        "print(\"\\nTraining complete!\")"
      ],
      "metadata": {
        "colab": {
          "base_uri": "https://localhost:8080/"
        },
        "id": "RQeg9egrkp66",
        "outputId": "0b4cdd64-3f10-479c-c9b5-b8b221f39711"
      },
      "execution_count": 41,
      "outputs": [
        {
          "output_type": "stream",
          "name": "stdout",
          "text": [
            "\n",
            "======== Epoch 1 / 10 ========\n",
            "Training...\n",
            "  Batch 50 of 387.\n",
            "  Batch 100 of 387.\n",
            "  Batch 150 of 387.\n",
            "  Batch 200 of 387.\n",
            "  Batch 250 of 387.\n",
            "  Batch 300 of 387.\n",
            "  Batch 350 of 387.\n",
            "\n",
            "  Average training loss: 0.2591\n",
            "\n",
            "======== Epoch 2 / 10 ========\n",
            "Training...\n",
            "  Batch 50 of 387.\n",
            "  Batch 100 of 387.\n",
            "  Batch 150 of 387.\n",
            "  Batch 200 of 387.\n",
            "  Batch 250 of 387.\n",
            "  Batch 300 of 387.\n",
            "  Batch 350 of 387.\n",
            "\n",
            "  Average training loss: 0.0459\n",
            "\n",
            "======== Epoch 3 / 10 ========\n",
            "Training...\n",
            "  Batch 50 of 387.\n",
            "  Batch 100 of 387.\n",
            "  Batch 150 of 387.\n",
            "  Batch 200 of 387.\n",
            "  Batch 250 of 387.\n",
            "  Batch 300 of 387.\n",
            "  Batch 350 of 387.\n",
            "\n",
            "  Average training loss: 0.0213\n",
            "\n",
            "======== Epoch 4 / 10 ========\n",
            "Training...\n",
            "  Batch 50 of 387.\n",
            "  Batch 100 of 387.\n",
            "  Batch 150 of 387.\n",
            "  Batch 200 of 387.\n",
            "  Batch 250 of 387.\n",
            "  Batch 300 of 387.\n",
            "  Batch 350 of 387.\n",
            "\n",
            "  Average training loss: 0.0048\n",
            "\n",
            "======== Epoch 5 / 10 ========\n",
            "Training...\n",
            "  Batch 50 of 387.\n",
            "  Batch 100 of 387.\n",
            "  Batch 150 of 387.\n",
            "  Batch 200 of 387.\n",
            "  Batch 250 of 387.\n",
            "  Batch 300 of 387.\n",
            "  Batch 350 of 387.\n",
            "\n",
            "  Average training loss: 0.0028\n",
            "\n",
            "======== Epoch 6 / 10 ========\n",
            "Training...\n",
            "  Batch 50 of 387.\n",
            "  Batch 100 of 387.\n",
            "  Batch 150 of 387.\n",
            "  Batch 200 of 387.\n",
            "  Batch 250 of 387.\n",
            "  Batch 300 of 387.\n",
            "  Batch 350 of 387.\n",
            "\n",
            "  Average training loss: 0.0004\n",
            "\n",
            "======== Epoch 7 / 10 ========\n",
            "Training...\n",
            "  Batch 50 of 387.\n",
            "  Batch 100 of 387.\n",
            "  Batch 150 of 387.\n",
            "  Batch 200 of 387.\n",
            "  Batch 250 of 387.\n",
            "  Batch 300 of 387.\n",
            "  Batch 350 of 387.\n",
            "\n",
            "  Average training loss: 0.0001\n",
            "\n",
            "======== Epoch 8 / 10 ========\n",
            "Training...\n",
            "  Batch 50 of 387.\n",
            "  Batch 100 of 387.\n",
            "  Batch 150 of 387.\n",
            "  Batch 200 of 387.\n",
            "  Batch 250 of 387.\n",
            "  Batch 300 of 387.\n",
            "  Batch 350 of 387.\n",
            "\n",
            "  Average training loss: 0.0001\n",
            "\n",
            "======== Epoch 9 / 10 ========\n",
            "Training...\n",
            "  Batch 50 of 387.\n",
            "  Batch 100 of 387.\n",
            "  Batch 150 of 387.\n",
            "  Batch 200 of 387.\n",
            "  Batch 250 of 387.\n",
            "  Batch 300 of 387.\n",
            "  Batch 350 of 387.\n",
            "\n",
            "  Average training loss: 0.0000\n",
            "\n",
            "======== Epoch 10 / 10 ========\n",
            "Training...\n",
            "  Batch 50 of 387.\n",
            "  Batch 100 of 387.\n",
            "  Batch 150 of 387.\n",
            "  Batch 200 of 387.\n",
            "  Batch 250 of 387.\n",
            "  Batch 300 of 387.\n",
            "  Batch 350 of 387.\n",
            "\n",
            "  Average training loss: 0.0000\n",
            "\n",
            "Training complete!\n"
          ]
        }
      ]
    },
    {
      "cell_type": "code",
      "source": [
        "import numpy as np\n",
        "from sklearn.metrics import accuracy_score, precision_recall_fscore_support\n",
        "import torch\n",
        "\n",
        "print(\"\\nEvaluating the BERT-BiLSTM model on the test set...\")\n",
        "\n",
        "# Put the model in evaluation mode\n",
        "model_bilstm.eval()\n",
        "\n",
        "# Tracking variables\n",
        "all_preds = []\n",
        "all_labels = []\n",
        "\n",
        "# Evaluation loop\n",
        "with torch.no_grad():\n",
        "    for batch in test_dataloader:\n",
        "        b_input_ids = batch[0].to(device)\n",
        "        b_input_mask = batch[1].to(device)\n",
        "        b_labels = batch[2].to(device)\n",
        "\n",
        "        # Get model predictions and unpack the tuple\n",
        "        logits, = model_bilstm(b_input_ids, attention_mask=b_input_mask)\n",
        "\n",
        "        logits = logits.detach().cpu().numpy()\n",
        "        labels_flat = b_labels.to('cpu').numpy()\n",
        "\n",
        "        all_preds.extend(np.argmax(logits, axis=1).flatten())\n",
        "        all_labels.extend(labels_flat.flatten())\n",
        "\n",
        "# Calculate metrics\n",
        "def calculate_metrics(preds, labels):\n",
        "    accuracy = accuracy_score(labels, preds)\n",
        "    # Get precision, recall, and F1-score\n",
        "    precision, recall, f1, _ = precision_recall_fscore_support(labels, preds, average='binary')\n",
        "    return accuracy, precision, recall, f1\n",
        "\n",
        "\n",
        "# Calculate metrics using the same function as before\n",
        "accuracy, precision, recall, f1 = calculate_metrics(all_preds, all_labels)\n",
        "\n",
        "print(f\"\\nResults for BERT-BiLSTM:\")\n",
        "print(f\"  Accuracy: {accuracy:.4f}\")\n",
        "print(f\"  Precision: {precision:.4f}\")\n",
        "print(f\"  Recall: {recall:.4f}\")\n",
        "print(f\"  F1-Score: {f1:.4f}\")"
      ],
      "metadata": {
        "colab": {
          "base_uri": "https://localhost:8080/"
        },
        "id": "TGvVtiv0li5s",
        "outputId": "d7a87046-f25d-4e9a-a4f6-d77c6c9eca6b"
      },
      "execution_count": 43,
      "outputs": [
        {
          "output_type": "stream",
          "name": "stdout",
          "text": [
            "\n",
            "Evaluating the BERT-BiLSTM model on the test set...\n",
            "\n",
            "Results for BERT-BiLSTM:\n",
            "  Accuracy: 0.9851\n",
            "  Precision: 0.9869\n",
            "  Recall: 0.9831\n",
            "  F1-Score: 0.9850\n"
          ]
        }
      ]
    },
    {
      "cell_type": "code",
      "source": [
        "# Define a new save path for the new model\n",
        "SAVE_PATH_BILSTM = 'bert_bilstm_model.pth'\n",
        "torch.save(model_bilstm.state_dict(), SAVE_PATH_BILSTM)\n",
        "\n",
        "print(f\"\\nModel saved to {SAVE_PATH_BILSTM}\")"
      ],
      "metadata": {
        "colab": {
          "base_uri": "https://localhost:8080/"
        },
        "id": "2owQRGIinBeH",
        "outputId": "341b002e-75e9-4924-863e-6ab5fb2b96cd"
      },
      "execution_count": 44,
      "outputs": [
        {
          "output_type": "stream",
          "name": "stdout",
          "text": [
            "\n",
            "Model saved to bert_bilstm_model.pth\n"
          ]
        }
      ]
    },
    {
      "cell_type": "code",
      "source": [
        "from transformers_interpret import SequenceClassificationExplainer\n",
        "\n",
        "# 1. Create the explainer\n",
        "explainer = SequenceClassificationExplainer(model_bilstm, tokenizer)\n",
        "\n",
        "# 2. Use a sample sentence\n",
        "text = \"The Avenger Endgame is a good movie but I don't like Captain Marvel in the movie\"\n",
        "\n",
        "# 3. Put the model in TRAIN mode before explaining\n",
        "model_bilstm.train()\n",
        "\n",
        "# 4. Calculate attributions (this will now work)\n",
        "word_attributions = explainer(text)\n",
        "\n",
        "# 5. Display the visualization\n",
        "explainer.visualize()\n",
        "\n",
        "# (Good practice) Put the model back in evaluation mode afterward\n",
        "model_bilstm.eval()"
      ],
      "metadata": {
        "colab": {
          "base_uri": "https://localhost:8080/",
          "height": 878
        },
        "id": "WbRqTSNSnEgL",
        "outputId": "a569b9c2-4480-4451-a093-fd2faa513032"
      },
      "execution_count": 57,
      "outputs": [
        {
          "output_type": "display_data",
          "data": {
            "text/plain": [
              "<IPython.core.display.HTML object>"
            ],
            "text/html": [
              "<table width: 100%><div style=\"border-top: 1px solid; margin-top: 5px;             padding-top: 5px; display: inline-block\"><b>Legend: </b><span style=\"display: inline-block; width: 10px; height: 10px;                 border: 1px solid; background-color:                 hsl(0, 75%, 60%)\"></span> Negative  <span style=\"display: inline-block; width: 10px; height: 10px;                 border: 1px solid; background-color:                 hsl(0, 75%, 100%)\"></span> Neutral  <span style=\"display: inline-block; width: 10px; height: 10px;                 border: 1px solid; background-color:                 hsl(120, 75%, 50%)\"></span> Positive  </div><tr><th>True Label</th><th>Predicted Label</th><th>Attribution Label</th><th>Attribution Score</th><th>Word Importance</th><tr><td><text style=\"padding-right:2em\"><b>0</b></text></td><td><text style=\"padding-right:2em\"><b>LABEL_0 (1.00)</b></text></td><td><text style=\"padding-right:2em\"><b>LABEL_0</b></text></td><td><text style=\"padding-right:2em\"><b>3.48</b></text></td><td><mark style=\"background-color: hsl(0, 75%, 100%); opacity:1.0;                     line-height:1.75\"><font color=\"black\"> [CLS]                    </font></mark><mark style=\"background-color: hsl(120, 75%, 83%); opacity:1.0;                     line-height:1.75\"><font color=\"black\"> the                    </font></mark><mark style=\"background-color: hsl(120, 75%, 86%); opacity:1.0;                     line-height:1.75\"><font color=\"black\"> avenge                    </font></mark><mark style=\"background-color: hsl(120, 75%, 90%); opacity:1.0;                     line-height:1.75\"><font color=\"black\"> ##r                    </font></mark><mark style=\"background-color: hsl(0, 75%, 92%); opacity:1.0;                     line-height:1.75\"><font color=\"black\"> end                    </font></mark><mark style=\"background-color: hsl(120, 75%, 98%); opacity:1.0;                     line-height:1.75\"><font color=\"black\"> ##game                    </font></mark><mark style=\"background-color: hsl(120, 75%, 92%); opacity:1.0;                     line-height:1.75\"><font color=\"black\"> is                    </font></mark><mark style=\"background-color: hsl(120, 75%, 88%); opacity:1.0;                     line-height:1.75\"><font color=\"black\"> a                    </font></mark><mark style=\"background-color: hsl(120, 75%, 85%); opacity:1.0;                     line-height:1.75\"><font color=\"black\"> good                    </font></mark><mark style=\"background-color: hsl(120, 75%, 93%); opacity:1.0;                     line-height:1.75\"><font color=\"black\"> movie                    </font></mark><mark style=\"background-color: hsl(120, 75%, 88%); opacity:1.0;                     line-height:1.75\"><font color=\"black\"> but                    </font></mark><mark style=\"background-color: hsl(120, 75%, 96%); opacity:1.0;                     line-height:1.75\"><font color=\"black\"> i                    </font></mark><mark style=\"background-color: hsl(120, 75%, 91%); opacity:1.0;                     line-height:1.75\"><font color=\"black\"> don                    </font></mark><mark style=\"background-color: hsl(120, 75%, 93%); opacity:1.0;                     line-height:1.75\"><font color=\"black\"> '                    </font></mark><mark style=\"background-color: hsl(120, 75%, 88%); opacity:1.0;                     line-height:1.75\"><font color=\"black\"> t                    </font></mark><mark style=\"background-color: hsl(120, 75%, 87%); opacity:1.0;                     line-height:1.75\"><font color=\"black\"> like                    </font></mark><mark style=\"background-color: hsl(0, 75%, 99%); opacity:1.0;                     line-height:1.75\"><font color=\"black\"> captain                    </font></mark><mark style=\"background-color: hsl(120, 75%, 89%); opacity:1.0;                     line-height:1.75\"><font color=\"black\"> marvel                    </font></mark><mark style=\"background-color: hsl(0, 75%, 98%); opacity:1.0;                     line-height:1.75\"><font color=\"black\"> in                    </font></mark><mark style=\"background-color: hsl(120, 75%, 87%); opacity:1.0;                     line-height:1.75\"><font color=\"black\"> the                    </font></mark><mark style=\"background-color: hsl(120, 75%, 85%); opacity:1.0;                     line-height:1.75\"><font color=\"black\"> movie                    </font></mark><mark style=\"background-color: hsl(0, 75%, 100%); opacity:1.0;                     line-height:1.75\"><font color=\"black\"> [SEP]                    </font></mark></td><tr></table>"
            ]
          },
          "metadata": {}
        },
        {
          "output_type": "execute_result",
          "data": {
            "text/plain": [
              "BERTBILSTM(\n",
              "  (bert): BertModel(\n",
              "    (embeddings): BertEmbeddings(\n",
              "      (word_embeddings): Embedding(30522, 768, padding_idx=0)\n",
              "      (position_embeddings): Embedding(512, 768)\n",
              "      (token_type_embeddings): Embedding(2, 768)\n",
              "      (LayerNorm): LayerNorm((768,), eps=1e-12, elementwise_affine=True)\n",
              "      (dropout): Dropout(p=0.1, inplace=False)\n",
              "    )\n",
              "    (encoder): BertEncoder(\n",
              "      (layer): ModuleList(\n",
              "        (0-11): 12 x BertLayer(\n",
              "          (attention): BertAttention(\n",
              "            (self): BertSdpaSelfAttention(\n",
              "              (query): Linear(in_features=768, out_features=768, bias=True)\n",
              "              (key): Linear(in_features=768, out_features=768, bias=True)\n",
              "              (value): Linear(in_features=768, out_features=768, bias=True)\n",
              "              (dropout): Dropout(p=0.1, inplace=False)\n",
              "            )\n",
              "            (output): BertSelfOutput(\n",
              "              (dense): Linear(in_features=768, out_features=768, bias=True)\n",
              "              (LayerNorm): LayerNorm((768,), eps=1e-12, elementwise_affine=True)\n",
              "              (dropout): Dropout(p=0.1, inplace=False)\n",
              "            )\n",
              "          )\n",
              "          (intermediate): BertIntermediate(\n",
              "            (dense): Linear(in_features=768, out_features=3072, bias=True)\n",
              "            (intermediate_act_fn): GELUActivation()\n",
              "          )\n",
              "          (output): BertOutput(\n",
              "            (dense): Linear(in_features=3072, out_features=768, bias=True)\n",
              "            (LayerNorm): LayerNorm((768,), eps=1e-12, elementwise_affine=True)\n",
              "            (dropout): Dropout(p=0.1, inplace=False)\n",
              "          )\n",
              "        )\n",
              "      )\n",
              "    )\n",
              "    (pooler): BertPooler(\n",
              "      (dense): Linear(in_features=768, out_features=768, bias=True)\n",
              "      (activation): Tanh()\n",
              "    )\n",
              "  )\n",
              "  (lstm): LSTM(768, 768, num_layers=2, batch_first=True, bidirectional=True)\n",
              "  (classifier): Linear(in_features=1536, out_features=2, bias=True)\n",
              ")"
            ]
          },
          "metadata": {},
          "execution_count": 57
        }
      ]
    },
    {
      "cell_type": "markdown",
      "source": [
        "![image.png](data:image/png;base64,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)"
      ],
      "metadata": {
        "id": "YWcgmE2MFvaC"
      }
    },
    {
      "cell_type": "markdown",
      "source": [
        "![image.png](data:image/png;base64,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)"
      ],
      "metadata": {
        "id": "n2wSIkLpF6y4"
      }
    },
    {
      "cell_type": "markdown",
      "source": [
        "![image.png](data:image/png;base64,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)"
      ],
      "metadata": {
        "id": "zcFFE79rGMkM"
      }
    },
    {
      "cell_type": "markdown",
      "source": [
        "![image.png](data:image/png;base64,iVBORw0KGgoAAAANSUhEUgAAAxIAAABFCAIAAABRxUdOAAAQAElEQVR4Aex9fXBU15XngTib2llPUpWpGuIKCi3RWAiBY03iLVI1wlZFMVgYGtpDMJKR6RgVY2+IYhA4SjuUy6ZXYxAQhSwZShA5wshWmAgaLBmcTomPqRpX7AzYIKQeWtIjIuVh/tja8XizlbUTzTnn3vfV/brVrQ+QxOm6/fq9c88999zfu+/e88657/XMYfkIAoKAICAICAKCgCAgCGSBwEyQjyAgCAgCgoAgMIURENUFgVuHgJhNtw5rqUkQEAQEAUFAEBAEpjQCYjZN6dMnygsCkxUB0UsQEAQEgemIgMts8slHEJj6CEzH61TaJAgIAoKAIDApEHCZTYZ8pjUCd0jjJsWFJUoIAoKAICAITEcEXGbTdGygtEkQEAQEAUFAEBAEpgkCt70ZYjbd9lMgCggCgoAgIAgIAoLA1EBAzKapcZ5ES0FAEBAEJisCopcgcAchMGXMphFXKk+hkza12jK1tJ1C3UBUFQQEAUFAEJhyCLjMpqGD5ThH1sZuRytitVh1+cGhDHX/0333pUtJpbgh5c2Gg4zylzZnku7gzWrXaC73uavIqphmyrA6W3OYP91bEJjabvMQf6l1W5wEpI1f8mrXjLMz0qXkiqk4KuxIOapK7U0qgufO50IguVI5TkVAKIKAICAICAITgIDLbJoA+bdRZCLyo/G3LchkGV/zKyuEopGMBuWIMjxskRHLjJ7BHz5rmYUtgY5QZms4XT23Vud0WghdEBAEBAFBQBCwEZi+ZlOh398RmkDPma8mZsRqfDaUI+6NnqHQDw0hl/Ns9LJuccmyunp/ouN09n6+sr2GsbfMpWV5k2E0uUmufDkQBAQBQUAQEARuDQJZmk1DzUvNsIsdQOmmuBqRy2u3OKJ7jjCNabUw59LmZoo3UQGTboktb+6320seHZ/P5LHpOe6tDdf7oxs9gjtKPunh8BuRb4NIvtot2CxdyiL6VDwuVlvakIB4pBQLUjMpSEc8FiYmEVUlOgv0WblIHV0qDoeDicgmjyBjSi0EqeXdodwt3djeUAdAR4g0wYDX0trapagZKQ+kMO5zGrueI7WO9OGqSBPFjPooikIYgHhSdaYgnatpQAXVaeLexULG3GeUTrIVBAQBQUAQ8EZAqDOzgACnq9JIPNCCgZezYXThqFm5e0soCiocE4aOhJaD0/BDkUSQeC+Q1cJzs8qLt8N3UERLACC6myyAoYOhSBwCh4gIHVHFNY5b/6aWcGFKeItMn2LSzzBaiiOlylaI1YY6uIHGhYU9piZI7AlfQO2QE60WDPmVN2GjoDB84UxNnqloWUUAOk6ocODQmfZE4dplPiBLRZe9EO4ZZZTKrIF+y/a2BOKRRveysyxrydsUawkC4ElRXpx4FLZhq9BVNtS8KVJM+BsGndnIBDi0uhsbEv7gMoTLoa0Vueuu3dijI3qHip12YbLOhEHesqDtuOruikJwVRlg5wz11PNZOhvu2ejob1REvoKAICAICAKCwHgikIXZZJxuj+Oki1MUgG/Z2kLgmEv3CXRgsIkAQIEYpRTZDQCBCoqo5C1d64dE+xkzPqOZ/QsLAeJXEjB0moytwKpyLJpXsw2tKdyhhFMmzupNRKfDMXzzag6Gk8JbON366+tIP9T7O2gFksWDRJ6DsSqHJhgb0ubRUKIHs9Kk8lUBiJ5ggyYRTwS2oUVFTeMdLEICGTHcH0sqazoUcDvPRl2LwhyVyas5Y2icE3hGkDIuKRF5yGd+QtFgS2wTWU14upX9hMA7InfmEjQb7bQ6UI+Kt5+mlf54Rvzh75SBgZ0zECb52Dlr0Cdn97e0YiRDEJhmCEhzBAFB4NYhkIXZpJTBEA/NhKURNKHQ6DHYkCj243yo8p3b6EZi9aHbCQAtCWeWYz9xBUUVLvQ7SOO/66Op1OHGwOkWEg2lrJ+PNexJGET0F6Yogp4zzRdqhwwfshqjXehvQlNSWSTUNA0CStgYZTMxg4Tsssrr0HkWUu4xKjEOtVBEDDXEtLsnpf1Ux6i+ygeJpi8n5eIC0rZ4blJ/KWsyyPOE9VOym5amWj6bZBihtQTk1UOpCYiGqDB9MRaZvr+lkSlkQUAQEAQEAUEgawSyNpswxMOTIG+aynz+YqyjJ2G6kvDAThx3Y0bc6FnTzjX3LLeTSZiYXx3e6lLS81Bvv4rpoG6UMFZFxNTptvtHERVtNIxYmFqrJHhs89Cv1nGiO3YiSmEjZKCmuUAYnxXNeeg883dEGtHcxEpgzLUYzZEO08Q5uJZETuCXtO3pT+0vaDnRaTAoShgacXEShkTRddd9ph048IcY+CHQwgL0Jm1/m8C2eYgWkiAgCAgCgsB0RCALs4kDc3r5jnLAkFegbFUQY20qYkLrVxQ4ZEAAsOuF1vegByD9REhLVZCXw1tDzbvNFUUwYkFVVfZbDm+Za6do3m1oRNcQlh+i91TRsmIk6gaCSxNQdiGZF8iePhFE0dDGHgobERc1Ta3fwiPy6CyltVy4P9bkq2mphygFN1GSZy1sAuon19D7hWyZkw7OkY2YmXGsuaQtWjxsN1GHoYAddSdzNRIZ4v6RfY8YEo1HQg3FZmAOo8bW8jVaG64W3o1VWSkvCAgCgoAgIAh4IeBhNtnRJbR66AmmvJozFyg8hIcYdysMX+AbevLiQIJXsZxYWG9GeHw1MXYbIG9pQwL9OnrpjFfdebxUmasLQdBe2+TFS7Svvf9+ukTZGb7lGN4CnU/LuntCqJ/PV9oA4bP8ZHt5U0tQxXpsTcq+E/bHIxTP2wTher8yocguJCIZW1og/ZBNAHrxFh9j04q5rM9Hi831GinKUl+u33ujGNJt8zaFLaQIwJRabLV99nlhuzDkS7LeKOYFjL/vREVLgCNenvUOPzScLnnyexId2poLnrC3HCrmLoRQhHrqW5wvdPDWGdhe1149rAc7Z0uxjrqaYpEsSRAQBAQBQUAQmAAEXGYTTmw60mH/sFUBODmZJNsCMMMrRtMy0sx0FeBcaPLyWmDMY05dUIlSYoFe0kPMsZpNTfir+JUaSfYW5mZOWI2VSIKuTtG4UpNCuVoWRugUg0OTuQBqxZXVkDM1ZZtihiquiRimdL23iWQqBi3PEog16caaOYCkzMnixB2CiO1U3OfEYJoUytWyzFq0hkhtqkG1FWc5wUtNoB2TE2wlm8pJLGFOxW1YsEYUlDkhj51SittZjursNzORPlq8OvvUohF1VgxaNGmuRbjoOlt+BAFBQBCYNghIQ247Ai6zKRdthtSbnFQMjhcGFft9uQiYTLwUraPII+rEQbo0S90xW5IgIAgIAoKAICAI3LEIjNps4uXJoEM8IVpZbPswphyaFPmyHhUEHYWccq0QhQUBQeB2ICB1CgKCwB2EwKjNJgAKx+jYiHHL/mZkok6NI9DjjrVNVIUiVxAQBAQBQUAQEASmGgJjMJumWlNF3zsIAWmqICAICAKCgCAwAQiI2TQBoIpIQUAQEAQEAUFAEJiOCNw6s2k6oidtEgQEAUFAEBAEBIE7CAExm+6gky1NFQQEAUFAEBgLAlJWEEgxm+jFzb6Uj/kq57EBRs/5+3zqnQUjSqKXa/uyrJdeD538LscRKwAu5Wpq0kssRxahOWK1KIbfT80yk94qqZlG8eMpzZOYRrg6m/rdCml4THJOZ8csZP4yAghClifXLKZ+7RaNQQdbiBI6im1OtY9L/1Q1+rLt5642qbIM+BjanksPcVWfdKDkYA/ANG79P6kOOZy8CDh6IynJV4fPHpN5fOARknJz+HoW9CTmIFRYBYExITAzubT5fNyFej9mmX+s5nr/IdKnTyoMX1CPA54N+yEamvgRH8cXnuqmD4TYku4u/d846n91kKITzqa20dZdO/7wToRMrfvE/wyd1v+Tk6D/J3bU173FvmGYiA4z3jK7a9X/B+CldCgA8UipfdIdrZqoXZF7+xHIm1uMSvT0858ngfm3TvErCaQCDPX34G/x3DzcTrHkGsGmmO6i7gQhkGI2TVA9k18s/9MIxNW/7I1aXX6RQfpXGOB0VdqgRpJRVzEJC/IoWRgIFIL5136sJI44OJvyLpBvL6RtK02xfkYAzeJL2UEviyVz1EJSpN4ygnG6PQ4QDAQAzH/ro7rxTj3UQTv4zdBh6MX0hkEvdke+XJJLprpNGuPb1Y0Ez4p+mhXVa9/HKDCX5gjvpECA/yRCd2PVH0itnoSBP0N8exBYVY77Uyq5RrAppbkoO5EIZGs24VCL3vfaLRSN8m3pxpHdZ0YWdFaM1cR+hnyccvGp4PzHZWjjjpSd4RqRbt2/jrIKVi+7jW6R2VgsxO1FJRxuZ9DvSScc+pFFJW6I6VNRcrgYhyZjtcpmor+BU81hbzMzuLwLTPGVH0wooVlundW5/eEJ9Up3UpVGMZLn1SKij+YbO4H2kD9YVxdED2WU/puZpLAHAnfoPaI1zy1l+wb9ENRtFEq1tUuxodhwddisblSxBPQ3l2MOJhNJ1hY5KVM1szaG+KfK1EIUDwrAZPVDLeRgSo8iqZm/rCHKojRu/XPoTDue4EBF06ogWPY6as42UyLykK+8rsbVYVTP31LLDaj9+UECyWodNuD0FtIPv5qo+bsxi81W7r1JndDFAwwRCsCk0QbN0JzahVisY4MnWvVqBw2bg7JU0lqh74E1TyJy1eW1W6hR1HtVvcxkFXQIlt1JhoBv2Vq8a2L3Endsf7iebgfYjZq4grcH6h+r6PaJTypuzKtbdRJrcsEOYnc2e2j1bC9fmEubm82eX36w2yzLQy7K4s6mhWOldhflskjBZGpi9nZ1iT3+uLrrw47t46veHq59OAmyQizEoYDVV1WjUDYmi8idHAl8JXJ52UxFBGbmpHQUVqEb3v5DsaTCONJhPwu2IA/G+KIbzZE3iS35kOc/FSxTkTK7ZyfaoU5Jg44Qdb5RVpFcpcex0RzBW3zH3/FajcW+zq9BR0VaAjjxs3pDB0OROHAQswU60GxIFomXDc55zGC0BIHQ8DchLMhHRLwdx4twY9RfT0HCliBOk3xlGs0hdEcxhi3Q7iEXy3smng5JskHVJRpCzaaFBB1X/GdYeUhENpFh4dkiT6nZEDlC51+7NI/+5xjAjNOVNdHZRG8K9ofml8+04CAKdJbNgG+8Z+FB1Mo8dNQUjftjmMPhntBB25pysOBuXk2qTCTzQGkhbxwKoJFK0zBnoVtH9Sg8I9ARsSHSuZ4/E9Q/7Vtw+tNi0HE69CGRbuAPnzVijc2uDqO061AXYdPX1KG1jbfDdxC1C+FC7Gzcl6ws5w79lTVat9x1sRM6shy9wrhQD2i30RWnGFQXohOaiPxI2WEqg7fKU4u7NMHo6QqPPC4BA5zE1LPTU4i9xYgtPV0+mpEE65R0uxDI83OYLmGA/q+tTavwkqd95Xyif6xCIyMUpUGAOypESpU5wipb4+2IQyuzOza659MIg+PelW0onPajG+2r1sg9sgAAEABJREFUQAvHIaUjxKNBJk1AX2Kvv04dXo1gTWU49ZjDNV2Vaj5SWjgUiO6mAdbZyfFypsHfoHuS1HlECZDtJEUgjVq5mU2BirI0cojMNxmgeHgG1TMB5WX64vxnGGf8jWiF41jp4qTJGAksjebj0VaBMtIkNIOwXkxYNV7Pjviaagjepp+wzakycgx0nOgGe84DyKvZhuNDknwnA5TtxSs52T6wrA0syRNnFP00rgZuCqfKRWbvxMGRun66WWd3hYMruIpPGysfxyikiqmtXeZDHiZSi3B/dMkhTd1xZinNYaEmVayRL+dht+N0OrspqZR5yMgXhutURKC8Ds0IHTsgDt2j/IVoOiT0yguiZ/hOTP80TnOEjk9NTi3VZzNFYY1n3jKXzy+FLS2Bz2MwXEO9AujvhmwLGGcO1tOnZ8bUM4I9nOYSFm7aqUPO0Awy8H8JMHGks+O6Cpau9Zs2JYuXzSRFwLymVEfCDuNfiP4nHA34OqOLmt3SgW01FMzVwyYNeqo9xEB73ENARfQ8h1Zicn/V36Fydbqg2re5tHDrQsuoCXheYhzOjs2laQrvymzRuKcvPa6U/G3OJliDP8OiOcc+6mKtkm4bArmZTdmoiYMmGiE+tELw1j6eyKII3s1jiVAP+l2UdZ9axhyvP+Cs3KvgYp4bNJXQpFHJYTMl85rWFVskGLB3up2Tefl4RAbmQvfPQ9h2n28j+ZV6+ofo5gx4mYDKz36Lviufr7ShuIW9TZ7lzHGNM5NbxMRRbHgA8geXqaGQ59Uo2n+jkJRSxBqGUnIyERj5JAYay5JI2R9OSP90WgaAZxwnGLJos9cqLad7cW5atuQM5RJIovYkUi2kJBbrEP1keBnhvTVSEg2N3cAnQodmkKYSE9WutU1zdsbzMrfqkp0JQyCPDFyI7o70YIem2xJlwfdEduPgRmOaWhieVD8Oem4K95DkbmOzeOzlwKyHlH/iJepJolI0ceejtwmH6o096Aa27hDcHNZR+iaM16hrVSU7twOB8TebVJwIB1BK7iiAdwMNddvdEtvEM68nkxrTi/33cG7OVXCpMW2c1hX9AZ++/NJbhSMyKHUoFkNA8RcR8Bdm7wVREvRW+a7CZ5vYsaSJST8umyy5RUm82R5yvZBoKMUhBRObleQXzLZ8Jr70o0+mUox8EkMOA2tSSYAJ6Z9D7InBaBpihqk0Esd6s/TOImempCannJ9aUncmSYIpsJJEGuGwbC9FCZmJT0SyScREzrY3ac7ObbjMbZ1kL3cEVBeKJxKgfbpswScS1LfJIcSHyWJTOir3kORuk1xqtMd6SPkaP/eXJCRFE1e+vs85lBw0cDHpg/RNGKdRV9cjP7cJgVGaTY7ZXU8AqH+eutvo6sZ9DO7ibGCvjUBS5sT3td0/irgNEb2QQnfZirIxVZFZgbS57FCNY2wLOTAirlbzqRsp5VYZaqbbKcx1JicDrefw0VJocA4cHJjTM2X3FkSLloK5GxjB2zSn0JH22RuuFmk5WfUiHstL7NkiZ4Hs91kmBFrY7OMNrSoA9MyjDDWM4g4lHkpoZ+SvWh8ADj+W37Ym7f6G97QUBUiWx8jHI40xzog1RuJgOsOYMrrN+PZPg28VnGMo+1lVMJEbq7V0dhhNSvejmzzEBhnHOBT+rLkCUxVNI5N7he4q2GOp7+nQhiqWdovMFBrmJSPIpGcmP/CJgOgJPhE8IGAPZ6JWFSDN2ckby0iCKki6PQhY1zgZSaQCB8VoR4W9+FBf3aCGTe6oxGF9uYfobqN4rKzR7+hKrSElK00A1BXkqJY9Ut2NDe5pysHAu84mqKsDez5fX/GkeYTZZTPVEJg5OoX10oeNONk3Aq2lYDEY/cXRn5eFYvTXX3/B8+lo7XvHopRqu301LfV+eteLzxfq4YfY1UBPIv0BiCCXLS27Kqjo+H3L9hq8ZBsVCUXRROBYHoYkMB7BbQlB0GMNEjKgL5cZMHaWCKjbFHW5Im5Lm4fKm4xDAeWnQSeNZsAG8rpFqgzWeshV7TKdvciGCWessr1kr1B1D0WKSR82oRRzsPgKhQJt5T1bpHhz2/Iw5F4KwKODHvV4n/oDjho8lLDaIxrTgeIr5LzCwGVQ+yC9+5uamFNkOpHH6Cc6LdCNl327CEPEVKcJ6Z/qNsBlzKllYTyqstGQiOAp29INzg6TuQ2FAdiNSqPjCl2YyulYVmdeWeX9C+2+lEamo1dgjwUMRnhev6laKMBVT8aLmNb8mtdI6iWgmDXIG6PeZwevgixGklRNhHJbEeBrHDVQRhLuqOgzgJ9ue/C4rMngp2qwn/pKIxC+YKiOill2wh6SeWi1WbPeCwQhhJXaQ0pWmgDYI9jppS20SpLc6qGeYACDAmxCeWuATUjt+Y7ryx6KvcsLdXIjkNZswhOPzgNr3Ew6xP7UhNmUmmo20WNPmhPHOyLSN3WuUkIoz/7SZWPTzzQ1nTEMHnOxkxlGrGkvCUd2W5pHFXgN6FK5oJ22lNJHt4glsjKoBSZSmGlqrR9SYjWbCAzW0CVTyUEOTKY0ZsBjbiOg5YT7nEwGsIixTTUkV3GqKmlrSuBSamNXzcdNe6kcCVRY7W2iY8pKVR6pmqi0pVJUS3Zfpb87FKuwUnLUPp7HGh8o+VRfOTfBbpd9qHiaWH/kdDyzyTxEcvU3xY/kJrdMi85Zui2sjPaxKwalpM4GW0MsZSYCRzETZZz6pxLIZ82uvAZ7PsV/AdRZw/oIWLPhCJeiE5FKKSHcBOZRumEpJYRY7Ba5+xLzI2eKTIYIMzBpoLQyulIuiKVYuHOjlMFilBwMTjqrSoU8iVy1WSlyqcaSOMMNFOZJmqQI6DOrewsqyY9T4PVvL8DgLsSnVY3zxOScQfAYZxd6hgaZnEMrZ6gNDzvcK1ia7m+qLrpg8VLmq0ntc5m5NXoisXXjslgJJi3BvPRsHscg71PykduI7W1CaRkVsC89LGD1fO7kSMDk0I0VlM0UQiCt2TSF2iCqCgKCgCAgCAgCgsC0QmCyNkbMpsl6ZkQvQUAQEAQEAUFAEJhkCIjZNMlOiKgjCAgCgsBkRWDK6aXihlaYbMrpLwpPQgTEbJqEJ0VUEgQEAUFAEBAEBIHJiICYTZPxrIhOgkDWCAijICAICAKCwK1DQMymW4e11CQICAKCgCAgCAgCUxoBMZsm4PSJSEFAEBAEBAFBQBCYjgiI2TQdz6q0SRAQBAQBQUAQGAsCUjYNAmI2pQFGyIKAICAICAKCgCAgCLgRELPJjYccCQKCgCAwWREQvQQBQeC2I5DBbOqu9fl8W7pvu4qjU6B7C2pf3mx4lh5qXoq5Pt/S5iE7n9vLZGtTflDle2SpsvwHpb4R/2TNrgT3jOZyn8+UjMfORBU5s1i+dys4izV1nKMUIrfUweCsbFz2VY3pEFC52FzniTCJrLze1Kp+5pWl4CVkFOZZq81FJrLtWWuSnjF9Z+AOrNDR4KAUTyLSJU0EAif+74mk9OTNJ8eezv+/8xOUJgKE8ZX5x3/7t/FK//Gn/xiX9P/7+saSxguf7GFJ6pO35XD4k09uTfI8xeOF+ajlzPQuGUOTKRT1zpv6VON0e5xbwf+cynvmpjB8wdCfliAkGkptg8CRRRzW3xiZRbP5JbPgoUi6v88eOhiJgn/t0jwWRRZPabq/2o7VYlbgkGHwP55qS8uDyH+u2RFxWi0s/NZshk53qLYm2s8oA9Sul5QnHLkJEA05TFg7ixlG86q6W9eB7RblupepM8RqQx3gr8fO2BKwwPEk5lrrNOBP7Fkwgz5Vp3RjBncrAhEX7B5UVCIu2qMPFEltT1URn/qaDF3VfGweKkYYiG6+e3N0QB/xz0dXH2qNHviI92XjQIBOyoI96nJ3kFN33/z2rLu+HUulj0B56+m7Zj395ghM2WRf3//lzz7QeD0b1vHhsZChjlfVNT5Cp5YUY8/9ny7e4+3DGE1LCEm8YHV/oysdj1SqNgEm2BXJsaXcLsf1z1nqqjf5rVElg2IeZhON5hujUOj3Zyg3lbOGzrTj1R0IBgA8pnOrZWUVyAA9/cnzvcWQ6w66CtDW8Remw5WNjMK1y3woGD0lpZG431+I+x6puwtt2sCqcgDfsrWFkOg4jVp6EvOWrvVnbKaH9PEiGWyeBgOIo9LQWzA3AeJX8KR4M+RInRIdeITOYP9ZqX8h9gEFjicxR3CmC3tl5/Dw0RXUGrR4CraX4OEwfTpLthdYlhNlJ31xwF15sfEaseJ3oPpwAQ+aFa3Dwycrk3jH5fB3m1tbN/9uXEQlCflgX/WDX23/wE2lKYRb5CZnd0Qzh56Ksitwx3EZhx/9zMqWpPl/TJibEA7+r7++68GfeFj5JsNk+x3cs2jm/ftum8ILGweGr271A4LvuPyHO2H5DLKNFFpF1pWOFzul1gqVUXmSjvg70Ah1BVjEv/Xq8EDjQpU/wtbDbMISdJt7cC3uTMk0gtJD7AIJrNq7KvN0zlaI5fsZQWiW2ehHiW0r9mY2yMjwB5cpXxNAoMWIhb15hxI9AIUL/SQoz488NK16EtGuovxMVgsJmZCvNk8rmlYFAVIde1ad3HAIriqzKGPemRIdOFNnsBFIXEHPaDI4nkS7zB20l9hTdwQHx6N6OISKoycre7c/35UGgsG+i7DwqSBfOciSv62x8sph7RLF46RUENj/0f5AgZN694Kz1YFn7naSZJ8QoFmHpjHal68gcKsQ6L3cC+urzMsfKnY0Fh05mu7y91Iqf+v/rITcioCH2ZS3KRbbZM7dXvVMbZo9SZd5TOfxSKlaT+LzcZSkpYZ8P9xiRxay6LgY52S5KdtrZIo3JcjdUjxXIV/WZDSlNyN41nTV2pMwPInI5HBX4NGtS0PaPC0H9tslO/aiGxFFThS1DLTstZtrZ1G+vbInS92nRAceoTOoptLKp1A02GI4wAFPouK/87aDxw/3OswgAmDFUfRDWcMoURzf/Pkl4LKTKo7yPauDxbGbIUg3eDX6hehVfa/9uwtfaL3wFhUk39IXWlsxPXQVI3kfHYj+6hjAsV85HU7kJdr4NnEDvL3xwQcd+9X7yHlExD978EFK1e39xEiUjS+9RBSkM7HrpcfD1+HqgcedDqdTVQXbe+FKnXKhAdjxCI/QQ0LHOjFQwbldVfPqeqG3bp5yOA3uWYQ5KnFoCR11th8LJSs2Uo++CZTGFGSbUVWlgp4zZqTx/F3b++Csu2ZhsuNu5G4hyqy7HE4Xiugxcf1JqiT5m9j/wKc++1mVnuQTQJQHnnryARcRixGdOb/84iU8dKfTzxV95rltTxYVfYbSoz/8rc4m3xJRirSHqXtbYWM/XNtV6HQ4JWFOOCjQZjjcHlqg+TNI2NpgApyqmvfiNeh7YZ5ue2z9rFl3qYZzs8yC+vc3NatX362SDiITpWbfPieReu++3+gSN6P/ffU+bU38xmQzKcS5eV/NZi2zxiwEKQRIniEAABAASURBVJxaGsAb1XO/1wc92+ferxxObz7x6U/P5PTEGyZT/75ipsy8f8dFkwYWEbNCbyK5K+SI371RnasHq2hRkcvoIfPduolC8ROSPMymCaln0gg1XSA0SXtM544FTBfq/YmGUntRvCPLMIxxtyyH+tGDNBEw5ZG7CdCumgjh6WUap2kBmXKTlHs49tDXgjBy4uU7PnvluyML8zOYj+lrnx45vpqYYbRAyOcABzyJ06O9ubeC7jVLivKzL7jiaOd6tAzUxMbWQPZlR+R868KvLn81+K/V1f9a/fVF7/7qwEd3PxP4+hqANV+v3v9Fq/Q9K5fPafsl201v//LSHHu/bc7ylfdA10vPXXrm9d+fO/f7cy9XXj/QwIxYuO3avZdN4tr2Dyp+8HpkDix45vV3196DuSqtODqwqwgwfnF5az7g3Lz84q4BikScrGxbyTaNYqPt4J7VdSUqVHGt8eJKhKLi6LXGIkDXHTmNBncvr9ORT4xctNXtHoQVVbZn7tTRtiRrlWRa37aLi3S9vduXeyx4OvbCxfDNT27ePLWmY4UyFN56et6Li07dZOKiF+apxU9vPb3iWJCJ75Rc7rCkmzvX9z8Wvi/64Yd//PDDeKTw1fB+HeaPH4OISfybp95AduKEly8TMQLHriAlJZ3sLTnT+4fe3ujK/ue+zWE4MpKKor1I/OXLsKvwufNQtjteNxfmbY+fDFl305CEuQPVoiN1Hm2n81JwuHpg+DKeI1ONFUev7ZgH81+4du7pfPjt3gerLu14B/H55EjwtfV/vVdb5yZz176d7234+4+OH//o+PPrbrzSYFo5rw0UvG8SH4/eLFhcvuD8eWUqDbwdu7pkCd1MoP20c2Dn32PZ4z9fcv6b2uoCuHEeNhDx/Q2zX9vJBpaD8/0NAzYnq/Foa//fzYfiXf2Xns0HY8/9Ky/+3bU/ffzxn46va1u9aA/Z+saex7aDIu6ENj25EbHk+MfE2ber6NXtyFnx2LreI8dVE7t+8VrR+tU5XM4A+ds6Gxe2LVcXtNMSJTWtK11lJ10CxAF4Or7fBg5/laJm3s7MnD3tcocsFwg1zU9xrnQBrLxNYYziob0xRKyT6ssOJJdGxX6fJ9HFdCsPnOYpAOuWNk5XVlePURP2tt1KFadIXR7GPXg78KZIg26zmhWtZEgMD3dWAo+2yUNtJvVGzut79yK7B764P30sb+6ceXDtOk4t/dev3f/MM5W83/XL2ILlS+YCVPzgnLaEPrh+yVFh5TNrMRdgTvEcBzX9bqLj8JWip9QctGJn48Lew3pusou0fZ+XzHvdoOdvuzqsF4L0/rO2Myqq1mshXcfaiqqD6ae3ysZtnFn0V0V2bY69+S+8+DAdPrL1haK+o6jXmyc7inbUP0I0IOKxX6AjAomw5jEmfmlLGCP9nG1v5mx+78PDj/Jx36U4//KmMPIDlu4vvI+PIXGy9Uph9SrG7dEdEc/1Kyu3f/dLxD3/XkYZ4PTpN2DlimVEm/3dZx+Fk6dO037mb/7Wy3rJHfT+c68H78W6RWQzXVX4eDDgPN7Z0jcvVMHaPFy/a/61lq7fuhgrnj3+68AsIt288R796O+6DSqgPLt4NlNmLa6cff44GVU3T8ZurFvyFaSS/TS7fCWXrqjcsOBG7ORNJAPM3lBP+VAwWweliXPJhu8yZ0FgwzqLk9mdm/7jP+2Z/61VPqI9+uLu4r6fnjAgmUiZAL6tlz5+VZ2y3osan0fXVfb8tAMvB3iz7VVTjmLPapuPmA/jB43+K3UFaCBVK1MRC+M9AGZYie4HkIqpbSXyqVRQB40DuqtjTlbpDjObDHaBQBTv3yn+Q+GhjMtussLw1jOxA4nWM2HV1pImTyIy3JY0xOYpmOG20giNaslxutui2RSttFhHb13qexJdHNP9gFz0F3vVrWqObcXwHI6nnZVX6pajKyXHwt7sD5dWt+YPVnOQzgzbeXEu/kbl9c6TH3xwshOK58wpBtqPX5tTtYT8Rv3t1X+GkThMz3V6Fc6WRtN2SZE/HTtONrwYVs0dqbYjxdpUXt1F086oWFPZ29oxCIO9F02DLJ34zPRF89iqAsifdz9x/rb3MvS++ACH7WbdtfiFXrjcO0jEoqJ7KR+/8+5LtcDeevKzn1URuvD7hciTLpFRdZ/5KM6cQq4yHa9Jv9HXC/Pv1SaESRz5t8uMTs74/sVUhQHQVCjKsPaOKrj2fi8syuRBpZjaag6o7YxRgbTfWSvLZ792Hu2mGz03lqxmq6hv4IZtGaUtSBnEeX6njvqt3vkaoBCip37JACop0tamme0i+opKNL0rpGN5M5+38Hmk8gllafVdLP5WMEmOLpfFD1n/w8PXGouOLOegc6YijiXhwy63X6ZCdt6dZTYpFwitF8bgD6cL7OdoT3k8nhCKnYiinyRordEm2sR98+YWjyS8u9an3zVVRk/5RU/gRWOQIehnJT2JAGxXQbGfbwZGqmKc8lkrcIY1z4b9oJ/4S6ljiG0sfjAwJW8kwrTK7zZfNkYPA/p8tXh+Yah5N3ZDAseTOK3an3tj8lc/VeRaq4SdzFxk4yFtcM+iGe4hteivTJvAg30UJLScOEgX3PG5weoLv0sjYXGw/HrP9es9gFE5jNlBz/nzR2kf2d9uOHC98mWM0J37fesz9yNhtIk8PRd7ExmKo+WEhiOmVNtxcM/324pUgG+48ylLhorTneo4DPayeitzNDuD19ih9qWiRVC04x0KS3Gc7pOb/7gln4i9vf+ixZIxoXf1T2J/+NXCSJyDdL+o1kTPn/n3F8L7cQ3F9ThX6cnoIM6eXwR9/+J6+YQjN81uQj2ggJAODx+3YXNwVzZevtq5vm257RFxZKpdMhDRalQHHtvfNLxyY93zFFD7aP+GL3sw2CQdp/vN+ddUhA5gfsFsGLiRTbOIc8nzHArkuo4fb2bDy5Zu7hWVFMHFXnIXmRT8dRGNXrW4qX/ftlfn7+7jIN0vvoVcKqk4XdeJn0KOETpevecOvfktC03JnpDt9DabEpGHfPZn6e7XO/DS8ZsvRiJA+fl8x3TuXPe9MQrBFnsNkzOLhNpLlU2fClFxslNvbiTpOX39FDHM9n0H5U1o8FG96DCzlPQkAi8V14/d5aRQDsykiWo9bWt/zq94UMaclqLfMtB+2nx411EEfVH+8Fl7DZMji8TZq+/dp8Cm6zqmz0/eplhLUPnqEJxAi0HgeBKnT5tH1xL/1sb1vXXzqky/PC3Z6V3fuBWNdA+B+cHqItcqn1PP11mRLA/+9KT8z30e/v3amx8Rx1sDyt310YFoK68ER+Ld/s/D/L/4HO55psJ757QdOHBp3hy8t8aY3aXOTuAInWK+dJ1Whve3H2hTx6Pa+oNPWYE5j2Z2Vc2wLEiyHUvmaweQVRmtG8MDKos/KlGcrm5lXW9O68lUUef22Atqvc6be17onV+FgcRHVgZ7X2zAwBxy8dpwWiqORLA4T6aubULe+KU+3MJbL4Xj9Jvm619ZvTAefomjpxSwS8PmJi9bZgXmbvxwnxWwczN5HJGXD8ldL9b14o9XqmjtrMzgEclfHrICc281bLcCdk5R792g0NpA9JXXnNTUfY7TfXPn+QVoLXEuGVJmuK2r7ZWrs3XAjjNdG+I8/8oPqR4AWhu+We+7uOhg7upvFbO7CA/e2LFNBeyYuG0nn9J+jOJhnkp9KjjXtXO7jQ/F6bY/+r2+ksJcb+65Q9qXPwzurmuDyqoVqq6J2qY3m3y0HNX1CE+WOkwOtrK9RvLnzLZtZ5AWsx+OQ1VVM+ndlWVNmJmU9tLKcQCvLHMmSyphMB0Fp03223fcLGxYJPgNTFYGt8JSmNUgVSkfJ1FdtVYyDdGglxW4LBhiHLevrYbWBn+avrkphj+2xUm15dWY4HsV0W30ylKr77ntKNSR3PKpDtdXnVkHOK7cSXLg7gzO0837qrVkMyl9PYkq647dVrQOD+y6uFwFlGbQwhFzUQ7QM2WaTj/oZ6IlOydL6ubRIX1XQmeGJ+kyYfrFkh2f+/cXO+ihuVN/8dX5xEoLwBe92/EFDtJV/++vtiy4G+CLK/LpSTrTnCI+/M5dsnzB9etwLy+3mXMvXAcVoQNYXP/MnKsHHsc43Vp4JjIHlAmFRVISuqmY8yVz0ThxsPutrmAG2pHoTOos2U6LPWasbKs8edVtStIC8IsrCYMZMwrqSjrpJVhsaSE4Vafyt9JT2QzqsarO9aBNKACM02E1lWtodTHujDKtqYINszAkt+JY8NS5p8lee/gn13ZcXsHPjs17EXa9/RNa0kRE2L6YOLdDMDnm5d8ceQKOBShO177mH9aANqG8VJqz+b1/WPPq31BEr/DSfU94saTSaAF4b4CepPvGc7A9/vISZPF947H513YVFm07jQdmyieXJ2PuRyMe1LqZo2s6K0GbUCaj9Vuxcxea73iOLArkV1QV9b0wj17p+aUt547er0KW6zvWHUHHm82Ge1+p3zD76it/e/fq1Y/Dhp2zQZlQmOGVZmGcDmB25eJZOndW4NfPFzz/txTj++b5JT9Per+GZuIfB+fdO8+ve36/WufEebjJX/Wtop7tcz9d3QW+rZdOlnxvHj1Jt/q1yuOXt+LNABMrX11JxPkXSxTmc5/d/QS0raY4XdtjJytBm1AAGKdDkesqH8VtUnrrqU89YC72T8qiQ/flP6Og9amB4aNm78QbKtXDzW1qMJpk5PxNbzblLEoKjBGBvGVB/zi+9VFpw3FJl4NN0WUrCEwbBPK3XeW4CG2sxbZOImUMD5NlgG2mNxQoAm6tERYzUlJB6nubbB40kqo5Hle9f8GCs9WlvAr5i/vpMTqmBxaQOQCgwnZnyYSyC8M9a989Zy79pv3WZ+/RuXPXtvJjdJi7+NlW3GLG4kPnzh1arBjuMYmgOX+gM1S2WuGhZw61fgubabZd8ait5qRc09DM33qZDgkoC6XWCpyZTAYAiv153c2TNLbMqKCJqkVUNfL2kR/f/OTHT285d5NDcmweMT3/f/wjU5BuGwoW8fKPf3L5ps3MJeDhn31ID8f98cPDjz58mLYA/s3v/PGdzX6dr4l0RAzMfPjwzz58p47tVaLTd9nLvX9gqwgPfE+98Qf1oBwA7dOTdL0WBb4Ueo8ou5chq5WomYgbtZqwwl3qbAQ+IUm5ychw5yR+SwbkP335Jrb9J2QvQvmRm7hP6Qj3K5sN96hb0hNzx38d+Mp39+MWTaKvNNtBtFkmEXmhYHYBJLmUvvKsGXp7VtkXJNCynyhX04H200bo5j7b8zGG29Rq6kdepX08NFd8U90WsfXVlo97tvqQVtFCPH/6GNkoVy8Px261cD48sU6pg2yOhCfOOqEOsmOXwWTQcWM9n0iw47E7Ua55XhwSct0VsylXxEbkpz9F8aV+towcu+Nn96IR/Ud4I1aUDQMvGwqGXQ62bMpNBR5eCZQCtONPWqboQAfzAAAB1UlEQVRCI0THqYfA5/3oRZp6ao+LxoPHD/fm+LT2uNQrQkaJQNf58wvKF+e8tH2UtY22mNFxpK9SPTQ5WhG3spyYTeOOtopGqfCKY7tXxfsyV0ehqBFiT5kFJOeyMllVnVxy8h87IlYOnM0g5uTXXzTMFQEHfxsGkKrM/6Rz0Ee5Sw9ArWwbofBANPqFjnf78gtSHQAjlJwe2bSgvmB7SafyL0yPNk3rVtA7ML85sOF19baCydpUegHmvG0lJy3PU1aKXsGoqHsxeFbF0jMl9izAaPWV9AyOHDGbHGDIriAgCEx+BEz3O0VAxklbHVshH74tcdV/W+VKi1r+D7n8B2KzfvazMaQl/3XJBCVb9QnZUyE8d2gpx4o+9Zd/OV7pz2f++bik/zJ//lhSjgCkZc8eFlefTOqi7sOX2rC/DrUscndjN0/20pycM+66a9xSIYfYj6zwFOh5ioECwdg0Dn2mRTTHjFxGFTGbcgRX2F0IyIEgIAgIAoKAIHAHISBm0x10sqWpgoAgIAgIAoKAIOBGILcjMZtyw0u4BQFBQBAQBAQBQeCORUDMpjv21EvDBQFBQBCYrAiIXoLAZEVAzKbJemZEL0FAEBAEBAFBQBCYZAj8JwAAAP//NbSZXwAAAAZJREFUAwBEEqza2QIbNQAAAABJRU5ErkJggg==)"
      ],
      "metadata": {
        "id": "C_tjReWoGeNT"
      }
    },
    {
      "cell_type": "markdown",
      "source": [
        "![image.png](data:image/png;base64,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)"
      ],
      "metadata": {
        "id": "kcClPmHOGsF9"
      }
    },
    {
      "cell_type": "markdown",
      "source": [
        "![image.png](data:image/png;base64,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)"
      ],
      "metadata": {
        "id": "3NO8BEtsHFZr"
      }
    },
    {
      "cell_type": "markdown",
      "source": [
        "![image.png](data:image/png;base64,iVBORw0KGgoAAAANSUhEUgAAA9EAAABGCAIAAABE2YBCAAAQAElEQVR4Aex9fXhU1bX3lrfaQu9f95/K1ciBDCZhIgL1llqKEjttIHxMiLQp8uEzmLy5D9eXlBDAMFYebMeAQGi4vT6XN8g8CgFzqyEjX0kdDZZaS68X/MiQRCZwNFrtP/evFlT6yrvW2vt8zMyZyUwygQRXnn327LP22muv/Tv7Y5191jkZc5X/GAFGgBFgBBgBRoARYAQYAUZgOBEYI/iPEWAEGIHrjwBrwAgwAowAI8AI3MgIsM19I19dbhsjwAgwAowAI8AIZIIA8zICw4UA29zDhSzLZQQYAUaAEWAEGAFGgBFgBCQCbHNLHDhODwHmYgQYAUaAEWAEGAFGgBHIHIGkNrfGf4zA6Ecg8xHBJRgBRmA0IMA6MgKMACMw2hBIanPr/McIjH4ERtt4ZH0ZAUaAEWAEGAFGYPQgkImmSW3uTIQwLyPACDACjAAjwAgwAowAI8AIJEWAbe6k0HAGI8AIDBEBLs4IMAKMACPACDACEgG2uSUOHDMCjAAjwAgwAozAjYkAt4oRGAkIjEqbe8BX+0YCsmnqMLraMrq0TfMSMBsjwAgwAowAI8AIMALDjUBSm7t/jwcMrOrwcCvgJD9cDVV79vQ75Snam1OnJguKw/ihhniadOMcfkF+cVMq6cCTUdCbPFpsFZkUT/GmYpyYzhoAprrTRsXW1dgJtrx0k8n5nNp108mbkoV4QVgcFLaFDFXF9sYVgWunxSAQXymfMwKMACPACDACjAAjMPIQSGpzjzxVh6JRNLA7+4Yp2rvZtd3TamIokPJuZEAZDobsgGUGz+DynzTvKYLeVl/qW6lk9VxbnZNpwXRGgBEYVgRYOCPACDACNzICXw2bO8/lavUN4569VhnWw5XaNekoeS5R74vZtr8m1WajkqLaOle0tT39JwxFDbreUBRTtadR1xtjSTH5fMIIMAKMACPACDACjMAQEBiuooOwufubig1vAeu5fye6gyDZU11jc0qxeRcYJi9xFjc1oZsEFjDoplhPU5/VWtxL1jSDx6JnmCr317lCFQ4+CVI+6mHbscZdVSRp1TXQLFXKJGrSjSRcPbs+KnoDs6EgNhN9S5DHxMQggqpIJ4GamQvUwQW3318WDVQ5+MYk1IKQmvvKmFvTCe31tQrR6kNNwtVacXV1MWiGygtUGNIUhq7nQK1Dfagq1EQygz6SIhEWAnkSdUbfkpimCSwoLxP1LhIy5D4jdeKYEWAEGAFGgBFgBBiBLCAwJkMZYOvMDvR6g7qun/TD5rE06TprfCEhvQj8ojWqZIINNycQLUPeU2jykmEn83pbxBoQEfQKEdqO5mP/Hl+gV3j3IlG0hiRXFmNXVdCfl+CVgXazG/XT9aA7MFsamuFqXys1UD9VGDE0AWLEfwq0A04weXd3Ck8jNErk+U91VOYYihaVeEVrm/Ri6e9oieaVz9UEmrmq7Cl/ZJDOFUYN+FvUEPT2BnbEutqnWUtOVThYJgRcFLl/3BsS66FVsEnf31QVcCP+8soGhmErvXNHfdRVNhfgsmlrOpx0VldElCPKXrf9piJeZ8QgZ26ZtWXeeTwkykqLBHROX6SOrtJJf6TC1t+wCB9ZQoDFMAKMACPACDACjEDmCGRoc+vtLb1gsYF9I4Q2tzxPkKtAZxtsnZJ9KQT6D0g10OgUwluCjgA5xeUuEW3pMNwKFLOrME+I3q6o6G9HS91b6oGiOZXrwRSHBAawt8AkbEQ6ng7hyKnc44/zygBbzVVXi/qB3mvgFgLNZSCSAQdV2TTxNOrKtu6PRiArSfCUekWojazhaG/Uux7McWwaJaAICiTEID2UUNS41xu7bT/oWiTmoExOZYeucI7CFQFKVkI0MEcz/nyhsmC4Ck1uuNzS+AbgbQ4nhtu9hXZSHbBH9ba046uxcEVc/jVFQofO6fWjfOiclfA0wOpvScVwBiPACDACjMDoRIC1ZgRGGwIZ2tyyea0+sqJmB8D+BotZJyvU7QJjSubb41AF8cKGtxBghtqzbOloF4jKK3TZSNlPamiH2TZQwVYT0frZpJ+moYaRqI5EV16CIrBnr/h8LSLFH95yhI7DTjfch0hzFpumQAAJFSG6x0ghIb0sTy1s2/vkxjyWyEIt6MgBGkLYHkloP9YxqEM+/YD7Jgpyc12gtu7cuP5S1KjjnjfUj8FqWpJq6WqiVQ2mtsDnCSA1KkKya4IEX2uK/pZEJpMZAUaAEWAEGAFGgBEYHgQGZXOXBcmAklFjkeZyg3KRqLGJDSdWIHcRyZnwPpzFZW54W6ThSCmvjONSdg7o7ZKuCErBcKWGxMR7g87dAekko+thP7ZWSnCIc2BHv7WtM9wWQm8HYMCmxYCQnVcAc2Db3tUa2AH3KlCJiK8l4xcN9aZAq2Ef7ylHkcN4oLaRvsT+AmY3XQlyWxrQIbuoxAsPDTo7WgT5qwAGLiGdgkgIRMrEH8aWsGhGgBFgBBgBRoARYATSQSBDm5v8SZTLstz6xf3IotIyIXrlg3702ZUVo/UpBG36ok8zbD0mt6LQPRd4ySujv2m74UUtBiwoq0o/Jq8Mw18cjbb6HbApDeX78Xvk+B4eEFUDRYwmQt5UoG0K7MkDQhTyVUTQ2wG5sGnSZx3OcC+5GP3XIT3UoFUG60QIfXJAkmMtdP+gvhMC++7AljoonxK8wUjNONRc1BbMZTK6scOgnwl2J8MDG+/iXAM/9fCUensDvnq34U8yt9xy2ceXKeXLBkNVlsszAozAEBDgoowAI8AIMAISgQFsbsspAkxm/F5ETmXHKfRqgNM5gWie/xRtJeL+sYiS525bYZ3hmKBVhmnDEnhn10dhR1m5C8uaY+McerePqvOJMsufO5bLOrv33XeTBYvJMeWp9ecZGfgeZMQH+mna7HrhP0kfofM0Bsuki4KlSdEav6s3gG4oVcJf55L2N95UIBEtdUMi/KJBKZTDOpwKbJqbymoavp2p/MIxSx5Uv3MkGZLFOVV+EynHWiy1Neu60E2FT4sz/dFVQxD+WltJ0EuOGo71Xp1zNVlw5Hck2rQ1nLyht+x1UxcCKHyRuqD924vOOgu62VPPE6Ae6JxBt3IWMsQCmQMjwAgwAowAI8AIfLURGAmtT2pzg1UED+djA5mkAiwbg2yZj4ZXgN44F5tlbFKCIWXw0stzkEecqqAUJcUK/BgzMocrqxrhV/JLNeKMdchNHaAaM6AEVZ2kUaUGBXOVrLBp5Fma5AohvczNhnRUFlWF1fuUithYhAmrOMo05MsqDYFQk2qspEMMpNQBeMyAcugmx6AQmAYFc5UsoxZUTJIaK0FtyelBeLEJmDA4hYm/3uhBsYg5FrfaBZVKWSli4LFCQnEry1ad9QVu1EfJllcfWzSgzpJBiUbNlYgYusrmH0aAEWAEGAFGgBFgBK4LAklt7ky06Zdf7JauI+QM7XZpmQgYSbzoZIIOM6AT+ZYkeTcUsjkwAjcKAtwORoARYAQYAUaAERheBLJic9P7fEJ5JvjwVTxr93R41R8G6eiwYX6YRSjnmWGoh0UyAowAI8AIMAKMgB0BTjMCNzICWbG5hUAvAvVIX9djvBFGIXg2/4RYF5FR2BZWmRFgBBgBRoARYAQYAUbg+iOQJZv7+jfkK6ABN5ERYAQYAUaAEWAEGAFGYHQiwDb36LxurDUjwAgwAtcLAa6XEWAEGAFGIHME2ObOHDMuwQgwAowAI8AIMAKMACNwfREYbbWzzT3arhjrywgwAowAI8AIMAKMACMw2hBIaXPjvwbUEv6MfxY4tKbiJ/k0TX5ecEBJ+O8btTTrxX9AGP8PXwasQFCpmKbG/aebgUUojnA1iKH/gEgy4/71jGIaxI+jNEdiEuHyaqrPICbhMcgZXR2jkPFLCAAIaV5co5j8tVo0BB0sIVLoIOKMas9K/5Q1aun285g2ybIEuNX2GI50TjLpIankSTnQAyBkrf+nqpDzGIHRgoBtqKLKNHVo1oJFkyctH5ibweFY0JGYgVBmZQQYgSwjMCaVPONrJKfqXMDm3Su/TDLaP0sCTUkS8vynZBNP+l0i5Bt+cwHmX7KTkugzOsmdx0NS8dDxTplQMZhilsXfWZ19eIdDptJ9+H/621ujVEu0paOfEirqrLHuNoejw2RbZme1/A+1MJT2ekVvYLZ10VWL+IcR+MoikJPrhrZH+uQY72xrhTMhervk4O/vi8C5OzcH4lEWYqb3eN35nBFgBCQCKW1uyfIVjLVKfxnMgy3t+lAaT98cTP61QbB1ZtfLmXYotYy0srSK5Hm9eUK0tllGN8zIYIopZWEv1qcMc0UxfwYAzeRLSNhlDlpIgtRrRtDbW3qFKPN6hYi2tssFGSqHbTCfXJWFSNFh8F+f6jr+61Aok0mIkSnvsYf4/zv1KFkNLrQa5D8WHaLATJrDvIzASEeA/kezGuNysKDGkSiuNf104+0t9SBpNB0x0/toUpx1ZQSuMQKDsblhnYaHxtU16ESh1XSCWaAZD8RVVphaAeMQ+ChkspsLxhOVwSjWwaODagS6uXM2yCpIvfQi1SKjsVCI2gtK2B4ICvWfOBGHPmCRgRpi7OZKOVSMPGrC1WRw0z8Sks2h54DEELOvSRTNsycqhaYZ26uLfVIZbSpWIptwlkd5Ti1C+mCOcBsY066y2toyeDYSapM9QdDeJ4jDfzZUubGYDG7YAcVuI1GqrkatoOHytMk0OkVfk0fqayBJ2gIniEMzFDKrw4B/okwlxA6F2Q+VkD0JPQqlpj5IQ6gVQ9b6Z39HC1xgb0ljqe1mDzQngzsamKN5aitjOozs+TXV1IDq/9yDIJmtgwa016B+cCii4pc3QdQEwDOuE8bwCIIIBEBQaAvF0JTYhaDGmAAXWvZqGxWaA7JkUFrRjYSkQGwSqWpPdQ02CnuvrBc40vZGs1XLSUZgJCGgzS2H/Qja2KZR7/LX4Y02Pd2KdsGNd14hTJ0C5kzq8BjBUJUtkAPBGPWdzuuOZI2L1ZBvMqYFz55OYxTTemSMRLWsQ6228UvjEUgQjKlAqlcs5+3vzZf7KTDqNZoSrbVMAwuBVIlXwBzsalYB2RDMSi0JZo0khiNGYJQjMGbQ+odEKTw91pNtYsHsAOOwLAg8p+pcoYo0Rw4ZT9LHQzp4mINQRFtErZQmWn04YgdZRRot1psCsLmYVz5XU8xmY2H2oX+0CYoEvWA1knr9e3yBXkG+N0HRCjanKmX+gLUBBhMx6MEysLM9Ta5GgAUYkAgYwhRTEXLVoW9LsAxsLJq59CYfbIQThkHR4iAXyjsGsqVQso7VRet9pnktWrtcHaS8iAaq0Cp1bJGj1HSI5FjiKi/OySkuh5XDcC8pasSrCfu40B+atnUEYZEReJUNP6XeSOEe0Mo4tdUU6nWFIYe8FHx7LFPcxgLJnMpEmUCmhcREXt/rDVXA3YspRPUouCKiNWBBRAWTRMPUP639raISwEa5l8DuNeomXP6T2UtvuwAAEABJREFUenhHU0yHkfq1ykHYeK88NePeFrEGUDvlz4PORn3JzLInPLGd0JZl6xX6qToBRj+OOMkguxBe0GhgtzTiZQbF8hkRJHEBVss5nDkMAR1vmVJcnUge9BY9XNzuGcxMAnVyyAgBZr42COS4yLskqotob1QIt6uqFMc8pOW2txueEYGF6gvhDEmjWARmS1tWKmiMetdA645kt2I1LeD0C4tC13oQjulQhTVFqJUO5ttWH97ugu1foxlLXsJUoObtPxzD2UBO741FsC4baxlOWXKxlkrYFAhtx9UHDW5jdMP8DCs7Vuq4GkoJHDMCoxyBwdvc3pKiFG2nO3ghecj8UmZEiiKUBcaTrne4dsAtLwxFIhkRWnKQJmkCjLnBVgEykgSwoaFeCFA1zHc2txDZEJh/0P1O2eJFuCWJ7hOWwSRETuV6mD/j5NsZRFEDzHTxxqVpqkJJsrpCsEMc08Aqf6JcYHYO9Ey/tg+3CWmj1MZVVkqXjZTvbWnXpSuIvLsgIrbIxp9Z0iZNbuekKU1B6lCZQt5Dy5LN6cKB1YFEyOf5a+WzWk8t2KDqqS4yqx7lyoO7g6hyqER6imN4+qfeTo4ldGkyaqm6mgkKKzxz5sY8bUhgS0qg61jmr6R7zhzqezDiFLusVFOWg3kHo3IF9nBca+ncuMnptz80N4YAEQe6OjGjAG/k0pxJqHqOGIGRh4Ax4chRBqPeVQg73zBV0iSEMx49LfSur0QHLbWm4IqgmiIHoKDhI6QjiuO6o9htP26XBmdUnSoo00BUAWuHpDULSSWTTAVqnoECtkAuauFcXMPhjtqWIYTip0qtnX5lJwhatsJVOY6rYYwcPrnBEbiRmzd4mzsdVGDFBQtWAxNWyHv6AQvBPiKU8EVgx1feOieWMBb7Tygr8yqomGMEdjbYwzLYDO54XsM0J3M2EtXtDwTjeel8QAbigo3nOdB2TavAHe1IXz/tgpD3n8xPP4Z9Ak2bXe8O0j63Yzlj3qfM+BYRcRARLRWusrlyqSCjLAQ3D4OQlFDEmqYTslIQCPm4fJrr42hpnw5L/7SblULIlsLtUNpKJWeMfWErOV9cjk4+2XHESDTRvI5jMU9hhx6GEW3Si2j9jk5BF0I9NDe5iGieyUSSq5PNYS4r4pgRuE4I5OCtowhtD0RgtOMNv7w3jgS2w8yPE758kzJOO1gRYik0fOLHVCxL3FkGzHIW6oLVDZSMEyMiKacC2OeGdawiAk/nzHvveAnGefI1Dh72ghTNXA2NEvzLCIxuBIbX5pbuDbD6YmigDdbUcOlywy8IN7tJGaVB4HaNJ46Mq6BSQ4rsprkOO9bG9JRU6IAMsiS6ECBQdAACrjwX3Kqkt/8qJahY7hP4TzamQDxmsotvkZKT6Q/VCzbWbJos4YkkCrD2R/Fs0EfmCwxWRchjwnZksPDYSsnksPTPftoDFsqs1GYHeqGyJLu5kJNJkIt3xp9BkLe1cRXhI+840gCnRQ3o3EJMdCHi7WkiUrYVJbk612GYWzpxihHIKgJyfPVGo0I9aqN742gUBz5uRdNpfI0Jo5iGT/yYii812HNjvpWqxklJORWoHYS9sDLGFXM4Tb7Gxa+GDoWZxAiMQgSyYHPbho2yHgCHHHkrT1+L6094wQsYUgW6je7cHYjGMCnnUTWkS4qGVEWM5PRPyPuiV+5BdlaDaYlvt8hdCrmh29+EexVxAu0M6MOq4buDwj6xkj+JMrM6a0Auur/HNjAAeyBxclOe0nNK6Zhu51OOy/TEEJ/0ObbIXiD9NMkU3iDdM1CEzoICnpmCjJi5m1YLIKYRlNufbQfdZd2KWP1NyO3heIGEfG9gR5gywjsCvcLYhifK4KLs9k+d7jPttz30hEf6wFBjlZb2DqNIyX5Uk/vJmqenzxJ/0lwQmLJoEpnUK1RXgR6LfU89dJbFksdysKNTJvIYK7egCyFCbXQhiAd6OBGVqkIkuTo5Q5lJUAc+GIGRhoA5AaKFjcqRLwcmpN8InaqpT8g1hUYxcpgHDR81piSPmTX4hKqUpgiaKpNPBfZK5PRio9CufOeO+tg13MYgk/bRjb7dsDTu6XdcDSU/x4zAaEdgzNAboNw9K8BS3CHQf5REapVhMB3oParZ9VFX3SnHD5kZe3tQFkJ1p1YZrHPhN301zReh781JKwFFurwiAEyWtPSqwKLZO4oadHrHERTxhcC+JBcUeJIOj9GpLT5R5uB3DQzwlI0YNNDfK/cA5MQKuIHh7mnU93qj9bhD7GsVigEaSO+yYGWi3EGubJfhGQJsEMDcKWpAYxermxNwoz5kf0vmMncXerBYyju2SPJmFtM0LeSaoUrSfK1WBUpjf7CMLWit9WaeKhL/43V3ARs+YSxTTz+c+5u06ggKu0w78iAEtkvhAUJ8HcnPEUPAVIVh6Z/yHpKWN0MP6Qrfi7d2tCZFA3DJajqFvcMYvM6/eV6xHZSGLXPYLpKPO4pqjZHl6Su0+lISmbZeAT1WwGNix/GbWLsEXPZkGMT4HpgxRhKHgGRWIFeEnK8OjII0ZpJETZjCCIxUBKS5LGyzpbLCXbihAFoXNer0jj4MYm12QPhP6XIUQ5YVYPikXncs1rRT3jLhg0orQsKYb9ObCqzpvb04iK/N4Frmi5R54Vkt2d9JNLCNbm1OICordVwNkwhgMiMwuhBIy+aGsQ3bluaiG3cqBEwQkA+hsbIKPzKhOGE4AY1CoqEjhVCmGeG0YtE7Ghs7dJ0WbBj2uh5ubEDhwG1Jc6iClKFSmVyJpKWkPqpFJJGUAS0goMJEw/fG4ByUrKxqhARpGCNTyoEsCIY0YoBzqS1MNJCmYDAI+VoJ0MJVlY3wIzlllRgbEiDLCFbVRGlswHIoUGLV0IjnmJWoPFAVUWqLpbCW9A6pf6wHkcRKypFphEgTUj7W56EmWO2yTiWP1B84bV/IIR4kxfQ3yQ/kxliZJp2yVFtIGfX0UzJIJVW2sDSEUkZAcCQzUrLUP6VAumpW5ZXQ89FtSQh51aA+BNZoOMAl6UjEUlIINYF4pG5QSgpBFqtFsX2J+IEzQSZBBBkQFFBKGVUpFYRSJNweSWWgGAYbg51OqmIhRyJVbVQKXLKxKE6PBQryODACow8B1e3VUAL96eVsmByr6F0YIFirqloEkSYHglXKcd1BRnXQnExDxj5aZV04m8E8R1ONTFOh3Eq1yjrUAiPQHJV2gViQxqxkkPIhrYcbGkFaSgVsUxyUMCslzYEAwZwrsBo+GIFRjkBaNvcobyOrzwgwAozAVxEBbjMjwAgwAozAyEGAbe6Rcy1YE0aAEWAEGAFGgBFgBG40BLg9EgG2uSUOHDMCjAAjwAgwAl9RBKS7CztyfEUvPzf7WiHANve1QprrYQScEWAqI8AIMAKMACPACNz4CLDNfeNfY24hI8AIMAKMACMwEAKczwgwAsOLANvcw4svS2cEGAFGgBFgBBgBRoARYATY5k6vDzAXI8AIMAKMACPACDACjAAjMFgE2OYeLHJcjhFgBBiBa48A18gIMAKMACMwOhFgm3t0XjfWmhFgBBgBRoARYAQYgeuFANebOQJsc2eOGZdgBBgBRoARYAQYAUaAEWAEMkFgYJu7f49Hk381nZlIHkG8nTXQAE+T7qhSf1Mx5GpacVO/ld9ZTTR75Nkj8x2yZFkJVHXYkpI6RVphDYbkOHasyJ5F8p1bQVkoSrNdowQitdTGEFff0E9ljckQkLmaFtMEg0jKq6ha9jOnLI2EIzIS83R0tuQMZ9vjNMnsVG8yxphmv+LxQsLUK41WWO3SJCzx7HyeRQSO/u3oUMLvLv9uJIT3vnhvKOFKNJqtcPnq5ZEW0mzbnz77U4rw6qVXhzV88PcPrmVI0dJ0sv7n//1PXOj5oidbIREHR5X+8Nkfhhiu/v3v1z2c/fzsdQxpDtYh4jysAydReBZXh4xEjRmAO1w9uz7q3avrJ/2uVl8qg2AAQSM1W29v6SXdelva44zyPP8pXf0Fy0S0fjYZfMRsy0KOjsocIqcfgcHka3X5T+r6Xm+MZENE/55ASLjKi6VgNJfhQhiZsb+O18iBmDO3zCVaA0nuPWJlZv+sv701SlKjLR3y7oXOKMIOhjhSNxMhn+3+x8oihoz/ZYMDDlTlCIr6m6oCUeEN6vqpOpdjZyBl+5u2hyhBkd7kq4+KMizkzxOhCnWjQnlfpSi6c8pN+LfsiGr1xe2SgMQp2y9KKhLv2qlOJEnGR5YhnzwMhuMr6dw4lYz2+K3KhQsr37JTRlf61Kqpjx0DlT9+bkbpc32QwOBIxIysHK/V3DK55kSCKH37jBnbcdrteHicz7iCjsSEosNA6Ht27i1znzUAGYYKMhb56a9Wef75N59mXC6mgONJp0/TfHJzwzHfIB57YubYJ/5gnGX8G/33e79277/Lid+p8EcNCwpmBD9yyhqQlnYTtswau+VNId58ZNasR+D3k0P3zFq265MB5V8jhr5d7pvv2jmCet3H+78948GGj+3NP14xbkxFh50yUPq6gnz8Kc83nzo9kIoibu1wWguEOG5bIWhdgIiWBrVMwKkKU3ZiP7+48y46X3k8Wf0D2Nydx2GZ95Z6hNDmlueJaGt7vLmUTPAoofd3tABQ3jKvEA62oNmIohJgEJG+bLWeDNC88rmaEJ5SEB06Hjf92RgEbOvODvS6XHmmOjEJx2vkSMwpLnelbGaM3Oye6HRvU+aFxqbqRdTNRG8XXJSs1O+IQ1YkZ09ITmUH3E80FgmRk+sGsc7dLLwj0AuZRogiRN4SLIS3UiLUlvYDFkPEDfP70LGrV5sXYnNgHpy0YTqcXsW/Y9M3TDLNbsyOO2CSXXR2x3lkhePCymcn0WRa8vzVqy8/FMcrxFs7/mHhjqQTaQL7yCV8fOHtSQX5oN+F7kj+pFxIQHAkAn14Q29Xz935MAnqPWfzpxWouhyJKo9/RiwCfc3lY8ubr63t6Cp0xeBxPXSIUcDpBKywMdN2OdzwOzGPblrfoWVjlx26tn1gaIgZa0eStUAKf+hlWB9s4b11E2XGCmOpuXr1wtOidvKy42Liuvcgbcxlki02Tm1z90cjQuTJfp3jAnsge8ZQrBrX5Qwq7afNV29pAxq+KWxBMt3MXWcoOMQQ7QL7ye2iTWxXIRjTkWiMOa+3w+67q2wuMUBdsAka9gP+kIwPjtfIkQg3TngNUzQzXnb2ztW9TUljaZkQvQmPFMyKqOGirBRsSZM2hEQSHIYgcViL9vfBeHPsZp3VFSGR57JWGFpt6FatX/VhuDEeVuVGvvDoztr9BTvON5coVUuaX36oe8Pjyezkiz1nReEj8OxHsk9cv+OhrmfVwxhJuiHjvvBhsdgDpnbfhR53wSTZRkeizBrGuOOF/eU/xZul3re77s5XnduROIxKWKJzH2n/ov0RQMYi3bCpoqCuB7M0y6YAyfWvb/79zX9VVzYF32CyYBe4YQMAABAASURBVAp05xkrZBoC7n32jTeevTcNxmvLkrs2cuW9dSO715XsvfTl3uJri8sQaivZFP7bppmZCBj6WoDLhzjYfGTgWlPb3GQaxgiJRPFJYAxpFJ/oaNqShVfkYAv2BmYrD2PN1ypcdcFK2JGRrbVlAUvGLjc63stISSqOu5mhXUx3rpxQihp13ARVnPE/jtfIkQglyb6PqwvIwx76TbuQnhjEP1IIVQCKFOaQl0WDtRhYWZifqQdFMhyGvcGDqKCzRptdL/wnw1Y3M6SQo5E3uKfcIMDtU2VYD3pb4QkxPAOBW7IUPcQqdGOnLh5+tttmQ2NjFzbDDrhhgiPBfkzMny5ijOyS5qvn1jnbBxcPf2fL60K8/hNzq7v/8HcWLvwHCKsPX1BS//Kr1URZuPA7h/+iaLafvpaV4+6/X4aKP0LGHyvuv58SQgiBuStbaIsI6TY2IT5puef+lRW/MIr/AgtDeaKTwJW/qFh5/z0t8nl5QnFkxaOvpfTrU6dO2XkhsnOemSj8P/PNtJmY8dzHxx6bOuOxx2ZMnfp1y/8EhQih7517y+TJGOY/K1eDE+sn37K+ZqUkTp676wPJKJBOxJXxbiUnfWPGjRuzuEW0LLYSc+daaTPXh4+0o40zMGvcuKk+39Rx0h1FmETIehi5iDKjcbtvHFDGIJu+fYaZljqZlHFTG6Xyko6x5Vvy0bPTSW9opO8kZsUd6HExc+ZYDOW7/hyXKcSnv/lnj+ebEFY9VWE5h5yuAAqFitNmESeiVXxfl8loJI5WazdXN+30aDdrEKqPCnSxMNKSyaQo7xEqYjxI7W+apnl29iOP4VuCaZKg+KUUW3xxV7ls7BPokiQENt9wOFFby394onC3LvTdhbFb3c6+JR8FZxQUfB3CgkZbA3+3CigUVv2OKke2BavWL0BOoK+XVMrCKGdduHEBJoyj01kHI9vwLTHO4ffYllljZ22hRn2yaxmkMdxzSI4jyLeFE8tvvnkMheVHJVnfOU1RxtwsPQmQ4t65S3HKve2jK3Mf6xGRDbnytG+Xm4SgKB+NCqSQb8nRlSBnuU/JdO+M657S5WO//xszZkD49v6P+/Y/CAkIkJYaHfNjFlC+YTiHAOXbfv+3ociDT/5kxoxVv5eMAss+uJ9mm9+vglwKZq5isn4M3xJ95z3j3BU+N4xODL7Y7YyOLYW/hj7w60Jzq/vklrGzEFLy7ZHi8CpIIvr5SJoRk0/Ib361isaO56njwhwdkJZMJsUjBxEVMYYTDpxVv/pU2IifGtJS+2hlshZIRQYfp7a5By93VJQ0Nl/RwnOwBW1O29LRVjNeXxO2LF3Xw1XSOM5ao2m/M2vSbILoYYW45jdOunlvIwT50sTttductoNeEfLZ3rO0ZQHSN7JlWdSg6yfLW+ZoVjdTV65zR33UVVeL3VRRwPBp8mi+SN0pACVYFoOYyfJVS3S/1y2mF6infuk0fmHzsRXdtZPJ/e4meCyYoszExX/afL8Q9//nkVppwh96Rbxw5Mhfj2xe2r/vp2RhH99R8fikzX8l4t37KuIdvj9pKX9m8ouvv37p9dffWz3h4DNgXn+3zCMOviIN6E9ePvbBlPn35YpPdq3c+PbqF4Dt0gur3964cpcyAD44KFZL4pTwRrLUP9m18RkhOVeLg8rOTVYc25Zb3vb5uyfqJ02qP/Gumej6t2Nm2kycefg2KBA5Ln7x7ruftz1s34R7rebObVNC589/cf58aMrWO9cbJmnbuelhIpb2bVxNtvhrNd62hcTZOf3cEZBnC3OCX166FCoXKw5fshLt7VbazA0WC72xrE5sO4ecAdGirDQk3h26hMT36/P31zVGpfieuq6fIjFU3rNxSplohfS5bfk9G7d0QP4R35SNdx+GWr68dHh63RRpqQM9Nny0s2LrtCZszBedj71dWUM2mY3lD08s6V3Tdfr05dOnXyzWN/1HnLvzp7/atEdUHfhbOPy3KnHoQ1kQ1n7/O5IYeOCQHy0DIZIQHYpLIUYcahFB/Yp+aqsrtFhre1CHdHC5CD2OnwHo3+nxnfWfugLEoPeAD8xrsaDUK0Jt0lLsa2+JuMpLrQXLxn/Kf5b4jWqM347dXdWysR1LYk1qg0OI7z3ZtUYT2pqulmW5FtUx9VHDvzwtNrzyeXf35xuE4YzyUcOCqrclcc+C5qoFDcrHu69ZbEDOVza4j1YpW9xRKhCL0tcBuMWxLbOWiB2X39g8H+4itizZdCek37j8xo67f70k3hwEY3rR2a3nv7xy5cuep88uRhP54s6F66e/jJQr57e7D603TOTux/ZN77nyJRDFhlywqhc837c1X7if7nt77USh73xww/TDkItyCg5s2ElWLyqjjkNnC6mWw0u7H1uYkCsubuqZ99mZM5/tnhfZtfAnYjekI2snRnY9g1309/4He9ZGzpwB4kvzLm56RtnXkRPiSSC+9MTD88TBE5L4cajtorv0gVzxccODa95ZewSKfHZk7TtryI1bqZLsp/ug2I7D7tz2KS0LKnBUGZzFm7sehT7waFfzUuoD+qb3f3T5jTcuv/io+7e1BCnc2NS+8+iLkvhOrZNX/WsnxFPhv4UPBO547ceeV8tgEIUDS8Vrm/GtBofxUvKDB8Rrr0rbv+/UiXN3zFt4q6GPAON7ud8VwJEYDty9Z3mFYZxbHEYq5VpwcJFcI1S8LG4yIxkXt9ceFA8tw6d2dJ48Sm1zu9DtIaaw22Xu9cbQR+NJv7n5itrDkyqR1GE9p8rvBaZIrAcIUAYXNPTxiCmqHHhiaOmdOF4jR2J68oaBy35vIwTp1pvMvaSots4F1wG9lbOgCdUVI2dkd2Dpzt7aZmxKoeqdNb6Q8Ppj7+sIUuWFUoQvG8Q/OsCSfAyEALpuo5/esYfEwfkwo5I/90CFKH/pqsWTMJHjzsEfId46/HrOL1fcQyf31K3KOXQy9i3L8eVvvf7zEsrufV8ZyCU/9IjwK7RgfBD5wPNk+Xjxye+aZQI4x5c/6fmg+XfS6J4QqPgu0MT4CdPwBza/gXPCsvvG49l3KwIT8Dd5ccrF6ELXhfw8sKg/Dh8Qi72QSEoUomQ+mCOYbx0nThzJ31gzjwjzHn0sv+1l2qwTovSxtaRCQR6tt0IApyhdRJy3r13nsBbpPe/k0wLT8WJL+RL15NqBGA0915X/8GJaeBZuri+kuoVW/e6loJTa/XaPpGGcX/9zElUwLV+oUlr+3ZgjBFSUv20zZYvin4Ol/oLdZJA8Km7eSi9T3v7I2fMN8SB878nLyrL88/u9it/6+fRU84d3LJtNK//MVYE7KCee+GHzqU9FWkQqHhd5/euw1+XkuYXwltJeLy1fwNbfvj/qWiGdEotqt7qi+9v7RVEpWOQv0aTS3RVd7q9Ul0jxe38pvwGQU/lLL/ED3R60NZu+h+fz/2WNW3/55T9jevDHR68c6Mtd/sPbUcJ91fVSlXhi34FXpNGdW199H3Lenqu6PZ5k4WiunbUEDO7N95KsN1t/qz31v2X63k2Pagd/+ybRVdR3eF8kf1Up9UDDFWTiuve+DFLvFt1nI4oRf5Y/TY4i2rpfLhUHDtHgRjId2rq3rxyg6wWFuokUGy3dvo5qKZju6BE88anV38cCE/PdYuKyB3D05k7MRwoc3w989tKKXEiIj3ttA0LMmyc78Px582BQonUuLnZdnPfkitvEx681ywSUum3Fk/MuNr/2MSRThoLAZprGtIKBrogB6XhNjb9PTjbrP9qylKas8Uu3/EhvPiknN1uFD1T9DIfOrXeCGfDAD6imCYUpBtHMH4BF3krGdO/5D5dW/ZgQkAJPt752R2DVTDqZWVd1x6FXiY/OE6IUa0GcP3eznHZAwn5cNGDdgDBpg7C5NUJe0pDa5qZt0V5p/9hdY5OKG00ZOm2+4q6qhn/o1SBSuRpns20uXGsi0oKPdsG8rXy7B1GH4zVyJA5CeFaK9NO9jTC8RGYHoL3X6FXOrOKQFTDSERJzA9bZ1gplQj7oo7KLtvq04qaEqQp4vuqh4K4CcbZ7UO8qlTRLy7urdr7xqZMM0fxL/zui//EK5VsydV+/uNB/IUaG5fLxxHmyTiEXbeVwK+x0//GVg54f4gLzwfvnRHiJ4YKyJCzOGQY6sMcE5JycR+uXRUdi0uLkW/KvzeJ42dSpX5+3M3Jh55SpU8m3JJ4447kkS+9HPedEz7aiW6TnhWdrjzjXo24gLCUohZz5ebBw0lmu27AM6FSgb8mUjT2wFT1uzLjF+0WLF55Vo29JAtHXgSb13fmGJFke4o6HoQgF/zuxwiHTMeg9Z4WsESodd2ddj3inR+2Ox/Dfvq69s15sLZCNTPySyZ+b70GvkpljZ65tjilIJx+cPydcd6LdQKcyGiSRLA8pIc042hUR7gQv56LH/a4DeCff+VLI+6D9gRnyhxZrmvQtWRwSEbnc26vLm6jsmH+aqIwne26m6QvnIqIgj0xuIW7PK6DyMUSiDG+kR4Tm/u2v1UOkT/R3hL5pCXlBzJqFDhLv6/Yd6O6z+ARNgWAohq4g0g9kw1m49zHIBYWyRUI42c3HDdeRMY+fNfiMkkP9ReeTGeRYssahW4L0769+auKJl34vxO9PHJSG+MWeiDjxIDmWQMEHT4hIz6DmTxCeTtDfj4jfLpHeJrNmLfmtiLwf50CTUorjIBKmMQ0W9gNl0sCWYj798B3xoX+59FTxTN3zoYh+2CezUsSZrAW2dyivJvVLjK8rtc0taAsthJ9E0Ntj3+qLFzTqzmmnULjo6Tw8oIdwinZYE79kh00Lt4WEcFkvNSJtCEfO3DKXsu9JMn2AwpInv19hnTukOqs19U1xx2vkSBSCbpyE20X30g5Sh4NEPUfYvXFO+l2wle38DZx+MtC9+KmcbCiTBIdsiM6aDOtSCvo4iexmnTVwgT1NelEjdE0ZCDdRFtQ7Kr+DXziJBnbj3lUnflxI7XlnTalRKGji4kcKumJfgozunHKT/IRTYnsu7rzrptinhAUz1B5qIvOAlG/l3C1yfrn3CPmWUPyM3AhXJftanjk4YfV75FvSIvedMGf8ovkTDr7yx+OvhB/6IW1jT7hzivC8SGzoSQKJnxMdmWMP5DzfG3fzhcSkxXPL286tm+Red+Lzd981E13/dsxMmwnpWxJbH53dnj9F5G/s/OI8eV5g3C63tynXHiFnT69h0vZF7DtvQswJfnm4XJSTm4eZaG93IAaLC2DHOsE4jjbW7c+vf//SpS8vXWp92F5x8rSWP13kSx8VKIXhTDXMRE4FwOyWLWxa1rd1ybMf2XmO/cfuSPGuy+hb0rIlz55D6QmTp4jo+59S2owGSfz0fQNAU5JMJI1dhW4R6e2Pz8+dW+4OtR3tbDvgLZX7rIoD+b2Hdf2KGVL47/354juq2BB+Jk1xi+5ehehHvd0kKoZIlOGNtKd2NLc8KjbV0kc2xsNGrPbUi29zSn13AAAMeklEQVRcfsMIyjtCKYHW89nuGHNN3/n4oYKt58m35MgqxYc/3V2yRcJhJ7tv1/oD+dvR8+TKly/ZC2HBoR7HntkVmYfeJp+deelJ55vQ27ylEw+e+P2xEycemvd9rG8i7JfPe+kMuqOgewkkAkTHvGE4tDvd4kcvmiBDQj1nSK8ux0EkRO7seVNee/X46VcPqX1xQ9qtd9wt7ggcCP8NHVQo3mffBTfY4De7awEITBUGsLmFpxEsUdyhhD22smA49gF3KsEjLi8amANGjBGKt7+AXyiIsVRy8FN6wnI1tr8oWRECW8dqvj0LRVrv9iFWSJGHRY/DI6cqHCwjlSpCYPc3emLz6UlhJM1PEzpeI0eioD31mG3U2HqzcRaHwH/S1xilHanESw+K3pZ24ybXVgR2wV3+k9a8b8tCSK3XVWMvgUVXdRg/zjgYuSPit6gRjGnZHOoMVjdLoZ6nUd/rFbDnrWn0oXeHNy9TlL4xs1zrdqzopg82yfZd3Lm4tnvFjiSvRU4sW1lwcJHNIj/yeG1XwSOLJ8rCmcb3LL6///H90p/kL79avfAfdsi0Tc4H0hPhj/XPfGBSc++bPyW8ccn51XXStB5/37IJ4Sdsb0Mab0aaJYwEcn6gPE/+uNcvRSIxVfGe7gvTJuEjaTMB4sy0mQBikjBv3sKebQ3Sn0THlykdvrotiwKnaNu6i/Q6ceKIJFpxtOedwmlosZoJyDPTZgKILu/DhT3PHabJ4siWOuXPDRk9b5N50/GLuliDHrKcQ/GScuXYLQS9TEkvaCbwnvRNnmy8OukqzBXTctWurMXZexEtsD83b050Trl19rI7yHUEuE/v838IP0LEE+9A55PkRP8+egiOzidUPP0oZ+4K6U8CRTp3PGb6mSA9tNgX2Rr7WoggOjmCYwGfpk1rSjDYOxrle6J4s6EtWvRPIj9PEx3tx6CE+PPLL9OFwXR6x+0/XJ7bV9dIL0SiSwmVIqLyJ/ldY53pfEKZwxTlLt3xlPh1+SG4bb237Ef6pv8r/Uk+wZcpt8i0qjl38Sp3z7422VB8mXL5UcxR5vXRJ9bbfUuUPwka5WL5Unx2hbzm0QN75nBy/JcbqPNCMouhh7rlx/ufkAM0QXLuA6XuE2se7Fnrl6b1bQ8sm3jiif3yoRa+TGm+jplQNBuE8XOWab/djICDtDcfmTXrHpWG0zSC43iBckh/7cf+qOFGAiQZZpY98KEaSvjuRPKPdmd5LZC1J4sHsrmFAOtQ7rLpDUXJpIwcuqMm+HaaaoPx07F+fQekYy0VrTIMNPwHN7bNRaDIoJrvlKWjjWgBJfkxRrqjSkA0tXKwscgqjcbuBBO/qTCpgaqCJOdrZOmjNId1Br+XEmP+YumsHVaN2HZ5NP6kCkGNbaP8IjW2xakI0kEnpyz5uiq1XYo34lj5UNoKlhwTBytzZKRkx6O2mA2Jvdykp2QzWwFmNxXRdYUYMX2lo5Lnr154+qzhZDfp2ZUXrj5vrHpdtZNusv5gh3vi+nNXX55uvEN5002LxLFUzwfvmbNUvP6That/5fBJEgS9pHbvLy9swS+ZLKx4XKx6t/YepBpHbvnqh5TTyCtl2zxC2d9CoJUs6O1JyTp+7fPbpj3zU/puycaDnm1vlce5j0g2iMev3bZaSM5X7lT+3CJ18Y97eyYVToKyZsKethOB7hweaHh/4zkvuV3cuU1sCzdIn1YHZuQUGz34hZONYmH8zlv32z3T8zUoZibsaTtRaNWt9WLjFHQIeXGa8ud2VdevEOSRMu6FJbBTruxvkJEqLAye2/YOfSll3JSNov79oPTtjisyJ4ivTqLet0wuqpvSFJwTwzAf3Zp3F86cOXat2LJGE9L+tlhu/dlTVWLP8m96PN98dbLy5xa3/mwfvsWFRP9rSwP7pNNqMuLS1/zIufz83Q9YctNL5awLB6cHZt+saTf7QsuDYfL8hqI5peUu4bK/PQlECDZ+zXfAG3xb+nZDjhmKF4m1M8fOnLmko/hFcmTPXVb9kOhYAgjMXCsWKQxzixa5dYDlCbLFzcKJidtrju5ZdrTq6wUFX//huWkLJAMSpz39QyRWHV2252hNwm2O5Esdp62DFDN+7aM/ivy6dtcnYv7mF596v3bsrFljZy3ZJB7t2nyv5FCxtu7tl6c/Nhk/NnLzorNbzx9YoJG79iKkvLT06HKh7G8hCpaL9fhlksnrxdN9QRwcE0tXFUQ25N688nju2u3LxcHF6JFy8MGXHxLK/laVDPFn/uq17ou73DNmfGONeHLtRCHt7ziht4GRLejtSZlxW81Lu+/etfAbM2Z8Y8aag/N2//cKvCGXeYOIc+cscOu/LpwlPwWTKGD82mZ8RZVwrj34ox1vLU02uSWWBYrjIEL6wnl3iDti3p4EKoSSTQcCURpKnuV+UfXupplAdAqp14KDse9Q3jTAC/dOFdhoA9vcNmZOXjMEcuai80lXNKsVkjtNzNZ+VsWzMEbg+iOAsyc6Z+Nxbv1EqZCdiBlXr6r3YBaSI7ckXW02zHNZKD6+pwm/SfLMz76FiaZ7ZPa3fvbMkT8t/hadYPqvyHPkr+hYQjQr+u7e11+/hOHnJd/9+SXjfUowutc+/3qsYW1yvn5JOpaML3/r9efXquUJc/d+l+QinWT+/D44nzZBciADVWQUhzwVbqtpa6vBVdVMQIaZNhNAFPO3vvv51tmYij+0inbDt6RdOpbM237+i+3KMMXcY4+gMS0EptH/5Py72xvePR9rnS8MXnqOrDUzAfWYaTMBRAiu6jPoCnLp0nNeOKN/oyOKnyPHki8vBRcWBzEWAtkMdxF7GqR9qcxrbf0ZdEdBaQYnSJTB+j43vjp5XjWyQTVM8mD8T8veQseS05dbls1f1gJxnKevuPXH/yUfZ29CAO++41YsJWbulcRweK+19Kcmbtq7KfxfP5bFSYYQCxr1K8ZWji0NprNumMv47e0rOrqL2L/AnVsZvhI2355EHiMX05LflKwqE2L+k6cvP7lsbQt+t+Ty6ScNr6jvPSsRON2ydpnxRqmCxeRBGUm+z33fvu7uzzFs37e9+4xP2tcmsXsfdmchbved6T5qGN+Yq+goOMnhpMP8zW9cRhv63mffoO9zj1/61hvNajTdu/mySoM5+IbyLYl1LFE1zTtwhb43cuVKRL7muOB5ciy58mVwXkkQY8VY+GREcr4Nhi/R8LVLKIt3/8hJuQcWoMADC4TA3PfwtUsUiDxYxiTiiTxuW/HfZ16iwSuEPf39wGdnAnhdkEheIi+tmL/iJfk+5fzAmc9i3EXAyD4Ta1h/f98ZKgWx5EQ5RkWyalGivs+trXvrUmStHNwmUfHQD2ILMG6ejwkDZGEgjyyYVjhvjr2xEcL+XW1bGkxtcxQ4jheR++N9f7P5jcSVVb4lNgZUJOFwXguke7daIYwfXClKnr961bhcCbJSEdjmToXOkPP6m4o1hz/zm4PJK6AvpYQCexIe9CUvMlBOP7pKl/kTP/88UMFRkE/ezwlIFyc+Jx0FbWEVGYF0EPhjxf0rYYsOWdG3ZILbeDMTKTfS0eEbM0N9ChB9S/KnZfvts+yCdbrCIz8FKAT6ltxReKNel+zCxtKGEQEWPXIQYJt7WK+FdKJQHgDWT0M6XjroQWF6GmRDS1ImraqzUdu1lUGeGBbAKmX43lxbXbi2a4zAwfnwtO9I1io9vvKmmxYdzJq4YRP03brVwv9T+p84G8MPbTM3woetwusluHjzNlF3J32ixNtSHkrYn75eeiWpd2ZdlVBfS7DcSJLwMpkRYASuIwJZXjuEwNcxJ6X01Web+zpeb676uiPACoxyBFzrztEDP+Urko3W4ENDkPneOuWYQjIXfHPBUMJ9Y+/Lfij8dx30lKF5Qzry77rlrqGEm12ubIWxN41NPxRs6JathPiFRRkUTL8K4Eyzbd/5xndShB+M+8EP7vqPD0BRGQ5uQgoQsxQmfG3CtQwpWppO1j/+r3+MC/m35GcrJOLgqNL3vvG9IYabvva19IKrtuvquY2u9JjTlKnYpn99+nUMaQ7WIeKc3ZEyoDQxDGuHEBPXvUcjP7nbCdvctKJyxAgwAowAI8AIXDcEuGJGgBG48RFgm/vGv8bcQkaAEWAEGAFGgBFgBBiB64vAaLC5ry9CXDsjwAgwAowAI8AIMAKMACMwNATY5h4aflyaEWAEvjoIcEsZAUaAEWAEGIHBIsA292CR43KMACPACDACjAAjwAhcewS4xtGJwP8HAAD//1NBem4AAAAGSURBVAMAK3qBRMseglQAAAAASUVORK5CYII=)"
      ],
      "metadata": {
        "id": "fGztLzA1HaV6"
      }
    },
    {
      "cell_type": "code",
      "source": [],
      "metadata": {
        "id": "AkDvaWsdEtQx"
      },
      "execution_count": null,
      "outputs": []
    }
  ]
}